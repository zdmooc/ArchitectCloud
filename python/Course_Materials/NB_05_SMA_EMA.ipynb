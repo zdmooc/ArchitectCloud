{
 "cells": [
  {
   "cell_type": "markdown",
   "metadata": {},
   "source": [
    "# Creating and Backtesting SMA/EMA Crossovers"
   ]
  },
  {
   "cell_type": "markdown",
   "metadata": {},
   "source": [
    "## Creating the SMAEMABacktester Class (based on EMABacktester)"
   ]
  },
  {
   "cell_type": "code",
   "execution_count": null,
   "metadata": {},
   "outputs": [],
   "source": [
    "import pandas as pd\n",
    "import numpy as np\n",
    "import matplotlib.pyplot as plt\n",
    "from scipy.optimize import brute\n",
    "plt.style.use(\"seaborn\")"
   ]
  },
  {
   "cell_type": "code",
   "execution_count": null,
   "metadata": {},
   "outputs": [],
   "source": [
    "# make the necessary changes!\n",
    "\n",
    "class EMABacktester(): \n",
    "    ''' Class for the vectorized backtesting of EMA-based trading strategies.\n",
    "\n",
    "    Attributes\n",
    "    ==========\n",
    "    symbol: str\n",
    "        ticker symbol with which to work with\n",
    "    EMA_S: int\n",
    "        time window in days for shorter EMA\n",
    "    EMA_L: int\n",
    "        time window in days for longer EMA\n",
    "    start: str\n",
    "        start date for data retrieval\n",
    "    end: str\n",
    "        end date for data retrieval\n",
    "    tc: float\n",
    "        proportional transaction costs per trade\n",
    "        \n",
    "        \n",
    "    Methods\n",
    "    =======\n",
    "    get_data:\n",
    "        retrieves and prepares the data\n",
    "        \n",
    "    set_parameters:\n",
    "        sets one or two new EMA parameters\n",
    "        \n",
    "    test_strategy:\n",
    "        runs the backtest for the EMA-based strategy\n",
    "        \n",
    "    plot_results:\n",
    "        plots the performance of the strategy compared to buy and hold\n",
    "        \n",
    "    update_and_run:\n",
    "        updates EMA parameters and returns the negative absolute performance (for minimization algorithm)\n",
    "        \n",
    "    optimize_parameters:\n",
    "        implements a brute force optimization for the two EMA parameters\n",
    "    '''\n",
    "    \n",
    "    def __init__(self, symbol, EMA_S, EMA_L, start, end, tc):\n",
    "        self.symbol = symbol\n",
    "        self.EMA_S = EMA_S\n",
    "        self.EMA_L = EMA_L\n",
    "        self.start = start\n",
    "        self.end = end\n",
    "        self.tc = tc\n",
    "        self.results = None \n",
    "        self.get_data()\n",
    "        \n",
    "    def __repr__(self):\n",
    "        return \"EMABacktester(symbol = {}, EMA_S = {}, EMA_L = {}, start = {}, end = {})\".format(self.symbol, self.EMA_S, self.EMA_L, self.start, self.end)\n",
    "        \n",
    "    def get_data(self):\n",
    "        ''' Retrieves and prepares the data.\n",
    "        '''\n",
    "        raw = pd.read_csv(\"forex_pairs.csv\", parse_dates = [\"Date\"], index_col = \"Date\")\n",
    "        raw = raw[self.symbol].to_frame().dropna()\n",
    "        raw = raw.loc[self.start:self.end]\n",
    "        raw.rename(columns={self.symbol: \"price\"}, inplace=True)\n",
    "        raw[\"returns\"] = np.log(raw / raw.shift(1))\n",
    "        raw[\"EMA_S\"] = raw[\"price\"].ewm(span = self.EMA_S, min_periods = self.EMA_S).mean() \n",
    "        raw[\"EMA_L\"] = raw[\"price\"].ewm(span = self.EMA_L, min_periods = self.EMA_L).mean() \n",
    "        self.data = raw\n",
    "        \n",
    "    def set_parameters(self, EMA_S = None, EMA_L = None):\n",
    "        ''' Updates EMA parameters and resp. time series.\n",
    "        '''\n",
    "        if EMA_S is not None:\n",
    "            self.EMA_S = EMA_S\n",
    "            self.data[\"EMA_S\"] = self.data[\"price\"].ewm(span = self.EMA_S, min_periods = self.EMA_S).mean() \n",
    "        if EMA_L is not None:\n",
    "            self.EMA_L = EMA_L\n",
    "            self.data[\"EMA_L\"] = self.data[\"price\"].ewm(span = self.EMA_L, min_periods = self.EMA_L).mean()\n",
    "            \n",
    "    def test_strategy(self):\n",
    "        ''' Backtests the trading strategy.\n",
    "        '''\n",
    "        data = self.data.copy().dropna()\n",
    "        data[\"position\"] = np.where(data[\"EMA_S\"] > data[\"EMA_L\"], 1, -1)\n",
    "        data[\"strategy\"] = data[\"position\"].shift(1) * data[\"returns\"]\n",
    "        data.dropna(inplace=True)\n",
    "        \n",
    "        # determine when a trade takes place\n",
    "        data[\"trades\"] = data.position.diff().fillna(0).abs()\n",
    "        \n",
    "        # subtract transaction costs from return when trade takes place\n",
    "        data.strategy = data.strategy - data.trades * self.tc\n",
    "        \n",
    "        data[\"creturns\"] = data[\"returns\"].cumsum().apply(np.exp)\n",
    "        data[\"cstrategy\"] = data[\"strategy\"].cumsum().apply(np.exp)\n",
    "        self.results = data\n",
    "        \n",
    "        perf = data[\"cstrategy\"].iloc[-1] # absolute performance of the strategy\n",
    "        outperf = perf - data[\"creturns\"].iloc[-1] # out-/underperformance of strategy\n",
    "        return round(perf, 6), round(outperf, 6)\n",
    "    \n",
    "    def plot_results(self):\n",
    "        ''' Plots the cumulative performance of the trading strategy\n",
    "        compared to buy and hold.\n",
    "        '''\n",
    "        if self.results is None:\n",
    "            print(\"No results to plot yet. Run a strategy.\")\n",
    "        else:\n",
    "            title = \"{} | EMA_S = {} | EMA_L = {} | TC = {}\".format(self.symbol, self.EMA_S, self.EMA_L, self.tc)\n",
    "            self.results[[\"creturns\", \"cstrategy\"]].plot(title=title, figsize=(12, 8))\n",
    "        \n",
    "    def update_and_run(self, EMA):\n",
    "        ''' Updates EMA parameters and returns the negative absolute performance (for minimazation algorithm).\n",
    "\n",
    "        Parameters\n",
    "        ==========\n",
    "        EMA: tuple\n",
    "            EMA parameter tuple\n",
    "        '''\n",
    "        self.set_parameters(int(EMA[0]), int(EMA[1]))\n",
    "        return -self.test_strategy()[0]\n",
    "    \n",
    "    def optimize_parameters(self, EMA1_range, EMA2_range):\n",
    "        ''' Finds global maximum given the EMA parameter ranges.\n",
    "\n",
    "        Parameters\n",
    "        ==========\n",
    "        EMA1_range, EMA2_range: tuple\n",
    "            tuples of the form (start, end, step size)\n",
    "        '''\n",
    "        opt = brute(self.update_and_run, (EMA1_range, EMA2_range), finish=None)\n",
    "        return opt, -self.update_and_run(opt)\n",
    "    \n",
    "    "
   ]
  },
  {
   "cell_type": "code",
   "execution_count": null,
   "metadata": {},
   "outputs": [],
   "source": []
  },
  {
   "cell_type": "markdown",
   "metadata": {},
   "source": [
    "## Using the SMAEMABacktester Class"
   ]
  },
  {
   "cell_type": "code",
   "execution_count": null,
   "metadata": {},
   "outputs": [],
   "source": [
    "import pandas as pd\n",
    "import numpy as np\n",
    "import matplotlib.pyplot as plt\n",
    "from scipy.optimize import brute\n",
    "plt.style.use(\"seaborn\")"
   ]
  },
  {
   "cell_type": "code",
   "execution_count": null,
   "metadata": {},
   "outputs": [],
   "source": [
    "from SMAEMABacktester import SMAEMABacktester as SMAEMA"
   ]
  },
  {
   "cell_type": "code",
   "execution_count": null,
   "metadata": {},
   "outputs": [],
   "source": [
    "pd.read_csv(\"forex_pairs.csv\")"
   ]
  },
  {
   "cell_type": "markdown",
   "metadata": {},
   "source": [
    "__EUR / USD__"
   ]
  },
  {
   "cell_type": "code",
   "execution_count": null,
   "metadata": {},
   "outputs": [],
   "source": [
    "ptc = 0.00007"
   ]
  },
  {
   "cell_type": "code",
   "execution_count": null,
   "metadata": {},
   "outputs": [],
   "source": [
    "tester = SMAEMA(\"EURUSD=X\", 50, 50, \"2004-01-01\", \"2020-06-30\", ptc)\n",
    "tester"
   ]
  },
  {
   "cell_type": "code",
   "execution_count": null,
   "metadata": {},
   "outputs": [],
   "source": [
    "tester.data"
   ]
  },
  {
   "cell_type": "code",
   "execution_count": null,
   "metadata": {},
   "outputs": [],
   "source": [
    "tester.test_strategy()"
   ]
  },
  {
   "cell_type": "code",
   "execution_count": null,
   "metadata": {},
   "outputs": [],
   "source": [
    "tester.plot_results()"
   ]
  },
  {
   "cell_type": "code",
   "execution_count": null,
   "metadata": {},
   "outputs": [],
   "source": [
    "tester.optimize_parameters((20, 100, 1), (20, 100, 1))"
   ]
  },
  {
   "cell_type": "code",
   "execution_count": null,
   "metadata": {},
   "outputs": [],
   "source": [
    "tester.plot_results()"
   ]
  },
  {
   "cell_type": "code",
   "execution_count": null,
   "metadata": {},
   "outputs": [],
   "source": [
    "tester.results"
   ]
  },
  {
   "cell_type": "code",
   "execution_count": null,
   "metadata": {},
   "outputs": [],
   "source": []
  },
  {
   "cell_type": "markdown",
   "metadata": {},
   "source": [
    "__AUD / EUR__"
   ]
  },
  {
   "cell_type": "code",
   "execution_count": null,
   "metadata": {},
   "outputs": [],
   "source": [
    "tester = SMAEMA(\"AUDEUR=X\", 50, 50, \"2004-01-01\", \"2020-06-30\", 0)"
   ]
  },
  {
   "cell_type": "code",
   "execution_count": null,
   "metadata": {},
   "outputs": [],
   "source": [
    "tester.test_strategy()"
   ]
  },
  {
   "cell_type": "code",
   "execution_count": null,
   "metadata": {},
   "outputs": [],
   "source": [
    "tester.plot_results()"
   ]
  },
  {
   "cell_type": "code",
   "execution_count": null,
   "metadata": {},
   "outputs": [],
   "source": [
    "tester.optimize_parameters((20, 100, 1), (20, 100, 1))"
   ]
  },
  {
   "cell_type": "code",
   "execution_count": null,
   "metadata": {},
   "outputs": [],
   "source": [
    "tester.plot_results()"
   ]
  },
  {
   "cell_type": "code",
   "execution_count": null,
   "metadata": {},
   "outputs": [],
   "source": []
  }
 ],
 "metadata": {
  "kernelspec": {
   "display_name": "Python 3",
   "language": "python",
   "name": "python3"
  },
  "language_info": {
   "codemirror_mode": {
    "name": "ipython",
    "version": 3
   },
   "file_extension": ".py",
   "mimetype": "text/x-python",
   "name": "python",
   "nbconvert_exporter": "python",
   "pygments_lexer": "ipython3",
   "version": "3.8.5"
  }
 },
 "nbformat": 4,
 "nbformat_minor": 4
}
