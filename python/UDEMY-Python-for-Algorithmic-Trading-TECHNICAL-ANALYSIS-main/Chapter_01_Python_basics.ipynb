{
  "nbformat": 4,
  "nbformat_minor": 0,
  "metadata": {
    "colab": {
      "name": "Python basics.ipynb",
      "provenance": [],
      "collapsed_sections": [
        "nJYyIbZ_WbFT",
        "DuY3oXKNWd1h",
        "iEQQbsVFWkKi",
        "JUULnsP_Xemv",
        "cGqtdDyYX1Dk",
        "EMAdDk_6YXgw",
        "Kd-SYHI-ZF85",
        "2UHCKDk8bJEf",
        "W9Vc62veaNKg",
        "7xKs11J6akHQ",
        "wwObVh1w9Wl9",
        "-9ElsbKP-xvK",
        "0KASxCEe_dXD",
        "emrr2xJjhmKd",
        "4NWfx4mRhpgX",
        "S0TnQtBMfRXB",
        "F8rax_dDgnFI",
        "z8mkGo3_Bmew",
        "E6gHyLh1Bzh5",
        "oYh-hMSTB1Ur",
        "KE9L44nED-JK",
        "Qy6T6HOiGHaN",
        "7ilLgwf1HIMw",
        "MLRfDnNGHUkI",
        "EdYvgavpJPGK",
        "xLPPB2NOJUSq",
        "XM6mdryCRCAm",
        "D5KoCwIFT27I",
        "aH-i3Tn3UjJ_"
      ]
    },
    "kernelspec": {
      "name": "python3",
      "display_name": "Python 3"
    }
  },
  "cells": [
    {
      "cell_type": "markdown",
      "metadata": {
        "id": "HwIk5lNgltIS"
      },
      "source": [
        "<p><img alt=\"Colaboratory logo\" height=\"45px\" src=\"https://www.quantreo.com/wp-content/uploads/2021/04/cropped-Logo_Quantreo_transparent.png\" align=\"left\" hspace=\"10px\" vspace=\"0px\"></p>\n",
        "\n",
        "# PREREQUISITES  - **Python basics**\n",
        "\n",
        "This chapter will give you the python basics you need to follow the rest of the course.\n",
        "These are only reminders of what will be useful. That's why I advise you to follow a free quick Python training for your personal projects because if you are totally strangers to it, it can be hard to do your own project.\n",
        "\n",
        "### Part 1: The Python basics\n",
        "* Data operations:\n",
        "> * Numbers , Strings, Booleans\n",
        "> * Tuples, Lists\n",
        "> * Variable assignment\n",
        "* Python Structures:\n",
        "> * If/Elif/Else\n",
        "> * FOR\n",
        "> * While\n",
        "* The Functions\n",
        "\n",
        "### Part 2: Data Management\n",
        "* Numpy:\n",
        "> * Numpy table creation\n",
        "> * Random with Numpy\n",
        "> * Indexing and slixing\n",
        "\n",
        "* Pandas:\n",
        "> * Series and dataframe \n",
        "> * Useful pandas functions\n",
        "> * Indexing and slixing\n",
        "\n",
        "* Matplotlib\n",
        "> * Graphs\n",
        "> * Point clouds\n",
        "> * Useful functions\n",
        "\n",
        "\n",
        "\n",
        "\n",
        "\n"
      ]
    },
    {
      "cell_type": "markdown",
      "metadata": {
        "id": "W98qWfRPpxWX"
      },
      "source": [
        "# PART 1: The python basics\n"
      ]
    },
    {
      "cell_type": "markdown",
      "metadata": {
        "id": "nJYyIbZ_WbFT"
      },
      "source": [
        "### Data operations "
      ]
    },
    {
      "cell_type": "markdown",
      "metadata": {
        "id": "DuY3oXKNWd1h"
      },
      "source": [
        "##### Numbers"
      ]
    },
    {
      "cell_type": "code",
      "metadata": {
        "colab": {
          "base_uri": "https://localhost:8080/"
        },
        "id": "yoYnGbme8kcq",
        "outputId": "2300d215-be25-4915-def1-f73268b1c719"
      },
      "source": [
        "# Addition\n",
        "1 + 1"
      ],
      "execution_count": 2,
      "outputs": [
        {
          "output_type": "execute_result",
          "data": {
            "text/plain": [
              "2"
            ]
          },
          "metadata": {},
          "execution_count": 2
        }
      ]
    },
    {
      "cell_type": "code",
      "metadata": {
        "colab": {
          "base_uri": "https://localhost:8080/"
        },
        "id": "lPQ-ZedRCtL0",
        "outputId": "91cd5544-e0e2-44bb-bd07-ef7baaa43443"
      },
      "source": [
        "# Subtraction\n",
        "5 - 2"
      ],
      "execution_count": 3,
      "outputs": [
        {
          "output_type": "execute_result",
          "data": {
            "text/plain": [
              "3"
            ]
          },
          "metadata": {},
          "execution_count": 3
        }
      ]
    },
    {
      "cell_type": "code",
      "metadata": {
        "colab": {
          "base_uri": "https://localhost:8080/"
        },
        "id": "FSWWYIqBCwlg",
        "outputId": "432a635d-c003-406f-870b-3c5b528e354e"
      },
      "source": [
        "# Multiplication\n",
        "5 * 3"
      ],
      "execution_count": 4,
      "outputs": [
        {
          "output_type": "execute_result",
          "data": {
            "text/plain": [
              "15"
            ]
          },
          "metadata": {},
          "execution_count": 4
        }
      ]
    },
    {
      "cell_type": "code",
      "metadata": {
        "id": "fMQNWXVvC0Sx",
        "colab": {
          "base_uri": "https://localhost:8080/"
        },
        "outputId": "814e7074-30f6-4891-c571-b0e6a657227b"
      },
      "source": [
        "# Division \n",
        "15 / 3"
      ],
      "execution_count": 5,
      "outputs": [
        {
          "output_type": "execute_result",
          "data": {
            "text/plain": [
              "5.0"
            ]
          },
          "metadata": {},
          "execution_count": 5
        }
      ]
    },
    {
      "cell_type": "code",
      "metadata": {
        "colab": {
          "base_uri": "https://localhost:8080/"
        },
        "id": "DH1jRr5_Xxo2",
        "outputId": "1b1ad251-4a34-497c-f2bc-8b7b61ed3f57"
      },
      "source": [
        "# Power\n",
        "2**3"
      ],
      "execution_count": 6,
      "outputs": [
        {
          "output_type": "execute_result",
          "data": {
            "text/plain": [
              "8"
            ]
          },
          "metadata": {},
          "execution_count": 6
        }
      ]
    },
    {
      "cell_type": "code",
      "metadata": {
        "colab": {
          "base_uri": "https://localhost:8080/"
        },
        "id": "abqfE8I2C2cr",
        "outputId": "93486d83-3b9b-438a-bf62-1f2fc6d3f165"
      },
      "source": [
        "# Whole part | 5.33 --> 5\n",
        "16 // 3"
      ],
      "execution_count": 7,
      "outputs": [
        {
          "output_type": "execute_result",
          "data": {
            "text/plain": [
              "5"
            ]
          },
          "metadata": {},
          "execution_count": 7
        }
      ]
    },
    {
      "cell_type": "code",
      "metadata": {
        "colab": {
          "base_uri": "https://localhost:8080/"
        },
        "id": "SnktoxGAC_ew",
        "outputId": "3158c0c4-49b5-4ae1-f80d-dc1e241af87e"
      },
      "source": [
        "# Modulo | 16 = 15*3 + 1 \n",
        "16 % 3"
      ],
      "execution_count": 8,
      "outputs": [
        {
          "output_type": "execute_result",
          "data": {
            "text/plain": [
              "1"
            ]
          },
          "metadata": {},
          "execution_count": 8
        }
      ]
    },
    {
      "cell_type": "markdown",
      "metadata": {
        "id": "iEQQbsVFWkKi"
      },
      "source": [
        "##### String"
      ]
    },
    {
      "cell_type": "code",
      "metadata": {
        "id": "8jOPFgexDF2H",
        "colab": {
          "base_uri": "https://localhost:8080/",
          "height": 0
        },
        "outputId": "df695ace-57c1-47eb-d420-c920d6312535"
      },
      "source": [
        "# Simple string\n",
        "\"Hello\""
      ],
      "execution_count": 9,
      "outputs": [
        {
          "output_type": "execute_result",
          "data": {
            "application/vnd.google.colaboratory.intrinsic+json": {
              "type": "string"
            },
            "text/plain": [
              "'Hello'"
            ]
          },
          "metadata": {},
          "execution_count": 9
        }
      ]
    },
    {
      "cell_type": "code",
      "metadata": {
        "id": "zLAVLu5rWv2a",
        "colab": {
          "base_uri": "https://localhost:8080/",
          "height": 0
        },
        "outputId": "a29bf79a-d3ac-4dbf-8e15-e2444503ab70"
      },
      "source": [
        "# F-string (first possibility)\n",
        "\"Tesla stock price is {} at date {}\".format(515, \"01-01-2019\")"
      ],
      "execution_count": 10,
      "outputs": [
        {
          "output_type": "execute_result",
          "data": {
            "application/vnd.google.colaboratory.intrinsic+json": {
              "type": "string"
            },
            "text/plain": [
              "'Tesla stock price is 515 at date 01-01-2019'"
            ]
          },
          "metadata": {},
          "execution_count": 10
        }
      ]
    },
    {
      "cell_type": "code",
      "metadata": {
        "id": "shGzNr67Wvx0",
        "colab": {
          "base_uri": "https://localhost:8080/",
          "height": 0
        },
        "outputId": "fd32980a-3e83-49cd-a744-b106a206b3a1"
      },
      "source": [
        "# F-string (second possibility)\n",
        "f\"Tesla stock price is {515} at date {'2019-01-01'}\""
      ],
      "execution_count": 11,
      "outputs": [
        {
          "output_type": "execute_result",
          "data": {
            "application/vnd.google.colaboratory.intrinsic+json": {
              "type": "string"
            },
            "text/plain": [
              "'Tesla stock price is 515 at date 2019-01-01'"
            ]
          },
          "metadata": {},
          "execution_count": 11
        }
      ]
    },
    {
      "cell_type": "code",
      "metadata": {
        "colab": {
          "base_uri": "https://localhost:8080/",
          "height": 0
        },
        "id": "ud27MNZYdwSG",
        "outputId": "eb83a62b-0b8d-41ac-d284-d721761b91d2"
      },
      "source": [
        "# Slicing on string\n",
        "\"Hello\"[0:3]"
      ],
      "execution_count": 12,
      "outputs": [
        {
          "output_type": "execute_result",
          "data": {
            "application/vnd.google.colaboratory.intrinsic+json": {
              "type": "string"
            },
            "text/plain": [
              "'Hel'"
            ]
          },
          "metadata": {},
          "execution_count": 12
        }
      ]
    },
    {
      "cell_type": "markdown",
      "metadata": {
        "id": "JUULnsP_Xemv"
      },
      "source": [
        "##### Booleans / logical operations"
      ]
    },
    {
      "cell_type": "code",
      "metadata": {
        "id": "vM_KlXcMWvtr",
        "colab": {
          "base_uri": "https://localhost:8080/"
        },
        "outputId": "ce17791a-577b-45d3-cf4f-d17bcdcba18d"
      },
      "source": [
        "# Boolean type (True)\n",
        "True"
      ],
      "execution_count": 13,
      "outputs": [
        {
          "output_type": "execute_result",
          "data": {
            "text/plain": [
              "True"
            ]
          },
          "metadata": {},
          "execution_count": 13
        }
      ]
    },
    {
      "cell_type": "code",
      "metadata": {
        "id": "53gTC6s5WvsF",
        "colab": {
          "base_uri": "https://localhost:8080/"
        },
        "outputId": "a087cc03-213a-4af6-dc88-0e591c5945c7"
      },
      "source": [
        "# Boolean type (False)\n",
        "False"
      ],
      "execution_count": 14,
      "outputs": [
        {
          "output_type": "execute_result",
          "data": {
            "text/plain": [
              "False"
            ]
          },
          "metadata": {},
          "execution_count": 14
        }
      ]
    },
    {
      "cell_type": "code",
      "metadata": {
        "id": "IoozzT2bdK_u",
        "colab": {
          "base_uri": "https://localhost:8080/"
        },
        "outputId": "5724bc60-d8ab-4416-f62f-eb34ef3c3a4e"
      },
      "source": [
        "# Equality\n",
        "5 == 6 "
      ],
      "execution_count": 15,
      "outputs": [
        {
          "output_type": "execute_result",
          "data": {
            "text/plain": [
              "False"
            ]
          },
          "metadata": {},
          "execution_count": 15
        }
      ]
    },
    {
      "cell_type": "code",
      "metadata": {
        "id": "_f1XD2w3dgY5",
        "colab": {
          "base_uri": "https://localhost:8080/"
        },
        "outputId": "57ffc7ab-d928-4de8-cb89-c8c0f62e234b"
      },
      "source": [
        "# Sup\n",
        "5 < 6"
      ],
      "execution_count": 16,
      "outputs": [
        {
          "output_type": "execute_result",
          "data": {
            "text/plain": [
              "True"
            ]
          },
          "metadata": {},
          "execution_count": 16
        }
      ]
    },
    {
      "cell_type": "code",
      "metadata": {
        "id": "yZj4kBbLdkUo",
        "colab": {
          "base_uri": "https://localhost:8080/"
        },
        "outputId": "efe813b2-0fe9-4f6c-eb40-d47585477cec"
      },
      "source": [
        "# Inf\n",
        "5 > 6"
      ],
      "execution_count": 17,
      "outputs": [
        {
          "output_type": "execute_result",
          "data": {
            "text/plain": [
              "False"
            ]
          },
          "metadata": {},
          "execution_count": 17
        }
      ]
    },
    {
      "cell_type": "code",
      "metadata": {
        "id": "BbEIqsW4ducB",
        "colab": {
          "base_uri": "https://localhost:8080/"
        },
        "outputId": "6573e969-34c1-49bb-c6b0-6cc2b9d9b9f2"
      },
      "source": [
        "# Not Equal\n",
        "5 != 6"
      ],
      "execution_count": 18,
      "outputs": [
        {
          "output_type": "execute_result",
          "data": {
            "text/plain": [
              "True"
            ]
          },
          "metadata": {},
          "execution_count": 18
        }
      ]
    },
    {
      "cell_type": "code",
      "metadata": {
        "id": "15J-4du3d0o-",
        "colab": {
          "base_uri": "https://localhost:8080/"
        },
        "outputId": "9159d5d7-fe2b-483b-b299-088e21c3a9e2"
      },
      "source": [
        "# And \n",
        "(1<2) and (5>6)"
      ],
      "execution_count": 19,
      "outputs": [
        {
          "output_type": "execute_result",
          "data": {
            "text/plain": [
              "False"
            ]
          },
          "metadata": {},
          "execution_count": 19
        }
      ]
    },
    {
      "cell_type": "code",
      "metadata": {
        "id": "XtzLTurHd47e",
        "colab": {
          "base_uri": "https://localhost:8080/"
        },
        "outputId": "9d59a99b-3b0f-4182-c678-5312fbef3be4"
      },
      "source": [
        "# Or\n",
        "(1<2) or (5>6)"
      ],
      "execution_count": 20,
      "outputs": [
        {
          "output_type": "execute_result",
          "data": {
            "text/plain": [
              "True"
            ]
          },
          "metadata": {},
          "execution_count": 20
        }
      ]
    },
    {
      "cell_type": "code",
      "metadata": {
        "id": "pTRdjRHyZKZ7",
        "colab": {
          "base_uri": "https://localhost:8080/"
        },
        "outputId": "27c84061-35fe-4119-87b7-90ac79a779d8"
      },
      "source": [
        "# Not \n",
        "not (1==15)"
      ],
      "execution_count": 21,
      "outputs": [
        {
          "output_type": "execute_result",
          "data": {
            "text/plain": [
              "True"
            ]
          },
          "metadata": {},
          "execution_count": 21
        }
      ]
    },
    {
      "cell_type": "markdown",
      "metadata": {
        "id": "cGqtdDyYX1Dk"
      },
      "source": [
        "##### Variable assignment"
      ]
    },
    {
      "cell_type": "code",
      "metadata": {
        "id": "q3PsKlhZWvlz",
        "colab": {
          "base_uri": "https://localhost:8080/"
        },
        "outputId": "f6024309-5872-4c49-806c-c9316586ae78"
      },
      "source": [
        "x = 5\n",
        "y = 6\n",
        "print(x + y)"
      ],
      "execution_count": 22,
      "outputs": [
        {
          "output_type": "stream",
          "name": "stdout",
          "text": [
            "11\n"
          ]
        }
      ]
    },
    {
      "cell_type": "code",
      "metadata": {
        "id": "NrwwCpCCWvkU",
        "colab": {
          "base_uri": "https://localhost:8080/"
        },
        "outputId": "e82f4241-ce5b-4a69-904b-7bda6827e437"
      },
      "source": [
        "price = 515\n",
        "date = \"01-01-2019\"\n",
        "information = f\"Tesla stock price is {price} at date {date}\"\n",
        "\n",
        "print(price)\n",
        "print(date)\n",
        "print(information)"
      ],
      "execution_count": 23,
      "outputs": [
        {
          "output_type": "stream",
          "name": "stdout",
          "text": [
            "515\n",
            "01-01-2019\n",
            "Tesla stock price is 515 at date 01-01-2019\n"
          ]
        }
      ]
    },
    {
      "cell_type": "code",
      "metadata": {
        "id": "ufENsej-WveT",
        "colab": {
          "base_uri": "https://localhost:8080/"
        },
        "outputId": "c08685c8-6995-4f67-a221-46ee5cd2e677"
      },
      "source": [
        "market_open = True\n",
        "market_open"
      ],
      "execution_count": 24,
      "outputs": [
        {
          "output_type": "execute_result",
          "data": {
            "text/plain": [
              "True"
            ]
          },
          "metadata": {},
          "execution_count": 24
        }
      ]
    },
    {
      "cell_type": "markdown",
      "metadata": {
        "id": "EMAdDk_6YXgw"
      },
      "source": [
        "##### Tuples, lists"
      ]
    },
    {
      "cell_type": "code",
      "metadata": {
        "id": "WY3Eyz5PWvcm",
        "colab": {
          "base_uri": "https://localhost:8080/"
        },
        "outputId": "995b9c51-d98f-4f1d-ef8e-1fd4ee61386e"
      },
      "source": [
        "# Tuple\n",
        "mean_variance_couple = (6,11)\n",
        "print(mean_variance_couple)"
      ],
      "execution_count": 25,
      "outputs": [
        {
          "output_type": "stream",
          "name": "stdout",
          "text": [
            "(6, 11)\n"
          ]
        }
      ]
    },
    {
      "cell_type": "code",
      "metadata": {
        "id": "L7RGe8QgWvYt",
        "colab": {
          "base_uri": "https://localhost:8080/"
        },
        "outputId": "b2bb2f76-3fbf-4dc1-90ec-739bdceff228"
      },
      "source": [
        "# List creation\n",
        "my_list = [1,2,3,4,5,6,7,8,9,10]\n",
        "print(my_list)"
      ],
      "execution_count": 26,
      "outputs": [
        {
          "output_type": "stream",
          "name": "stdout",
          "text": [
            "[1, 2, 3, 4, 5, 6, 7, 8, 9, 10]\n"
          ]
        }
      ]
    },
    {
      "cell_type": "code",
      "metadata": {
        "id": "OSQw1R5yWvPy",
        "colab": {
          "base_uri": "https://localhost:8080/"
        },
        "outputId": "972bd17e-0d55-43ce-f5e2-88443db3f0a3"
      },
      "source": [
        "# Adding value\n",
        "my_list.append(11)\n",
        "print(my_list)"
      ],
      "execution_count": 27,
      "outputs": [
        {
          "output_type": "stream",
          "name": "stdout",
          "text": [
            "[1, 2, 3, 4, 5, 6, 7, 8, 9, 10, 11]\n"
          ]
        }
      ]
    },
    {
      "cell_type": "code",
      "metadata": {
        "id": "i391z7t4ZwnM",
        "colab": {
          "base_uri": "https://localhost:8080/"
        },
        "outputId": "646b46ec-d5dd-434c-925d-927e626d4ad5"
      },
      "source": [
        "# Indexing\n",
        "my_list[0]"
      ],
      "execution_count": 28,
      "outputs": [
        {
          "output_type": "execute_result",
          "data": {
            "text/plain": [
              "1"
            ]
          },
          "metadata": {},
          "execution_count": 28
        }
      ]
    },
    {
      "cell_type": "code",
      "metadata": {
        "id": "owXGp0IsZ3Lg",
        "colab": {
          "base_uri": "https://localhost:8080/"
        },
        "outputId": "d4b8a2e1-b707-47f2-cb6b-3d7241d4b5e3"
      },
      "source": [
        "# Value range selection\n",
        "my_list[0:6]"
      ],
      "execution_count": 29,
      "outputs": [
        {
          "output_type": "execute_result",
          "data": {
            "text/plain": [
              "[1, 2, 3, 4, 5, 6]"
            ]
          },
          "metadata": {},
          "execution_count": 29
        }
      ]
    },
    {
      "cell_type": "code",
      "metadata": {
        "id": "g5SsaYNjZ6Jo",
        "colab": {
          "base_uri": "https://localhost:8080/"
        },
        "outputId": "f5a34689-89f9-4c82-96a2-e9bacd93fa74"
      },
      "source": [
        "# Delete a value\n",
        "del my_list[0]\n",
        "print(my_list)"
      ],
      "execution_count": 30,
      "outputs": [
        {
          "output_type": "stream",
          "name": "stdout",
          "text": [
            "[2, 3, 4, 5, 6, 7, 8, 9, 10, 11]\n"
          ]
        }
      ]
    },
    {
      "cell_type": "code",
      "metadata": {
        "colab": {
          "base_uri": "https://localhost:8080/"
        },
        "id": "JH1xzsjTZOhr",
        "outputId": "cc8a2955-7297-48aa-be9b-1621a79d9883"
      },
      "source": [
        "# Bonus: Nested List\n",
        "my_list = [[1,15], 3]\n",
        "\n",
        "# Print the sublist\n",
        "print(my_list[0])\n",
        "\n",
        "# Print value 15\n",
        "my_list[0][1]"
      ],
      "execution_count": 31,
      "outputs": [
        {
          "output_type": "stream",
          "name": "stdout",
          "text": [
            "[1, 15]\n"
          ]
        },
        {
          "output_type": "execute_result",
          "data": {
            "text/plain": [
              "15"
            ]
          },
          "metadata": {},
          "execution_count": 31
        }
      ]
    },
    {
      "cell_type": "markdown",
      "metadata": {
        "id": "Kd-SYHI-ZF85"
      },
      "source": [
        "##### Dictionary"
      ]
    },
    {
      "cell_type": "code",
      "metadata": {
        "colab": {
          "base_uri": "https://localhost:8080/"
        },
        "id": "7PasvUGAZw7L",
        "outputId": "f8d06efb-e196-45b1-816c-99ab7b0541ae"
      },
      "source": [
        "# Initialize a dictionnary\n",
        "dictio = {}\n",
        "dictio"
      ],
      "execution_count": 32,
      "outputs": [
        {
          "output_type": "execute_result",
          "data": {
            "text/plain": [
              "{}"
            ]
          },
          "metadata": {},
          "execution_count": 32
        }
      ]
    },
    {
      "cell_type": "code",
      "metadata": {
        "colab": {
          "base_uri": "https://localhost:8080/"
        },
        "id": "FngIfxOfZ-o5",
        "outputId": "64b0d972-f755-4ea8-f96b-263a881205dd"
      },
      "source": [
        "# Initialize with values\n",
        "dictio = {\"TSLA Price\": 1500}\n",
        "dictio"
      ],
      "execution_count": 33,
      "outputs": [
        {
          "output_type": "execute_result",
          "data": {
            "text/plain": [
              "{'TSLA Price': 1500}"
            ]
          },
          "metadata": {},
          "execution_count": 33
        }
      ]
    },
    {
      "cell_type": "code",
      "metadata": {
        "colab": {
          "base_uri": "https://localhost:8080/"
        },
        "id": "XT9t_7nraYJL",
        "outputId": "674c5de0-f6d8-486c-f146-7c1af8f087a8"
      },
      "source": [
        "# Add a value\n",
        "dictio[\"GOOG Price\"] = 1300\n",
        "dictio"
      ],
      "execution_count": 34,
      "outputs": [
        {
          "output_type": "execute_result",
          "data": {
            "text/plain": [
              "{'GOOG Price': 1300, 'TSLA Price': 1500}"
            ]
          },
          "metadata": {},
          "execution_count": 34
        }
      ]
    },
    {
      "cell_type": "code",
      "metadata": {
        "colab": {
          "base_uri": "https://localhost:8080/"
        },
        "id": "t4GhmGtdapWP",
        "outputId": "c8907d03-51e8-4e0b-82f6-08065657c900"
      },
      "source": [
        "# Extract a value\n",
        "dictio[\"TSLA Price\"]"
      ],
      "execution_count": 35,
      "outputs": [
        {
          "output_type": "execute_result",
          "data": {
            "text/plain": [
              "1500"
            ]
          },
          "metadata": {},
          "execution_count": 35
        }
      ]
    },
    {
      "cell_type": "markdown",
      "metadata": {
        "id": "2UHCKDk8bJEf"
      },
      "source": [
        "##### Sets"
      ]
    },
    {
      "cell_type": "code",
      "metadata": {
        "colab": {
          "base_uri": "https://localhost:8080/"
        },
        "id": "viHNp-EHbQ9H",
        "outputId": "5a99536d-db9d-408e-ca37-91aa1407f108"
      },
      "source": [
        "# Create a set\n",
        "{1,3,9}"
      ],
      "execution_count": 36,
      "outputs": [
        {
          "output_type": "execute_result",
          "data": {
            "text/plain": [
              "{1, 3, 9}"
            ]
          },
          "metadata": {},
          "execution_count": 36
        }
      ]
    },
    {
      "cell_type": "code",
      "metadata": {
        "colab": {
          "base_uri": "https://localhost:8080/"
        },
        "id": "_E1aFnTcbYpJ",
        "outputId": "3f812dd9-59ed-463e-dba4-aca3a448a6ff"
      },
      "source": [
        "# View a property\n",
        "{1,1,1,1,1,1,1,1,3,3,3,9,9,9}"
      ],
      "execution_count": 37,
      "outputs": [
        {
          "output_type": "execute_result",
          "data": {
            "text/plain": [
              "{1, 3, 9}"
            ]
          },
          "metadata": {},
          "execution_count": 37
        }
      ]
    },
    {
      "cell_type": "code",
      "metadata": {
        "colab": {
          "base_uri": "https://localhost:8080/"
        },
        "id": "2kc9rLF6be3l",
        "outputId": "4e876003-3775-4bc7-c0de-fbde3e484808"
      },
      "source": [
        "# Create a list\n",
        "my_list = [\"Finance\", \"Finance\", \"Finance\"]\n",
        "\n",
        "# Transform the list into a set\n",
        "set(my_list)"
      ],
      "execution_count": 38,
      "outputs": [
        {
          "output_type": "execute_result",
          "data": {
            "text/plain": [
              "{'Finance'}"
            ]
          },
          "metadata": {},
          "execution_count": 38
        }
      ]
    },
    {
      "cell_type": "code",
      "metadata": {
        "colab": {
          "base_uri": "https://localhost:8080/"
        },
        "id": "s2b-8LgkcLs1",
        "outputId": "dc66aefc-7894-4433-c6f2-ca3d560db629"
      },
      "source": [
        "# Add a value\n",
        "s = {1,3,15}\n",
        "print(s)\n",
        "\n",
        "s.add(56)\n",
        "print(s)"
      ],
      "execution_count": 39,
      "outputs": [
        {
          "output_type": "stream",
          "name": "stdout",
          "text": [
            "{1, 3, 15}\n",
            "{56, 1, 3, 15}\n"
          ]
        }
      ]
    },
    {
      "cell_type": "markdown",
      "metadata": {
        "id": "W9Vc62veaNKg"
      },
      "source": [
        "### Python Structures"
      ]
    },
    {
      "cell_type": "markdown",
      "metadata": {
        "id": "7xKs11J6akHQ"
      },
      "source": [
        "##### If/ Elif/ Else"
      ]
    },
    {
      "cell_type": "code",
      "metadata": {
        "id": "CqZigieEaOkf",
        "colab": {
          "base_uri": "https://localhost:8080/"
        },
        "outputId": "516b5856-8f1c-472a-a01b-f39d311e8f97"
      },
      "source": [
        "# Conditionnal structure IF\n",
        "if 5<6:\n",
        "  print(\"Yes\")"
      ],
      "execution_count": 40,
      "outputs": [
        {
          "output_type": "stream",
          "name": "stdout",
          "text": [
            "Yes\n"
          ]
        }
      ]
    },
    {
      "cell_type": "code",
      "metadata": {
        "id": "neKqpCKn8y9N",
        "colab": {
          "base_uri": "https://localhost:8080/"
        },
        "outputId": "36b96a98-b3b5-4d46-bf13-ce4addfe4606"
      },
      "source": [
        "# Conditionnal structure IF/ ELSE\n",
        "if 5>6:\n",
        "  print(\"Yes\")\n",
        "else:\n",
        "  print(\"No\")"
      ],
      "execution_count": 41,
      "outputs": [
        {
          "output_type": "stream",
          "name": "stdout",
          "text": [
            "No\n"
          ]
        }
      ]
    },
    {
      "cell_type": "code",
      "metadata": {
        "id": "qEKi-yu_873c",
        "colab": {
          "base_uri": "https://localhost:8080/"
        },
        "outputId": "cbf03d43-5af0-4282-b2a4-29bb57ba639c"
      },
      "source": [
        "# Conditionnal structure IF/ ELIF/ ELSE\n",
        "x = 12\n",
        "\n",
        "if x>15:\n",
        "  print(\"X>15\")\n",
        "\n",
        "elif x>10:\n",
        "  print(\"15>x>10\")\n",
        "  \n",
        "else:\n",
        "  print(\"x<10\")"
      ],
      "execution_count": 42,
      "outputs": [
        {
          "output_type": "stream",
          "name": "stdout",
          "text": [
            "15>x>10\n"
          ]
        }
      ]
    },
    {
      "cell_type": "markdown",
      "metadata": {
        "id": "wwObVh1w9Wl9"
      },
      "source": [
        "##### Loop for"
      ]
    },
    {
      "cell_type": "code",
      "metadata": {
        "colab": {
          "base_uri": "https://localhost:8080/"
        },
        "id": "I8BKwywY9iKQ",
        "outputId": "7f55f63b-ffb8-48fa-a616-1ca6d4ff4647"
      },
      "source": [
        "# Loop for with a sequence\n",
        "sequence = [1,2,3,4,5,6]\n",
        "\n",
        "for item in sequence:\n",
        "  print(item)"
      ],
      "execution_count": 43,
      "outputs": [
        {
          "output_type": "stream",
          "name": "stdout",
          "text": [
            "1\n",
            "2\n",
            "3\n",
            "4\n",
            "5\n",
            "6\n"
          ]
        }
      ]
    },
    {
      "cell_type": "code",
      "metadata": {
        "colab": {
          "base_uri": "https://localhost:8080/"
        },
        "id": "-NyTU8609ndX",
        "outputId": "ee3ebd77-e1f4-4df3-fccf-023bca06ee0b"
      },
      "source": [
        "# Loop for with a range\n",
        "for item in range(7):\n",
        "  print(item)"
      ],
      "execution_count": 44,
      "outputs": [
        {
          "output_type": "stream",
          "name": "stdout",
          "text": [
            "0\n",
            "1\n",
            "2\n",
            "3\n",
            "4\n",
            "5\n",
            "6\n"
          ]
        }
      ]
    },
    {
      "cell_type": "code",
      "metadata": {
        "id": "hskUDXYd-fPF",
        "colab": {
          "base_uri": "https://localhost:8080/"
        },
        "outputId": "2c62c29b-cc53-4127-a9dd-088d5ae9a3e2"
      },
      "source": [
        "# Loop in list\n",
        "seq = [i for i in range(7)]\n",
        "print(seq)"
      ],
      "execution_count": 45,
      "outputs": [
        {
          "output_type": "stream",
          "name": "stdout",
          "text": [
            "[0, 1, 2, 3, 4, 5, 6]\n"
          ]
        }
      ]
    },
    {
      "cell_type": "markdown",
      "metadata": {
        "id": "-9ElsbKP-xvK"
      },
      "source": [
        "##### Loop While"
      ]
    },
    {
      "cell_type": "code",
      "metadata": {
        "colab": {
          "base_uri": "https://localhost:8080/"
        },
        "id": "5XyND1LW-zbU",
        "outputId": "c69f57f8-4336-455a-e16b-f35e91623b70"
      },
      "source": [
        "# Loop while\n",
        "i = 1\n",
        "while i <= 15:\n",
        "  print(i)\n",
        "  i = i+1"
      ],
      "execution_count": 46,
      "outputs": [
        {
          "output_type": "stream",
          "name": "stdout",
          "text": [
            "1\n",
            "2\n",
            "3\n",
            "4\n",
            "5\n",
            "6\n",
            "7\n",
            "8\n",
            "9\n",
            "10\n",
            "11\n",
            "12\n",
            "13\n",
            "14\n",
            "15\n"
          ]
        }
      ]
    },
    {
      "cell_type": "markdown",
      "metadata": {
        "id": "0KASxCEe_dXD"
      },
      "source": [
        "### Functions"
      ]
    },
    {
      "cell_type": "markdown",
      "metadata": {
        "id": "emrr2xJjhmKd"
      },
      "source": [
        "##### Basics function"
      ]
    },
    {
      "cell_type": "code",
      "metadata": {
        "id": "n01Kh4uE_e-8"
      },
      "source": [
        "# Basic function\n",
        "def my_function(param1, param2, param3):\n",
        "    \"\"\"\n",
        "    documentation\n",
        "    \"\"\"\n",
        "    return param1 + param2 + param3"
      ],
      "execution_count": 47,
      "outputs": []
    },
    {
      "cell_type": "code",
      "metadata": {
        "colab": {
          "base_uri": "https://localhost:8080/"
        },
        "id": "8wzkxoiYNQsz",
        "outputId": "2e071721-1b5b-4841-af64-ec84daa4ca04"
      },
      "source": [
        "my_function(1,2,3)"
      ],
      "execution_count": 48,
      "outputs": [
        {
          "output_type": "execute_result",
          "data": {
            "text/plain": [
              "6"
            ]
          },
          "metadata": {},
          "execution_count": 48
        }
      ]
    },
    {
      "cell_type": "code",
      "metadata": {
        "id": "8_wiPu6VAskz"
      },
      "source": [
        "# default setting\n",
        "def function_bis(param1, param2 = 3, param3 = 5):\n",
        "  \"\"\"\n",
        "  documentation\n",
        "  \"\"\"\n",
        "  return param1 + param2 + param3"
      ],
      "execution_count": 49,
      "outputs": []
    },
    {
      "cell_type": "code",
      "metadata": {
        "id": "evvLSKsLBECy",
        "colab": {
          "base_uri": "https://localhost:8080/"
        },
        "outputId": "ce6320ef-d3aa-43a1-bc16-6194d8a1c257"
      },
      "source": [
        "function_bis(1)"
      ],
      "execution_count": 50,
      "outputs": [
        {
          "output_type": "execute_result",
          "data": {
            "text/plain": [
              "9"
            ]
          },
          "metadata": {},
          "execution_count": 50
        }
      ]
    },
    {
      "cell_type": "markdown",
      "metadata": {
        "id": "4NWfx4mRhpgX"
      },
      "source": [
        "##### Lambda"
      ]
    },
    {
      "cell_type": "code",
      "metadata": {
        "colab": {
          "base_uri": "https://localhost:8080/"
        },
        "id": "mhxlEyFthuQa",
        "outputId": "992c53cf-e816-49a9-87c6-0ee8a8d91280"
      },
      "source": [
        "# Creation lambda oject\n",
        "lambda x: x**2"
      ],
      "execution_count": 51,
      "outputs": [
        {
          "output_type": "execute_result",
          "data": {
            "text/plain": [
              "<function __main__.<lambda>>"
            ]
          },
          "metadata": {},
          "execution_count": 51
        }
      ]
    },
    {
      "cell_type": "code",
      "metadata": {
        "colab": {
          "base_uri": "https://localhost:8080/"
        },
        "id": "NFQxwMIWh-B_",
        "outputId": "9841367f-ad16-452a-bde8-3aa53a2c10a7"
      },
      "source": [
        "# Create a list to apply a lambda function\n",
        "lis = [1,2,3]\n",
        "\n",
        "# Use map function to apply lambda function to a list\n",
        "generator = map(lambda x: x**2,lis)\n",
        "\n",
        "generator"
      ],
      "execution_count": 52,
      "outputs": [
        {
          "output_type": "execute_result",
          "data": {
            "text/plain": [
              "<map at 0x7f1546f59110>"
            ]
          },
          "metadata": {},
          "execution_count": 52
        }
      ]
    },
    {
      "cell_type": "code",
      "metadata": {
        "colab": {
          "base_uri": "https://localhost:8080/"
        },
        "id": "_AX5enMai7O-",
        "outputId": "0b1401bc-793e-4e65-fb6a-48e647e2dec0"
      },
      "source": [
        "# Map the list\n",
        "list(generator)"
      ],
      "execution_count": 53,
      "outputs": [
        {
          "output_type": "execute_result",
          "data": {
            "text/plain": [
              "[1, 4, 9]"
            ]
          },
          "metadata": {},
          "execution_count": 53
        }
      ]
    },
    {
      "cell_type": "code",
      "metadata": {
        "colab": {
          "base_uri": "https://localhost:8080/"
        },
        "id": "KeW0WEtqjU5K",
        "outputId": "86ba6e4b-c47d-4c45-d89b-62490bde32ea"
      },
      "source": [
        "# Create a function wich verify if the number is odd or not\n",
        "def f(num):\n",
        "  return num%2==0\n",
        "\n",
        "# Filter take only the values wich return True \n",
        "list(filter(f, lis))"
      ],
      "execution_count": 54,
      "outputs": [
        {
          "output_type": "execute_result",
          "data": {
            "text/plain": [
              "[2]"
            ]
          },
          "metadata": {},
          "execution_count": 54
        }
      ]
    },
    {
      "cell_type": "markdown",
      "metadata": {
        "id": "S0TnQtBMfRXB"
      },
      "source": [
        "##### Local Variable"
      ]
    },
    {
      "cell_type": "code",
      "metadata": {
        "colab": {
          "base_uri": "https://localhost:8080/"
        },
        "id": "bV9cH9ASfUfR",
        "outputId": "efd4f68a-66e4-4a66-fa1f-71fb74084593"
      },
      "source": [
        "# variable\n",
        "glo = 50\n",
        "glo"
      ],
      "execution_count": 55,
      "outputs": [
        {
          "output_type": "execute_result",
          "data": {
            "text/plain": [
              "50"
            ]
          },
          "metadata": {},
          "execution_count": 55
        }
      ]
    },
    {
      "cell_type": "code",
      "metadata": {
        "id": "Fbg-A9BkfayT"
      },
      "source": [
        "# Local variable\n",
        "def my_function():\n",
        "  loc = 60\n",
        "  print(glo)"
      ],
      "execution_count": 56,
      "outputs": []
    },
    {
      "cell_type": "code",
      "metadata": {
        "colab": {
          "base_uri": "https://localhost:8080/",
          "height": 215
        },
        "id": "uAJKN7dxfojT",
        "outputId": "1d1e9d26-8696-4c08-b368-d43f2b014c1e"
      },
      "source": [
        "# Glo can go in the function\n",
        "my_function()\n",
        "\n",
        "# But loc can not go out this function it is local to the function\n",
        "print(loc)"
      ],
      "execution_count": 57,
      "outputs": [
        {
          "output_type": "stream",
          "name": "stdout",
          "text": [
            "50\n"
          ]
        },
        {
          "output_type": "error",
          "ename": "NameError",
          "evalue": "ignored",
          "traceback": [
            "\u001b[0;31m---------------------------------------------------------------------------\u001b[0m",
            "\u001b[0;31mNameError\u001b[0m                                 Traceback (most recent call last)",
            "\u001b[0;32m<ipython-input-57-c4ba15d3d69c>\u001b[0m in \u001b[0;36m<module>\u001b[0;34m()\u001b[0m\n\u001b[1;32m      3\u001b[0m \u001b[0;34m\u001b[0m\u001b[0m\n\u001b[1;32m      4\u001b[0m \u001b[0;31m# But loc can not go out this function it is local to the function\u001b[0m\u001b[0;34m\u001b[0m\u001b[0;34m\u001b[0m\u001b[0;34m\u001b[0m\u001b[0m\n\u001b[0;32m----> 5\u001b[0;31m \u001b[0mprint\u001b[0m\u001b[0;34m(\u001b[0m\u001b[0mloc\u001b[0m\u001b[0;34m)\u001b[0m\u001b[0;34m\u001b[0m\u001b[0;34m\u001b[0m\u001b[0m\n\u001b[0m",
            "\u001b[0;31mNameError\u001b[0m: name 'loc' is not defined"
          ]
        }
      ]
    },
    {
      "cell_type": "markdown",
      "metadata": {
        "id": "F8rax_dDgnFI"
      },
      "source": [
        "##### Global Variable"
      ]
    },
    {
      "cell_type": "code",
      "metadata": {
        "id": "7330M1h4gpnQ"
      },
      "source": [
        "# Global variable  \n",
        "\n",
        "def my_function():\n",
        "  global x\n",
        "  x = 3"
      ],
      "execution_count": 118,
      "outputs": []
    },
    {
      "cell_type": "code",
      "metadata": {
        "colab": {
          "base_uri": "https://localhost:8080/"
        },
        "id": "LgzzqLCDgp-M",
        "outputId": "fe7c53c0-a192-48f2-b205-40acd097088c"
      },
      "source": [
        "# Rune the function and print the global variable \n",
        "my_function()\n",
        "print(x)"
      ],
      "execution_count": 119,
      "outputs": [
        {
          "output_type": "stream",
          "name": "stdout",
          "text": [
            "3\n"
          ]
        }
      ]
    },
    {
      "cell_type": "markdown",
      "metadata": {
        "id": "z8mkGo3_Bmew"
      },
      "source": [
        "# Part 2: Data Management"
      ]
    },
    {
      "cell_type": "markdown",
      "metadata": {
        "id": "E6gHyLh1Bzh5"
      },
      "source": [
        "### Numpy"
      ]
    },
    {
      "cell_type": "markdown",
      "metadata": {
        "id": "oYh-hMSTB1Ur"
      },
      "source": [
        "##### Numpy table creation"
      ]
    },
    {
      "cell_type": "code",
      "metadata": {
        "id": "qy75aQjfBqei",
        "colab": {
          "base_uri": "https://localhost:8080/"
        },
        "outputId": "486acc8a-3076-4e39-9207-87e9033cd16b"
      },
      "source": [
        "# Import of numpy\n",
        "import numpy as np\n",
        "\n",
        "# 1D array\n",
        "arr = np.array([1,2,3])\n",
        "print(arr)"
      ],
      "execution_count": 120,
      "outputs": [
        {
          "output_type": "stream",
          "name": "stdout",
          "text": [
            "[1 2 3]\n"
          ]
        }
      ]
    },
    {
      "cell_type": "code",
      "metadata": {
        "id": "WO2_F5w7krek",
        "colab": {
          "base_uri": "https://localhost:8080/"
        },
        "outputId": "f7a0e81e-3ace-4211-cf45-39e8c05b4484"
      },
      "source": [
        "# Linspace function\n",
        "np.linspace(0,50,51)"
      ],
      "execution_count": 121,
      "outputs": [
        {
          "output_type": "execute_result",
          "data": {
            "text/plain": [
              "array([ 0.,  1.,  2.,  3.,  4.,  5.,  6.,  7.,  8.,  9., 10., 11., 12.,\n",
              "       13., 14., 15., 16., 17., 18., 19., 20., 21., 22., 23., 24., 25.,\n",
              "       26., 27., 28., 29., 30., 31., 32., 33., 34., 35., 36., 37., 38.,\n",
              "       39., 40., 41., 42., 43., 44., 45., 46., 47., 48., 49., 50.])"
            ]
          },
          "metadata": {},
          "execution_count": 121
        }
      ]
    },
    {
      "cell_type": "code",
      "metadata": {
        "id": "mfR1z0KWk6H7",
        "colab": {
          "base_uri": "https://localhost:8080/"
        },
        "outputId": "8a00f492-ae79-4fe5-d410-db7f682f485f"
      },
      "source": [
        "# Arrange function\n",
        "np.arange(0,50)"
      ],
      "execution_count": 122,
      "outputs": [
        {
          "output_type": "execute_result",
          "data": {
            "text/plain": [
              "array([ 0,  1,  2,  3,  4,  5,  6,  7,  8,  9, 10, 11, 12, 13, 14, 15, 16,\n",
              "       17, 18, 19, 20, 21, 22, 23, 24, 25, 26, 27, 28, 29, 30, 31, 32, 33,\n",
              "       34, 35, 36, 37, 38, 39, 40, 41, 42, 43, 44, 45, 46, 47, 48, 49])"
            ]
          },
          "metadata": {},
          "execution_count": 122
        }
      ]
    },
    {
      "cell_type": "code",
      "metadata": {
        "id": "JOMnsG3ZCWXi",
        "colab": {
          "base_uri": "https://localhost:8080/"
        },
        "outputId": "3353dedd-9a27-4028-a4cc-b4d03f380541"
      },
      "source": [
        "# 2D array\n",
        "arr_bis = np.array([[1,2,3],\n",
        "                    [5,6,9],\n",
        "            [7,6,9]])\n",
        "arr_bis"
      ],
      "execution_count": 123,
      "outputs": [
        {
          "output_type": "execute_result",
          "data": {
            "text/plain": [
              "array([[1, 2, 3],\n",
              "       [5, 6, 9],\n",
              "       [7, 6, 9]])"
            ]
          },
          "metadata": {},
          "execution_count": 123
        }
      ]
    },
    {
      "cell_type": "code",
      "metadata": {
        "id": "QTRSkxrJCtgC",
        "colab": {
          "base_uri": "https://localhost:8080/"
        },
        "outputId": "2965727e-60e5-4f80-e258-13c629b87c29"
      },
      "source": [
        "# Null matrix\n",
        "O = np.zeros([5,5])\n",
        "O"
      ],
      "execution_count": 124,
      "outputs": [
        {
          "output_type": "execute_result",
          "data": {
            "text/plain": [
              "array([[0., 0., 0., 0., 0.],\n",
              "       [0., 0., 0., 0., 0.],\n",
              "       [0., 0., 0., 0., 0.],\n",
              "       [0., 0., 0., 0., 0.],\n",
              "       [0., 0., 0., 0., 0.]])"
            ]
          },
          "metadata": {},
          "execution_count": 124
        }
      ]
    },
    {
      "cell_type": "code",
      "metadata": {
        "id": "tVFbAMe9C_fw",
        "colab": {
          "base_uri": "https://localhost:8080/"
        },
        "outputId": "3ff4ba50-ff2f-47c3-d5f4-2148d04c73d7"
      },
      "source": [
        "# Identity matrix\n",
        "I = np.identity(5)\n",
        "I"
      ],
      "execution_count": 125,
      "outputs": [
        {
          "output_type": "execute_result",
          "data": {
            "text/plain": [
              "array([[1., 0., 0., 0., 0.],\n",
              "       [0., 1., 0., 0., 0.],\n",
              "       [0., 0., 1., 0., 0.],\n",
              "       [0., 0., 0., 1., 0.],\n",
              "       [0., 0., 0., 0., 1.]])"
            ]
          },
          "metadata": {},
          "execution_count": 125
        }
      ]
    },
    {
      "cell_type": "code",
      "metadata": {
        "id": "WiNy3cSuDM9r",
        "colab": {
          "base_uri": "https://localhost:8080/"
        },
        "outputId": "aef6b147-782a-4ed9-f98d-edbb57c3b4bd"
      },
      "source": [
        "# Ones matrix\n",
        "One = np.ones([5,5])\n",
        "One"
      ],
      "execution_count": 126,
      "outputs": [
        {
          "output_type": "execute_result",
          "data": {
            "text/plain": [
              "array([[1., 1., 1., 1., 1.],\n",
              "       [1., 1., 1., 1., 1.],\n",
              "       [1., 1., 1., 1., 1.],\n",
              "       [1., 1., 1., 1., 1.],\n",
              "       [1., 1., 1., 1., 1.]])"
            ]
          },
          "metadata": {},
          "execution_count": 126
        }
      ]
    },
    {
      "cell_type": "code",
      "metadata": {
        "id": "_D2LA0o9DXA6",
        "colab": {
          "base_uri": "https://localhost:8080/"
        },
        "outputId": "ff624fa4-143c-418d-fa52-269d882ad2b7"
      },
      "source": [
        "# Add two matrix\n",
        "O + I"
      ],
      "execution_count": 127,
      "outputs": [
        {
          "output_type": "execute_result",
          "data": {
            "text/plain": [
              "array([[1., 0., 0., 0., 0.],\n",
              "       [0., 1., 0., 0., 0.],\n",
              "       [0., 0., 1., 0., 0.],\n",
              "       [0., 0., 0., 1., 0.],\n",
              "       [0., 0., 0., 0., 1.]])"
            ]
          },
          "metadata": {},
          "execution_count": 127
        }
      ]
    },
    {
      "cell_type": "code",
      "metadata": {
        "id": "EYAJNct5DoYy",
        "colab": {
          "base_uri": "https://localhost:8080/"
        },
        "outputId": "d76b39e0-a24d-40d4-8f0a-52c535da6a16"
      },
      "source": [
        "# Soubstract two matrix\n",
        "O-I"
      ],
      "execution_count": 128,
      "outputs": [
        {
          "output_type": "execute_result",
          "data": {
            "text/plain": [
              "array([[-1.,  0.,  0.,  0.,  0.],\n",
              "       [ 0., -1.,  0.,  0.,  0.],\n",
              "       [ 0.,  0., -1.,  0.,  0.],\n",
              "       [ 0.,  0.,  0., -1.,  0.],\n",
              "       [ 0.,  0.,  0.,  0., -1.]])"
            ]
          },
          "metadata": {},
          "execution_count": 128
        }
      ]
    },
    {
      "cell_type": "code",
      "metadata": {
        "id": "MwQe3BGYDuYx",
        "colab": {
          "base_uri": "https://localhost:8080/"
        },
        "outputId": "a642fa0d-d16a-4a17-a29b-d6a85c000ea6"
      },
      "source": [
        "# Scalar multiplication\n",
        "I * 5"
      ],
      "execution_count": 129,
      "outputs": [
        {
          "output_type": "execute_result",
          "data": {
            "text/plain": [
              "array([[5., 0., 0., 0., 0.],\n",
              "       [0., 5., 0., 0., 0.],\n",
              "       [0., 0., 5., 0., 0.],\n",
              "       [0., 0., 0., 5., 0.],\n",
              "       [0., 0., 0., 0., 5.]])"
            ]
          },
          "metadata": {},
          "execution_count": 129
        }
      ]
    },
    {
      "cell_type": "markdown",
      "metadata": {
        "id": "KE9L44nED-JK"
      },
      "source": [
        "##### Random"
      ]
    },
    {
      "cell_type": "code",
      "metadata": {
        "id": "MXJBsigRENMh",
        "colab": {
          "base_uri": "https://localhost:8080/"
        },
        "outputId": "b51902a9-b412-4f2d-8d37-3ce8c34b544a"
      },
      "source": [
        "# Random 1d array in the value 0 and 1 (Ideal to simulate a random weight of a wallet for example)\n",
        "ran = np.random.rand(5)\n",
        "print(ran)"
      ],
      "execution_count": 130,
      "outputs": [
        {
          "output_type": "stream",
          "name": "stdout",
          "text": [
            "[0.03879199 0.31330032 0.8882369  0.84822129 0.70954671]\n"
          ]
        }
      ]
    },
    {
      "cell_type": "code",
      "metadata": {
        "id": "RwdBtqLAE3gi",
        "colab": {
          "base_uri": "https://localhost:8080/"
        },
        "outputId": "cfc8f491-4cce-4db4-bb6d-8dd4647a24f4"
      },
      "source": [
        "# BONUS: How to find the shape of a array and transorfm 1d array to 2d array\n",
        "print(f\"Shape is: {np.shape(ran)}\")\n",
        "\n",
        "# Reshape\n",
        "ran = ran.reshape(-1,1)\n",
        "\n",
        "# New shape\n",
        "print(f\"New shape is: {np.shape(ran)}\")"
      ],
      "execution_count": 131,
      "outputs": [
        {
          "output_type": "stream",
          "name": "stdout",
          "text": [
            "Shape is: (5,)\n",
            "New shape is: (5, 1)\n"
          ]
        }
      ]
    },
    {
      "cell_type": "code",
      "metadata": {
        "id": "ZxwK8rYLFGkC",
        "colab": {
          "base_uri": "https://localhost:8080/"
        },
        "outputId": "97cec52c-1064-4c45-fec6-cdf2dda35394"
      },
      "source": [
        "# Random integer value\n",
        "arr_int = np.random.randint(100, size=(5,5))\n",
        "print(arr_int)"
      ],
      "execution_count": 132,
      "outputs": [
        {
          "output_type": "stream",
          "name": "stdout",
          "text": [
            "[[57 69 38 77 11]\n",
            " [62 11 90 29 52]\n",
            " [93 90 64 11  6]\n",
            " [94 68 62 30 80]\n",
            " [83 50 74 35 61]]\n"
          ]
        }
      ]
    },
    {
      "cell_type": "code",
      "metadata": {
        "id": "x8wZZsWzlgHG",
        "colab": {
          "base_uri": "https://localhost:8080/"
        },
        "outputId": "2f4953b9-3c22-4d3b-b093-ca1a23712ce2"
      },
      "source": [
        "# Normal 1 Dim\n",
        "np.random.randn(3)"
      ],
      "execution_count": 133,
      "outputs": [
        {
          "output_type": "execute_result",
          "data": {
            "text/plain": [
              "array([-1.25729761,  0.13152329, -0.20864375])"
            ]
          },
          "metadata": {},
          "execution_count": 133
        }
      ]
    },
    {
      "cell_type": "code",
      "metadata": {
        "id": "9BYKsDhxlz14",
        "colab": {
          "base_uri": "https://localhost:8080/"
        },
        "outputId": "feded06b-351d-4a19-effb-b2ab0a9dadd4"
      },
      "source": [
        "# Normal 2 Dim\n",
        "np.random.randn(3,3)"
      ],
      "execution_count": 134,
      "outputs": [
        {
          "output_type": "execute_result",
          "data": {
            "text/plain": [
              "array([[-0.08786695,  0.75704674, -1.13198515],\n",
              "       [ 0.69740263,  1.00887717, -0.07221112],\n",
              "       [-2.0695567 , -1.88590475,  0.22580599]])"
            ]
          },
          "metadata": {},
          "execution_count": 134
        }
      ]
    },
    {
      "cell_type": "code",
      "metadata": {
        "id": "PP4qi331l_Lt",
        "colab": {
          "base_uri": "https://localhost:8080/"
        },
        "outputId": "e8ddbda8-f8fb-45d9-f3ce-f5397af93a2f"
      },
      "source": [
        "# Set the seed\n",
        "print(np.random.rand(3))\n",
        "print(np.random.rand(3))\n",
        "\n",
        "np.random.seed(seed = 32)\n",
        "print(np.random.rand(3))\n",
        "\n",
        "np.random.seed(seed = 32)\n",
        "print(np.random.rand(3))\n",
        "\n",
        "np.random.seed(seed = 32)\n",
        "print(np.random.rand(3))"
      ],
      "execution_count": 135,
      "outputs": [
        {
          "output_type": "stream",
          "name": "stdout",
          "text": [
            "[0.46310814 0.98478429 0.50113492]\n",
            "[0.39807245 0.72790532 0.86333097]\n",
            "[0.85888927 0.37271115 0.55512878]\n",
            "[0.85888927 0.37271115 0.55512878]\n",
            "[0.85888927 0.37271115 0.55512878]\n"
          ]
        }
      ]
    },
    {
      "cell_type": "markdown",
      "metadata": {
        "id": "Qy6T6HOiGHaN"
      },
      "source": [
        "##### Indexing Slicing Transformation"
      ]
    },
    {
      "cell_type": "code",
      "metadata": {
        "id": "74oL7u6IGJMo",
        "colab": {
          "base_uri": "https://localhost:8080/"
        },
        "outputId": "77ab1c53-3f39-44ec-95d5-224d897fb827"
      },
      "source": [
        "# Choose one value in a matrix\n",
        "arr_bis = np.array([[1,2,3],\n",
        "                    [7,1,6],\n",
        "                    [9,6,3]])\n",
        "\n",
        "arr_bis[0][0]"
      ],
      "execution_count": 136,
      "outputs": [
        {
          "output_type": "execute_result",
          "data": {
            "text/plain": [
              "1"
            ]
          },
          "metadata": {},
          "execution_count": 136
        }
      ]
    },
    {
      "cell_type": "code",
      "metadata": {
        "id": "5O0-kbMr2wOg",
        "colab": {
          "base_uri": "https://localhost:8080/"
        },
        "outputId": "4255c58b-2752-4dfa-f43f-dfa3e0c2c8fc"
      },
      "source": [
        "arr_bis[0,0]"
      ],
      "execution_count": 137,
      "outputs": [
        {
          "output_type": "execute_result",
          "data": {
            "text/plain": [
              "1"
            ]
          },
          "metadata": {},
          "execution_count": 137
        }
      ]
    },
    {
      "cell_type": "code",
      "metadata": {
        "id": "nSF6ccF1Ggx6",
        "colab": {
          "base_uri": "https://localhost:8080/"
        },
        "outputId": "34cd8c79-a9e1-47de-8275-c17a6c30cac6"
      },
      "source": [
        "# Choose sub matrix in the matrix\n",
        "arr_bis[0:2,0:3]"
      ],
      "execution_count": 138,
      "outputs": [
        {
          "output_type": "execute_result",
          "data": {
            "text/plain": [
              "array([[1, 2, 3],\n",
              "       [7, 1, 6]])"
            ]
          },
          "metadata": {},
          "execution_count": 138
        }
      ]
    },
    {
      "cell_type": "code",
      "metadata": {
        "id": "ks__IvR_GqHI",
        "colab": {
          "base_uri": "https://localhost:8080/"
        },
        "outputId": "fbb0c88c-22d4-4368-f7f1-fd1c3879998c"
      },
      "source": [
        "# Choose one columns or one row\n",
        "print(arr_bis[1,:])\n",
        "print(arr_bis[:,1])"
      ],
      "execution_count": 139,
      "outputs": [
        {
          "output_type": "stream",
          "name": "stdout",
          "text": [
            "[7 1 6]\n",
            "[2 1 6]\n"
          ]
        }
      ]
    },
    {
      "cell_type": "code",
      "metadata": {
        "id": "0AG2UdRAng9d",
        "colab": {
          "base_uri": "https://localhost:8080/"
        },
        "outputId": "4a4bd270-220a-47c1-8db2-33afbf46b991"
      },
      "source": [
        "# Max\n",
        "# On the matrix\n",
        "print(arr_bis.max())\n",
        "\n",
        "# By the rows\n",
        "print(arr_bis.max(axis=1))\n",
        "\n",
        "# By the columns\n",
        "print(arr_bis.max(axis=0))"
      ],
      "execution_count": 140,
      "outputs": [
        {
          "output_type": "stream",
          "name": "stdout",
          "text": [
            "9\n",
            "[3 7 9]\n",
            "[9 6 6]\n"
          ]
        }
      ]
    },
    {
      "cell_type": "code",
      "metadata": {
        "id": "omomB6aDoBnN",
        "colab": {
          "base_uri": "https://localhost:8080/"
        },
        "outputId": "9589c7cb-0881-422e-c4eb-5b09e505b1ab"
      },
      "source": [
        "# Min\n",
        "# On the matrix\n",
        "print(arr_bis.min())\n",
        "\n",
        "# By the rows\n",
        "print(arr_bis.min(axis=1))\n",
        "\n",
        "# By the columns\n",
        "print(arr_bis.min(axis=0))"
      ],
      "execution_count": 141,
      "outputs": [
        {
          "output_type": "stream",
          "name": "stdout",
          "text": [
            "1\n",
            "[1 1 3]\n",
            "[1 1 3]\n"
          ]
        }
      ]
    },
    {
      "cell_type": "code",
      "metadata": {
        "id": "Z-xixa41oE4X",
        "colab": {
          "base_uri": "https://localhost:8080/"
        },
        "outputId": "aeaf13ad-42ea-417e-a1fb-4164ae2b601d"
      },
      "source": [
        "# Mean\n",
        "# On the matrix\n",
        "print(arr_bis.mean())\n",
        "\n",
        "# By the rows\n",
        "print(arr_bis.mean(axis=1))\n",
        "\n",
        "# By the columns\n",
        "print(arr_bis.mean(axis=0))"
      ],
      "execution_count": 142,
      "outputs": [
        {
          "output_type": "stream",
          "name": "stdout",
          "text": [
            "4.222222222222222\n",
            "[2.         4.66666667 6.        ]\n",
            "[5.66666667 3.         4.        ]\n"
          ]
        }
      ]
    },
    {
      "cell_type": "code",
      "metadata": {
        "id": "WzvvyXXJoOeW",
        "colab": {
          "base_uri": "https://localhost:8080/"
        },
        "outputId": "2ade3a16-b8dd-434b-b9b1-48265617ebcc"
      },
      "source": [
        "# Std\n",
        "# On the matrix\n",
        "print(arr_bis.std())\n",
        "\n",
        "# By the rows\n",
        "print(arr_bis.std(axis=1))\n",
        "\n",
        "# By the columns\n",
        "print(arr_bis.std(axis=0))"
      ],
      "execution_count": 143,
      "outputs": [
        {
          "output_type": "stream",
          "name": "stdout",
          "text": [
            "2.698879511442471\n",
            "[0.81649658 2.62466929 2.44948974]\n",
            "[3.39934634 2.1602469  1.41421356]\n"
          ]
        }
      ]
    },
    {
      "cell_type": "code",
      "metadata": {
        "id": "4QRCdS8BoYL_",
        "colab": {
          "base_uri": "https://localhost:8080/"
        },
        "outputId": "34b09e88-1cbc-42f2-a35f-3ebe36d87b4e"
      },
      "source": [
        "# Other way available \n",
        "np.max(arr_bis, axis=1)"
      ],
      "execution_count": 144,
      "outputs": [
        {
          "output_type": "execute_result",
          "data": {
            "text/plain": [
              "array([3, 7, 9])"
            ]
          },
          "metadata": {},
          "execution_count": 144
        }
      ]
    },
    {
      "cell_type": "code",
      "metadata": {
        "id": "JeSWgJteotgR",
        "colab": {
          "base_uri": "https://localhost:8080/"
        },
        "outputId": "24447927-a22b-425f-f2ec-da49accd644e"
      },
      "source": [
        "# Log function \n",
        "np.log(arr_bis)"
      ],
      "execution_count": 145,
      "outputs": [
        {
          "output_type": "execute_result",
          "data": {
            "text/plain": [
              "array([[0.        , 0.69314718, 1.09861229],\n",
              "       [1.94591015, 0.        , 1.79175947],\n",
              "       [2.19722458, 1.79175947, 1.09861229]])"
            ]
          },
          "metadata": {},
          "execution_count": 145
        }
      ]
    },
    {
      "cell_type": "code",
      "metadata": {
        "id": "SvtkDDK9o4DB",
        "colab": {
          "base_uri": "https://localhost:8080/"
        },
        "outputId": "f54cfa12-1666-45a9-ecc1-8a6457691d02"
      },
      "source": [
        "# Exponential function \n",
        "np.exp(arr_bis)"
      ],
      "execution_count": 146,
      "outputs": [
        {
          "output_type": "execute_result",
          "data": {
            "text/plain": [
              "array([[2.71828183e+00, 7.38905610e+00, 2.00855369e+01],\n",
              "       [1.09663316e+03, 2.71828183e+00, 4.03428793e+02],\n",
              "       [8.10308393e+03, 4.03428793e+02, 2.00855369e+01]])"
            ]
          },
          "metadata": {},
          "execution_count": 146
        }
      ]
    },
    {
      "cell_type": "code",
      "metadata": {
        "id": "vPpAz_CWo4eH",
        "colab": {
          "base_uri": "https://localhost:8080/"
        },
        "outputId": "0616c333-2a43-4a66-af77-e73cb5d47f32"
      },
      "source": [
        "# Squared root function \n",
        "np.sqrt(arr_bis)"
      ],
      "execution_count": 147,
      "outputs": [
        {
          "output_type": "execute_result",
          "data": {
            "text/plain": [
              "array([[1.        , 1.41421356, 1.73205081],\n",
              "       [2.64575131, 1.        , 2.44948974],\n",
              "       [3.        , 2.44948974, 1.73205081]])"
            ]
          },
          "metadata": {},
          "execution_count": 147
        }
      ]
    },
    {
      "cell_type": "code",
      "metadata": {
        "id": "Fo7zIRfn39RL",
        "colab": {
          "base_uri": "https://localhost:8080/"
        },
        "outputId": "14650812-39ac-4367-c734-e6009216e9c2"
      },
      "source": [
        "# Concatenate \n",
        "# Params: tuple of arrays and the axis of the concatenation\n",
        "# Concat 1 dimension\n",
        "arr1 = arr_bis[:,1]\n",
        "arr2 = arr_bis[:,2]\n",
        "\n",
        "print(f\"ARR1 {arr1}\")\n",
        "\n",
        "print(f\"ARR2 {arr2}\")\n",
        "\n",
        "print(np.concatenate((arr1, arr2), axis=0))"
      ],
      "execution_count": 148,
      "outputs": [
        {
          "output_type": "stream",
          "name": "stdout",
          "text": [
            "ARR1 [2 1 6]\n",
            "ARR2 [3 6 3]\n",
            "[2 1 6 3 6 3]\n"
          ]
        }
      ]
    },
    {
      "cell_type": "code",
      "metadata": {
        "id": "zSZV-n-X8-xx",
        "colab": {
          "base_uri": "https://localhost:8080/"
        },
        "outputId": "673682e3-acdd-4bb1-9c17-d87aa2e13745"
      },
      "source": [
        "# Concat 2 dimension\n",
        "arr1 = arr_bis[:,1].reshape(-1,1)\n",
        "arr2 = arr_bis[:,2].reshape(-1,1)\n",
        "\n",
        "print(f\"ARR1 {arr1}\")\n",
        "\n",
        "print(f\"ARR2 {arr2}\")\n",
        "\n",
        "\n",
        "print(np.concatenate((arr1, arr2), axis=0))"
      ],
      "execution_count": 149,
      "outputs": [
        {
          "output_type": "stream",
          "name": "stdout",
          "text": [
            "ARR1 [[2]\n",
            " [1]\n",
            " [6]]\n",
            "ARR2 [[3]\n",
            " [6]\n",
            " [3]]\n",
            "[[2]\n",
            " [1]\n",
            " [6]\n",
            " [3]\n",
            " [6]\n",
            " [3]]\n"
          ]
        }
      ]
    },
    {
      "cell_type": "code",
      "metadata": {
        "id": "aq0-jNt38_eq",
        "colab": {
          "base_uri": "https://localhost:8080/"
        },
        "outputId": "3efa5df2-781b-435c-db07-81a7e13853c5"
      },
      "source": [
        "# Concat 2 dimension\n",
        "arr1 = arr_bis[:,1].reshape(-1,1)\n",
        "arr2 = arr_bis[:,2].reshape(-1,1)\n",
        "\n",
        "print(f\"ARR1 {arr1}\")\n",
        "\n",
        "print(f\"ARR2 {arr2}\")\n",
        "\n",
        "\n",
        "print(np.concatenate((arr1, arr2), axis=1))"
      ],
      "execution_count": 150,
      "outputs": [
        {
          "output_type": "stream",
          "name": "stdout",
          "text": [
            "ARR1 [[2]\n",
            " [1]\n",
            " [6]]\n",
            "ARR2 [[3]\n",
            " [6]\n",
            " [3]]\n",
            "[[2 3]\n",
            " [1 6]\n",
            " [6 3]]\n"
          ]
        }
      ]
    },
    {
      "cell_type": "markdown",
      "metadata": {
        "id": "7ilLgwf1HIMw"
      },
      "source": [
        "### Pandas"
      ]
    },
    {
      "cell_type": "code",
      "metadata": {
        "id": "DxZBaJicHJBJ"
      },
      "source": [
        "import pandas as pds"
      ],
      "execution_count": 151,
      "outputs": []
    },
    {
      "cell_type": "markdown",
      "metadata": {
        "id": "MLRfDnNGHUkI"
      },
      "source": [
        "##### Series and dataframes"
      ]
    },
    {
      "cell_type": "markdown",
      "metadata": {
        "id": "EdYvgavpJPGK"
      },
      "source": [
        "###### **Series**"
      ]
    },
    {
      "cell_type": "code",
      "metadata": {
        "id": "YG-fUIdLIuaA"
      },
      "source": [
        "labels = [\"label 1\", \"label 2\", \"label 3\"]\n",
        "list_values = [1,2,3] \n",
        "arr_values = np.array([1,2,3])"
      ],
      "execution_count": 152,
      "outputs": []
    },
    {
      "cell_type": "code",
      "metadata": {
        "id": "SNo-p9PIJA3x",
        "colab": {
          "base_uri": "https://localhost:8080/"
        },
        "outputId": "baad6b5f-6565-49a9-d563-c6a0daf9ec01"
      },
      "source": [
        "# Create a serie from a list\n",
        "pds.Series(list_values, index=labels)"
      ],
      "execution_count": 153,
      "outputs": [
        {
          "output_type": "execute_result",
          "data": {
            "text/plain": [
              "label 1    1\n",
              "label 2    2\n",
              "label 3    3\n",
              "dtype: int64"
            ]
          },
          "metadata": {},
          "execution_count": 153
        }
      ]
    },
    {
      "cell_type": "code",
      "metadata": {
        "id": "_trjK8YSJHqR",
        "colab": {
          "base_uri": "https://localhost:8080/"
        },
        "outputId": "c331bf8f-24b3-4d00-dafc-546f19a4d6dd"
      },
      "source": [
        "# Create a serie from a array\n",
        "pds.Series(arr_values, index=labels)"
      ],
      "execution_count": 154,
      "outputs": [
        {
          "output_type": "execute_result",
          "data": {
            "text/plain": [
              "label 1    1\n",
              "label 2    2\n",
              "label 3    3\n",
              "dtype: int64"
            ]
          },
          "metadata": {},
          "execution_count": 154
        }
      ]
    },
    {
      "cell_type": "markdown",
      "metadata": {
        "id": "xLPPB2NOJUSq"
      },
      "source": [
        "###### **dataframes**"
      ]
    },
    {
      "cell_type": "code",
      "metadata": {
        "id": "XSqejMNzJJ2h"
      },
      "source": [
        "list_columns = [\"col_1\", \"col_2\", \"col_3\"]\n",
        "list_index = [\"row_1\", \"row_2\", \"row_3\"]\n",
        "arr_bis = np.array([[1,2,3],\n",
        "                    [7,1,6],\n",
        "                    [9,6,3]])"
      ],
      "execution_count": 155,
      "outputs": []
    },
    {
      "cell_type": "code",
      "metadata": {
        "id": "W8If1H15K8UA",
        "colab": {
          "base_uri": "https://localhost:8080/",
          "height": 0
        },
        "outputId": "cf566ca1-37a1-4c11-dce3-01421059cb90"
      },
      "source": [
        "# Create a dataframe from a array\n",
        "pds.DataFrame(arr_bis)"
      ],
      "execution_count": 156,
      "outputs": [
        {
          "output_type": "execute_result",
          "data": {
            "text/html": [
              "<div>\n",
              "<style scoped>\n",
              "    .dataframe tbody tr th:only-of-type {\n",
              "        vertical-align: middle;\n",
              "    }\n",
              "\n",
              "    .dataframe tbody tr th {\n",
              "        vertical-align: top;\n",
              "    }\n",
              "\n",
              "    .dataframe thead th {\n",
              "        text-align: right;\n",
              "    }\n",
              "</style>\n",
              "<table border=\"1\" class=\"dataframe\">\n",
              "  <thead>\n",
              "    <tr style=\"text-align: right;\">\n",
              "      <th></th>\n",
              "      <th>0</th>\n",
              "      <th>1</th>\n",
              "      <th>2</th>\n",
              "    </tr>\n",
              "  </thead>\n",
              "  <tbody>\n",
              "    <tr>\n",
              "      <th>0</th>\n",
              "      <td>1</td>\n",
              "      <td>2</td>\n",
              "      <td>3</td>\n",
              "    </tr>\n",
              "    <tr>\n",
              "      <th>1</th>\n",
              "      <td>7</td>\n",
              "      <td>1</td>\n",
              "      <td>6</td>\n",
              "    </tr>\n",
              "    <tr>\n",
              "      <th>2</th>\n",
              "      <td>9</td>\n",
              "      <td>6</td>\n",
              "      <td>3</td>\n",
              "    </tr>\n",
              "  </tbody>\n",
              "</table>\n",
              "</div>"
            ],
            "text/plain": [
              "   0  1  2\n",
              "0  1  2  3\n",
              "1  7  1  6\n",
              "2  9  6  3"
            ]
          },
          "metadata": {},
          "execution_count": 156
        }
      ]
    },
    {
      "cell_type": "code",
      "metadata": {
        "id": "0B8yIH3vQ6i-",
        "colab": {
          "base_uri": "https://localhost:8080/",
          "height": 0
        },
        "outputId": "6c77c6a2-23f2-4fa5-81dc-f0ed3dcb8bd6"
      },
      "source": [
        "# Specify rows/columns\n",
        "pds.DataFrame(arr_bis, columns = list_columns, index = list_index)"
      ],
      "execution_count": 157,
      "outputs": [
        {
          "output_type": "execute_result",
          "data": {
            "text/html": [
              "<div>\n",
              "<style scoped>\n",
              "    .dataframe tbody tr th:only-of-type {\n",
              "        vertical-align: middle;\n",
              "    }\n",
              "\n",
              "    .dataframe tbody tr th {\n",
              "        vertical-align: top;\n",
              "    }\n",
              "\n",
              "    .dataframe thead th {\n",
              "        text-align: right;\n",
              "    }\n",
              "</style>\n",
              "<table border=\"1\" class=\"dataframe\">\n",
              "  <thead>\n",
              "    <tr style=\"text-align: right;\">\n",
              "      <th></th>\n",
              "      <th>col_1</th>\n",
              "      <th>col_2</th>\n",
              "      <th>col_3</th>\n",
              "    </tr>\n",
              "  </thead>\n",
              "  <tbody>\n",
              "    <tr>\n",
              "      <th>row_1</th>\n",
              "      <td>1</td>\n",
              "      <td>2</td>\n",
              "      <td>3</td>\n",
              "    </tr>\n",
              "    <tr>\n",
              "      <th>row_2</th>\n",
              "      <td>7</td>\n",
              "      <td>1</td>\n",
              "      <td>6</td>\n",
              "    </tr>\n",
              "    <tr>\n",
              "      <th>row_3</th>\n",
              "      <td>9</td>\n",
              "      <td>6</td>\n",
              "      <td>3</td>\n",
              "    </tr>\n",
              "  </tbody>\n",
              "</table>\n",
              "</div>"
            ],
            "text/plain": [
              "       col_1  col_2  col_3\n",
              "row_1      1      2      3\n",
              "row_2      7      1      6\n",
              "row_3      9      6      3"
            ]
          },
          "metadata": {},
          "execution_count": 157
        }
      ]
    },
    {
      "cell_type": "markdown",
      "metadata": {
        "id": "XM6mdryCRCAm"
      },
      "source": [
        "##### Cleaning and selection"
      ]
    },
    {
      "cell_type": "code",
      "metadata": {
        "id": "pLc1A64XRGgz",
        "colab": {
          "base_uri": "https://localhost:8080/",
          "height": 0
        },
        "outputId": "cbc4661c-eb8c-451e-ef06-343f3a589dfa"
      },
      "source": [
        "# Import of csv\n",
        "assets = pds.read_csv(\"/content/assets.csv\", parse_dates=True, index_col=\"time\")\n",
        "assets"
      ],
      "execution_count": 158,
      "outputs": [
        {
          "output_type": "execute_result",
          "data": {
            "text/html": [
              "<div>\n",
              "<style scoped>\n",
              "    .dataframe tbody tr th:only-of-type {\n",
              "        vertical-align: middle;\n",
              "    }\n",
              "\n",
              "    .dataframe tbody tr th {\n",
              "        vertical-align: top;\n",
              "    }\n",
              "\n",
              "    .dataframe thead th {\n",
              "        text-align: right;\n",
              "    }\n",
              "</style>\n",
              "<table border=\"1\" class=\"dataframe\">\n",
              "  <thead>\n",
              "    <tr style=\"text-align: right;\">\n",
              "      <th></th>\n",
              "      <th>Open MSFT</th>\n",
              "      <th>High MSFT</th>\n",
              "      <th>Low MSFT</th>\n",
              "      <th>Close MSFT</th>\n",
              "      <th>Volume MSFT</th>\n",
              "      <th>Open GOOG</th>\n",
              "      <th>High GOOG</th>\n",
              "      <th>Low GOOG</th>\n",
              "      <th>Close GOOG</th>\n",
              "      <th>Volume GOOG</th>\n",
              "      <th>Open GOLD</th>\n",
              "      <th>High GOLD</th>\n",
              "      <th>Low GOLD</th>\n",
              "      <th>Close GOLD</th>\n",
              "      <th>Volume GOLD</th>\n",
              "      <th>Open SP500</th>\n",
              "      <th>High SP500</th>\n",
              "      <th>Low SP500</th>\n",
              "      <th>Close SP500</th>\n",
              "      <th>Volume SP500</th>\n",
              "      <th>Open DJI30</th>\n",
              "      <th>High DJI30</th>\n",
              "      <th>Low DJI30</th>\n",
              "      <th>Close DJI30</th>\n",
              "      <th>Volume DJI30</th>\n",
              "      <th>Open AAPL</th>\n",
              "      <th>High AAPL</th>\n",
              "      <th>Low AAPL</th>\n",
              "      <th>Close AAPL</th>\n",
              "      <th>Volume AAPL</th>\n",
              "      <th>Open EUR/USD</th>\n",
              "      <th>High EUR/USD</th>\n",
              "      <th>Low EUR/USD</th>\n",
              "      <th>Close EUR/USD</th>\n",
              "      <th>Open USD/CAD</th>\n",
              "      <th>High USD/CAD</th>\n",
              "      <th>Low USD/CAD</th>\n",
              "      <th>Close USD/CAD</th>\n",
              "      <th>Open USD/AUD</th>\n",
              "      <th>High USD/AUD</th>\n",
              "      <th>Low USD/AUD</th>\n",
              "      <th>Close USD/AUD</th>\n",
              "      <th>Open USD/CNY</th>\n",
              "      <th>High USD/CNY</th>\n",
              "      <th>Low USD/CNY</th>\n",
              "      <th>Close USD/CNY</th>\n",
              "      <th>Open USD/GBP</th>\n",
              "      <th>High USD/GBP</th>\n",
              "      <th>Low USD/GBP</th>\n",
              "      <th>Close USD/GBP</th>\n",
              "      <th>Open AMZN</th>\n",
              "      <th>High AMZN</th>\n",
              "      <th>Low AMZN</th>\n",
              "      <th>Close AMZN</th>\n",
              "      <th>Volume AMZN</th>\n",
              "      <th>Open CAC40</th>\n",
              "      <th>High CAC40</th>\n",
              "      <th>Low CAC40</th>\n",
              "      <th>Close CAC40</th>\n",
              "      <th>Volume CAC40</th>\n",
              "      <th>Open DAX30</th>\n",
              "      <th>High DAX30</th>\n",
              "      <th>Low DAX30</th>\n",
              "      <th>Close DAX30</th>\n",
              "      <th>Volume DAX30</th>\n",
              "      <th>Open RUSSEL2000</th>\n",
              "      <th>High RUSSEL2000</th>\n",
              "      <th>Low RUSSEL2000</th>\n",
              "      <th>Close RUSSEL2000</th>\n",
              "      <th>Volume RUSSEL2000</th>\n",
              "      <th>Open EUROSTOCK50</th>\n",
              "      <th>High EUROSTOCK50</th>\n",
              "      <th>Low EUROSTOCK50</th>\n",
              "      <th>Close EUROSTOCK50</th>\n",
              "      <th>Volume EUROSTOCK50</th>\n",
              "      <th>Open INTEL</th>\n",
              "      <th>High INTEL</th>\n",
              "      <th>Low INTEL</th>\n",
              "      <th>Close INTEL</th>\n",
              "      <th>Volume INTEL</th>\n",
              "    </tr>\n",
              "    <tr>\n",
              "      <th>time</th>\n",
              "      <th></th>\n",
              "      <th></th>\n",
              "      <th></th>\n",
              "      <th></th>\n",
              "      <th></th>\n",
              "      <th></th>\n",
              "      <th></th>\n",
              "      <th></th>\n",
              "      <th></th>\n",
              "      <th></th>\n",
              "      <th></th>\n",
              "      <th></th>\n",
              "      <th></th>\n",
              "      <th></th>\n",
              "      <th></th>\n",
              "      <th></th>\n",
              "      <th></th>\n",
              "      <th></th>\n",
              "      <th></th>\n",
              "      <th></th>\n",
              "      <th></th>\n",
              "      <th></th>\n",
              "      <th></th>\n",
              "      <th></th>\n",
              "      <th></th>\n",
              "      <th></th>\n",
              "      <th></th>\n",
              "      <th></th>\n",
              "      <th></th>\n",
              "      <th></th>\n",
              "      <th></th>\n",
              "      <th></th>\n",
              "      <th></th>\n",
              "      <th></th>\n",
              "      <th></th>\n",
              "      <th></th>\n",
              "      <th></th>\n",
              "      <th></th>\n",
              "      <th></th>\n",
              "      <th></th>\n",
              "      <th></th>\n",
              "      <th></th>\n",
              "      <th></th>\n",
              "      <th></th>\n",
              "      <th></th>\n",
              "      <th></th>\n",
              "      <th></th>\n",
              "      <th></th>\n",
              "      <th></th>\n",
              "      <th></th>\n",
              "      <th></th>\n",
              "      <th></th>\n",
              "      <th></th>\n",
              "      <th></th>\n",
              "      <th></th>\n",
              "      <th></th>\n",
              "      <th></th>\n",
              "      <th></th>\n",
              "      <th></th>\n",
              "      <th></th>\n",
              "      <th></th>\n",
              "      <th></th>\n",
              "      <th></th>\n",
              "      <th></th>\n",
              "      <th></th>\n",
              "      <th></th>\n",
              "      <th></th>\n",
              "      <th></th>\n",
              "      <th></th>\n",
              "      <th></th>\n",
              "      <th></th>\n",
              "      <th></th>\n",
              "      <th></th>\n",
              "      <th></th>\n",
              "      <th></th>\n",
              "      <th></th>\n",
              "      <th></th>\n",
              "      <th></th>\n",
              "      <th></th>\n",
              "      <th></th>\n",
              "    </tr>\n",
              "  </thead>\n",
              "  <tbody>\n",
              "    <tr>\n",
              "      <th>2020-03-18</th>\n",
              "      <td>138.0</td>\n",
              "      <td>146.0000</td>\n",
              "      <td>135.02</td>\n",
              "      <td>140.40</td>\n",
              "      <td>80794307.0</td>\n",
              "      <td>1056.51</td>\n",
              "      <td>1106.50</td>\n",
              "      <td>1037.28</td>\n",
              "      <td>1096.80</td>\n",
              "      <td>4220935.0</td>\n",
              "      <td>17.08</td>\n",
              "      <td>17.98</td>\n",
              "      <td>15.445</td>\n",
              "      <td>15.88</td>\n",
              "      <td>30208367.0</td>\n",
              "      <td>2436.5000</td>\n",
              "      <td>2453.5701</td>\n",
              "      <td>2280.5200</td>\n",
              "      <td>2398.1001</td>\n",
              "      <td>901816472.0</td>\n",
              "      <td>20188.6895</td>\n",
              "      <td>20489.3301</td>\n",
              "      <td>18917.4609</td>\n",
              "      <td>19898.9199</td>\n",
              "      <td>871360000.0</td>\n",
              "      <td>239.77</td>\n",
              "      <td>250.00</td>\n",
              "      <td>237.12</td>\n",
              "      <td>246.67</td>\n",
              "      <td>74377540.0</td>\n",
              "      <td>1.1015</td>\n",
              "      <td>1.1045</td>\n",
              "      <td>1.0801</td>\n",
              "      <td>1.0933</td>\n",
              "      <td>1.4231</td>\n",
              "      <td>1.4651</td>\n",
              "      <td>1.4162</td>\n",
              "      <td>1.4481</td>\n",
              "      <td>1.6697</td>\n",
              "      <td>1.7528</td>\n",
              "      <td>1.6591</td>\n",
              "      <td>1.7269</td>\n",
              "      <td>7.0132</td>\n",
              "      <td>7.0478</td>\n",
              "      <td>7.0073</td>\n",
              "      <td>7.0475</td>\n",
              "      <td>0.8281</td>\n",
              "      <td>0.8703</td>\n",
              "      <td>0.8244</td>\n",
              "      <td>0.8589</td>\n",
              "      <td>1750.00</td>\n",
              "      <td>1841.66</td>\n",
              "      <td>1745.00</td>\n",
              "      <td>1830.00</td>\n",
              "      <td>9512897.0</td>\n",
              "      <td>3905.5300</td>\n",
              "      <td>3908.7200</td>\n",
              "      <td>3726.4500</td>\n",
              "      <td>3754.8401</td>\n",
              "      <td>214274700.0</td>\n",
              "      <td>8613.3496</td>\n",
              "      <td>8670.4102</td>\n",
              "      <td>8400.1797</td>\n",
              "      <td>8441.7100</td>\n",
              "      <td>207558900.0</td>\n",
              "      <td>1057.6499</td>\n",
              "      <td>1062.8826</td>\n",
              "      <td>966.2156</td>\n",
              "      <td>991.1641</td>\n",
              "      <td>0.0</td>\n",
              "      <td>2507.3301</td>\n",
              "      <td>2507.3301</td>\n",
              "      <td>2365.7000</td>\n",
              "      <td>2385.8201</td>\n",
              "      <td>98214900.0</td>\n",
              "      <td>30.24</td>\n",
              "      <td>32.4550</td>\n",
              "      <td>28.01</td>\n",
              "      <td>29.20</td>\n",
              "      <td>192337.0</td>\n",
              "    </tr>\n",
              "    <tr>\n",
              "      <th>2020-03-17</th>\n",
              "      <td>140.0</td>\n",
              "      <td>147.4998</td>\n",
              "      <td>135.00</td>\n",
              "      <td>146.57</td>\n",
              "      <td>81059817.0</td>\n",
              "      <td>1093.11</td>\n",
              "      <td>1130.86</td>\n",
              "      <td>1056.01</td>\n",
              "      <td>1119.80</td>\n",
              "      <td>3861489.0</td>\n",
              "      <td>16.21</td>\n",
              "      <td>18.59</td>\n",
              "      <td>16.130</td>\n",
              "      <td>17.71</td>\n",
              "      <td>32043530.0</td>\n",
              "      <td>2426.6181</td>\n",
              "      <td>2437.2174</td>\n",
              "      <td>2421.7897</td>\n",
              "      <td>2436.5000</td>\n",
              "      <td>510792.0</td>\n",
              "      <td>20487.0508</td>\n",
              "      <td>21379.3496</td>\n",
              "      <td>19882.2598</td>\n",
              "      <td>21237.3809</td>\n",
              "      <td>793060000.0</td>\n",
              "      <td>247.51</td>\n",
              "      <td>257.61</td>\n",
              "      <td>238.40</td>\n",
              "      <td>252.86</td>\n",
              "      <td>81013965.0</td>\n",
              "      <td>1.1168</td>\n",
              "      <td>1.1189</td>\n",
              "      <td>1.0954</td>\n",
              "      <td>1.1015</td>\n",
              "      <td>1.3992</td>\n",
              "      <td>1.4277</td>\n",
              "      <td>1.3959</td>\n",
              "      <td>1.4228</td>\n",
              "      <td>1.6329</td>\n",
              "      <td>1.6775</td>\n",
              "      <td>1.6273</td>\n",
              "      <td>1.6699</td>\n",
              "      <td>6.9932</td>\n",
              "      <td>7.0233</td>\n",
              "      <td>6.9870</td>\n",
              "      <td>7.0047</td>\n",
              "      <td>0.8149</td>\n",
              "      <td>0.8329</td>\n",
              "      <td>0.8148</td>\n",
              "      <td>0.8281</td>\n",
              "      <td>1775.47</td>\n",
              "      <td>1857.78</td>\n",
              "      <td>1689.24</td>\n",
              "      <td>1807.84</td>\n",
              "      <td>10917129.0</td>\n",
              "      <td>4041.3301</td>\n",
              "      <td>4042.4600</td>\n",
              "      <td>3759.0000</td>\n",
              "      <td>3991.7800</td>\n",
              "      <td>225787000.0</td>\n",
              "      <td>9141.1699</td>\n",
              "      <td>9145.9297</td>\n",
              "      <td>8423.5596</td>\n",
              "      <td>8939.0996</td>\n",
              "      <td>220092600.0</td>\n",
              "      <td>1063.1651</td>\n",
              "      <td>1063.2460</td>\n",
              "      <td>1051.0800</td>\n",
              "      <td>1057.6499</td>\n",
              "      <td>779778.0</td>\n",
              "      <td>2475.1799</td>\n",
              "      <td>2555.4099</td>\n",
              "      <td>2376.2300</td>\n",
              "      <td>2530.5000</td>\n",
              "      <td>106905300.0</td>\n",
              "      <td>29.06</td>\n",
              "      <td>33.8000</td>\n",
              "      <td>28.79</td>\n",
              "      <td>32.40</td>\n",
              "      <td>273967.0</td>\n",
              "    </tr>\n",
              "    <tr>\n",
              "      <th>2020-03-16</th>\n",
              "      <td>140.0</td>\n",
              "      <td>149.3500</td>\n",
              "      <td>135.00</td>\n",
              "      <td>135.42</td>\n",
              "      <td>87905868.0</td>\n",
              "      <td>1096.00</td>\n",
              "      <td>1152.27</td>\n",
              "      <td>1074.44</td>\n",
              "      <td>1084.33</td>\n",
              "      <td>4252365.0</td>\n",
              "      <td>13.21</td>\n",
              "      <td>17.15</td>\n",
              "      <td>12.650</td>\n",
              "      <td>16.33</td>\n",
              "      <td>36592679.0</td>\n",
              "      <td>2418.0191</td>\n",
              "      <td>2434.2419</td>\n",
              "      <td>2412.7850</td>\n",
              "      <td>2426.6181</td>\n",
              "      <td>292505.0</td>\n",
              "      <td>20917.5293</td>\n",
              "      <td>21768.2793</td>\n",
              "      <td>20116.4609</td>\n",
              "      <td>20188.5195</td>\n",
              "      <td>770130000.0</td>\n",
              "      <td>241.95</td>\n",
              "      <td>259.08</td>\n",
              "      <td>240.00</td>\n",
              "      <td>242.21</td>\n",
              "      <td>80605865.0</td>\n",
              "      <td>1.1157</td>\n",
              "      <td>1.1237</td>\n",
              "      <td>1.1084</td>\n",
              "      <td>1.1168</td>\n",
              "      <td>1.3846</td>\n",
              "      <td>1.4019</td>\n",
              "      <td>1.3786</td>\n",
              "      <td>1.3991</td>\n",
              "      <td>1.6207</td>\n",
              "      <td>1.6442</td>\n",
              "      <td>1.6086</td>\n",
              "      <td>1.6327</td>\n",
              "      <td>7.0020</td>\n",
              "      <td>7.0236</td>\n",
              "      <td>6.9925</td>\n",
              "      <td>6.9931</td>\n",
              "      <td>0.8063</td>\n",
              "      <td>0.8194</td>\n",
              "      <td>0.8051</td>\n",
              "      <td>0.8152</td>\n",
              "      <td>1641.51</td>\n",
              "      <td>1759.45</td>\n",
              "      <td>1626.03</td>\n",
              "      <td>1689.15</td>\n",
              "      <td>8917265.0</td>\n",
              "      <td>3886.8201</td>\n",
              "      <td>3962.0100</td>\n",
              "      <td>3632.0601</td>\n",
              "      <td>3881.4600</td>\n",
              "      <td>311603900.0</td>\n",
              "      <td>8728.4805</td>\n",
              "      <td>8967.1104</td>\n",
              "      <td>8255.6504</td>\n",
              "      <td>8742.2500</td>\n",
              "      <td>302202400.0</td>\n",
              "      <td>1054.1179</td>\n",
              "      <td>1070.6257</td>\n",
              "      <td>1053.2714</td>\n",
              "      <td>1063.1651</td>\n",
              "      <td>805538.0</td>\n",
              "      <td>2557.7100</td>\n",
              "      <td>2557.7100</td>\n",
              "      <td>2302.8401</td>\n",
              "      <td>2450.3701</td>\n",
              "      <td>137137000.0</td>\n",
              "      <td>30.11</td>\n",
              "      <td>32.8450</td>\n",
              "      <td>28.62</td>\n",
              "      <td>29.01</td>\n",
              "      <td>97928.0</td>\n",
              "    </tr>\n",
              "    <tr>\n",
              "      <th>2020-03-13</th>\n",
              "      <td>147.5</td>\n",
              "      <td>161.9100</td>\n",
              "      <td>140.73</td>\n",
              "      <td>158.83</td>\n",
              "      <td>92727446.0</td>\n",
              "      <td>1179.00</td>\n",
              "      <td>1219.76</td>\n",
              "      <td>1117.14</td>\n",
              "      <td>1219.73</td>\n",
              "      <td>3700125.0</td>\n",
              "      <td>17.45</td>\n",
              "      <td>17.61</td>\n",
              "      <td>15.060</td>\n",
              "      <td>15.67</td>\n",
              "      <td>31086787.0</td>\n",
              "      <td>2420.8827</td>\n",
              "      <td>2422.0944</td>\n",
              "      <td>2399.4778</td>\n",
              "      <td>2418.0191</td>\n",
              "      <td>869276.0</td>\n",
              "      <td>21973.8203</td>\n",
              "      <td>23189.7598</td>\n",
              "      <td>21285.3691</td>\n",
              "      <td>23185.6191</td>\n",
              "      <td>843080000.0</td>\n",
              "      <td>264.89</td>\n",
              "      <td>279.92</td>\n",
              "      <td>252.95</td>\n",
              "      <td>277.97</td>\n",
              "      <td>92683032.0</td>\n",
              "      <td>1.1176</td>\n",
              "      <td>1.1221</td>\n",
              "      <td>1.1053</td>\n",
              "      <td>1.1105</td>\n",
              "      <td>1.3923</td>\n",
              "      <td>1.3995</td>\n",
              "      <td>1.3778</td>\n",
              "      <td>1.3804</td>\n",
              "      <td>1.5888</td>\n",
              "      <td>1.6320</td>\n",
              "      <td>1.5806</td>\n",
              "      <td>1.6179</td>\n",
              "      <td>7.0283</td>\n",
              "      <td>7.0334</td>\n",
              "      <td>6.9773</td>\n",
              "      <td>7.0087</td>\n",
              "      <td>0.7948</td>\n",
              "      <td>0.8146</td>\n",
              "      <td>0.7921</td>\n",
              "      <td>0.8134</td>\n",
              "      <td>1755.00</td>\n",
              "      <td>1786.31</td>\n",
              "      <td>1680.62</td>\n",
              "      <td>1785.00</td>\n",
              "      <td>8809725.0</td>\n",
              "      <td>4234.3701</td>\n",
              "      <td>4438.5098</td>\n",
              "      <td>4055.1899</td>\n",
              "      <td>4118.3599</td>\n",
              "      <td>326461800.0</td>\n",
              "      <td>9480.7803</td>\n",
              "      <td>9985.7402</td>\n",
              "      <td>9064.6797</td>\n",
              "      <td>9232.0801</td>\n",
              "      <td>325900900.0</td>\n",
              "      <td>1058.5250</td>\n",
              "      <td>1061.8434</td>\n",
              "      <td>1052.2232</td>\n",
              "      <td>1054.1179</td>\n",
              "      <td>550756.0</td>\n",
              "      <td>2584.3601</td>\n",
              "      <td>2793.2700</td>\n",
              "      <td>2537.2700</td>\n",
              "      <td>2586.0200</td>\n",
              "      <td>136547100.0</td>\n",
              "      <td>33.87</td>\n",
              "      <td>35.0077</td>\n",
              "      <td>31.00</td>\n",
              "      <td>33.00</td>\n",
              "      <td>126388.0</td>\n",
              "    </tr>\n",
              "    <tr>\n",
              "      <th>2020-03-12</th>\n",
              "      <td>145.3</td>\n",
              "      <td>153.4700</td>\n",
              "      <td>138.58</td>\n",
              "      <td>139.06</td>\n",
              "      <td>93226366.0</td>\n",
              "      <td>1126.00</td>\n",
              "      <td>1193.87</td>\n",
              "      <td>1113.30</td>\n",
              "      <td>1114.91</td>\n",
              "      <td>4226748.0</td>\n",
              "      <td>16.97</td>\n",
              "      <td>18.00</td>\n",
              "      <td>15.470</td>\n",
              "      <td>16.88</td>\n",
              "      <td>33496744.0</td>\n",
              "      <td>2423.1280</td>\n",
              "      <td>2429.1220</td>\n",
              "      <td>2406.5553</td>\n",
              "      <td>2420.8827</td>\n",
              "      <td>418898.0</td>\n",
              "      <td>22184.7109</td>\n",
              "      <td>22837.9492</td>\n",
              "      <td>21154.4609</td>\n",
              "      <td>21200.6191</td>\n",
              "      <td>908260000.0</td>\n",
              "      <td>255.94</td>\n",
              "      <td>270.00</td>\n",
              "      <td>248.00</td>\n",
              "      <td>248.23</td>\n",
              "      <td>104618517.0</td>\n",
              "      <td>1.1259</td>\n",
              "      <td>1.1334</td>\n",
              "      <td>1.1054</td>\n",
              "      <td>1.1176</td>\n",
              "      <td>1.3771</td>\n",
              "      <td>1.3963</td>\n",
              "      <td>1.3704</td>\n",
              "      <td>1.3922</td>\n",
              "      <td>1.5427</td>\n",
              "      <td>1.6090</td>\n",
              "      <td>1.5412</td>\n",
              "      <td>1.5907</td>\n",
              "      <td>6.9770</td>\n",
              "      <td>7.0367</td>\n",
              "      <td>6.9685</td>\n",
              "      <td>7.0298</td>\n",
              "      <td>0.7807</td>\n",
              "      <td>0.8002</td>\n",
              "      <td>0.7782</td>\n",
              "      <td>0.7949</td>\n",
              "      <td>1721.98</td>\n",
              "      <td>1765.00</td>\n",
              "      <td>1675.00</td>\n",
              "      <td>1676.61</td>\n",
              "      <td>11346214.0</td>\n",
              "      <td>4374.6699</td>\n",
              "      <td>4404.2598</td>\n",
              "      <td>4025.8899</td>\n",
              "      <td>4044.2600</td>\n",
              "      <td>371403200.0</td>\n",
              "      <td>9863.9902</td>\n",
              "      <td>9932.5596</td>\n",
              "      <td>9139.1201</td>\n",
              "      <td>9161.1299</td>\n",
              "      <td>390477000.0</td>\n",
              "      <td>1068.1112</td>\n",
              "      <td>1069.0863</td>\n",
              "      <td>1050.3913</td>\n",
              "      <td>1058.5250</td>\n",
              "      <td>612402.0</td>\n",
              "      <td>2883.2500</td>\n",
              "      <td>2883.2500</td>\n",
              "      <td>2535.8899</td>\n",
              "      <td>2545.2300</td>\n",
              "      <td>167329900.0</td>\n",
              "      <td>35.29</td>\n",
              "      <td>36.0432</td>\n",
              "      <td>32.33</td>\n",
              "      <td>32.43</td>\n",
              "      <td>145336.0</td>\n",
              "    </tr>\n",
              "    <tr>\n",
              "      <th>...</th>\n",
              "      <td>...</td>\n",
              "      <td>...</td>\n",
              "      <td>...</td>\n",
              "      <td>...</td>\n",
              "      <td>...</td>\n",
              "      <td>...</td>\n",
              "      <td>...</td>\n",
              "      <td>...</td>\n",
              "      <td>...</td>\n",
              "      <td>...</td>\n",
              "      <td>...</td>\n",
              "      <td>...</td>\n",
              "      <td>...</td>\n",
              "      <td>...</td>\n",
              "      <td>...</td>\n",
              "      <td>...</td>\n",
              "      <td>...</td>\n",
              "      <td>...</td>\n",
              "      <td>...</td>\n",
              "      <td>...</td>\n",
              "      <td>...</td>\n",
              "      <td>...</td>\n",
              "      <td>...</td>\n",
              "      <td>...</td>\n",
              "      <td>...</td>\n",
              "      <td>...</td>\n",
              "      <td>...</td>\n",
              "      <td>...</td>\n",
              "      <td>...</td>\n",
              "      <td>...</td>\n",
              "      <td>...</td>\n",
              "      <td>...</td>\n",
              "      <td>...</td>\n",
              "      <td>...</td>\n",
              "      <td>...</td>\n",
              "      <td>...</td>\n",
              "      <td>...</td>\n",
              "      <td>...</td>\n",
              "      <td>...</td>\n",
              "      <td>...</td>\n",
              "      <td>...</td>\n",
              "      <td>...</td>\n",
              "      <td>...</td>\n",
              "      <td>...</td>\n",
              "      <td>...</td>\n",
              "      <td>...</td>\n",
              "      <td>...</td>\n",
              "      <td>...</td>\n",
              "      <td>...</td>\n",
              "      <td>...</td>\n",
              "      <td>...</td>\n",
              "      <td>...</td>\n",
              "      <td>...</td>\n",
              "      <td>...</td>\n",
              "      <td>...</td>\n",
              "      <td>...</td>\n",
              "      <td>...</td>\n",
              "      <td>...</td>\n",
              "      <td>...</td>\n",
              "      <td>...</td>\n",
              "      <td>...</td>\n",
              "      <td>...</td>\n",
              "      <td>...</td>\n",
              "      <td>...</td>\n",
              "      <td>...</td>\n",
              "      <td>...</td>\n",
              "      <td>...</td>\n",
              "      <td>...</td>\n",
              "      <td>...</td>\n",
              "      <td>...</td>\n",
              "      <td>...</td>\n",
              "      <td>...</td>\n",
              "      <td>...</td>\n",
              "      <td>...</td>\n",
              "      <td>...</td>\n",
              "      <td>...</td>\n",
              "      <td>...</td>\n",
              "      <td>...</td>\n",
              "      <td>...</td>\n",
              "      <td>...</td>\n",
              "    </tr>\n",
              "    <tr>\n",
              "      <th>2000-07-04</th>\n",
              "      <td>NaN</td>\n",
              "      <td>NaN</td>\n",
              "      <td>NaN</td>\n",
              "      <td>NaN</td>\n",
              "      <td>NaN</td>\n",
              "      <td>NaN</td>\n",
              "      <td>NaN</td>\n",
              "      <td>NaN</td>\n",
              "      <td>NaN</td>\n",
              "      <td>NaN</td>\n",
              "      <td>NaN</td>\n",
              "      <td>NaN</td>\n",
              "      <td>NaN</td>\n",
              "      <td>NaN</td>\n",
              "      <td>NaN</td>\n",
              "      <td>NaN</td>\n",
              "      <td>NaN</td>\n",
              "      <td>NaN</td>\n",
              "      <td>NaN</td>\n",
              "      <td>NaN</td>\n",
              "      <td>NaN</td>\n",
              "      <td>NaN</td>\n",
              "      <td>NaN</td>\n",
              "      <td>NaN</td>\n",
              "      <td>NaN</td>\n",
              "      <td>NaN</td>\n",
              "      <td>NaN</td>\n",
              "      <td>NaN</td>\n",
              "      <td>NaN</td>\n",
              "      <td>NaN</td>\n",
              "      <td>NaN</td>\n",
              "      <td>NaN</td>\n",
              "      <td>NaN</td>\n",
              "      <td>NaN</td>\n",
              "      <td>NaN</td>\n",
              "      <td>NaN</td>\n",
              "      <td>NaN</td>\n",
              "      <td>NaN</td>\n",
              "      <td>NaN</td>\n",
              "      <td>NaN</td>\n",
              "      <td>NaN</td>\n",
              "      <td>NaN</td>\n",
              "      <td>NaN</td>\n",
              "      <td>NaN</td>\n",
              "      <td>NaN</td>\n",
              "      <td>NaN</td>\n",
              "      <td>NaN</td>\n",
              "      <td>NaN</td>\n",
              "      <td>NaN</td>\n",
              "      <td>NaN</td>\n",
              "      <td>NaN</td>\n",
              "      <td>NaN</td>\n",
              "      <td>NaN</td>\n",
              "      <td>NaN</td>\n",
              "      <td>NaN</td>\n",
              "      <td>6501.4199</td>\n",
              "      <td>6504.1499</td>\n",
              "      <td>6459.2900</td>\n",
              "      <td>6494.7700</td>\n",
              "      <td>0.0</td>\n",
              "      <td>6958.3999</td>\n",
              "      <td>6976.0801</td>\n",
              "      <td>6881.1401</td>\n",
              "      <td>6944.3599</td>\n",
              "      <td>36053500.0</td>\n",
              "      <td>NaN</td>\n",
              "      <td>NaN</td>\n",
              "      <td>NaN</td>\n",
              "      <td>NaN</td>\n",
              "      <td>NaN</td>\n",
              "      <td>5185.8701</td>\n",
              "      <td>5185.8701</td>\n",
              "      <td>5185.8701</td>\n",
              "      <td>5185.8701</td>\n",
              "      <td>0.0</td>\n",
              "      <td>NaN</td>\n",
              "      <td>NaN</td>\n",
              "      <td>NaN</td>\n",
              "      <td>NaN</td>\n",
              "      <td>NaN</td>\n",
              "    </tr>\n",
              "    <tr>\n",
              "      <th>2000-05-29</th>\n",
              "      <td>NaN</td>\n",
              "      <td>NaN</td>\n",
              "      <td>NaN</td>\n",
              "      <td>NaN</td>\n",
              "      <td>NaN</td>\n",
              "      <td>NaN</td>\n",
              "      <td>NaN</td>\n",
              "      <td>NaN</td>\n",
              "      <td>NaN</td>\n",
              "      <td>NaN</td>\n",
              "      <td>NaN</td>\n",
              "      <td>NaN</td>\n",
              "      <td>NaN</td>\n",
              "      <td>NaN</td>\n",
              "      <td>NaN</td>\n",
              "      <td>NaN</td>\n",
              "      <td>NaN</td>\n",
              "      <td>NaN</td>\n",
              "      <td>NaN</td>\n",
              "      <td>NaN</td>\n",
              "      <td>NaN</td>\n",
              "      <td>NaN</td>\n",
              "      <td>NaN</td>\n",
              "      <td>NaN</td>\n",
              "      <td>NaN</td>\n",
              "      <td>NaN</td>\n",
              "      <td>NaN</td>\n",
              "      <td>NaN</td>\n",
              "      <td>NaN</td>\n",
              "      <td>NaN</td>\n",
              "      <td>NaN</td>\n",
              "      <td>NaN</td>\n",
              "      <td>NaN</td>\n",
              "      <td>NaN</td>\n",
              "      <td>NaN</td>\n",
              "      <td>NaN</td>\n",
              "      <td>NaN</td>\n",
              "      <td>NaN</td>\n",
              "      <td>NaN</td>\n",
              "      <td>NaN</td>\n",
              "      <td>NaN</td>\n",
              "      <td>NaN</td>\n",
              "      <td>NaN</td>\n",
              "      <td>NaN</td>\n",
              "      <td>NaN</td>\n",
              "      <td>NaN</td>\n",
              "      <td>NaN</td>\n",
              "      <td>NaN</td>\n",
              "      <td>NaN</td>\n",
              "      <td>NaN</td>\n",
              "      <td>NaN</td>\n",
              "      <td>NaN</td>\n",
              "      <td>NaN</td>\n",
              "      <td>NaN</td>\n",
              "      <td>NaN</td>\n",
              "      <td>6185.9902</td>\n",
              "      <td>6237.0200</td>\n",
              "      <td>6181.8301</td>\n",
              "      <td>6205.1299</td>\n",
              "      <td>0.0</td>\n",
              "      <td>6956.1401</td>\n",
              "      <td>7029.7998</td>\n",
              "      <td>6956.1401</td>\n",
              "      <td>7016.6602</td>\n",
              "      <td>17218400.0</td>\n",
              "      <td>NaN</td>\n",
              "      <td>NaN</td>\n",
              "      <td>NaN</td>\n",
              "      <td>NaN</td>\n",
              "      <td>NaN</td>\n",
              "      <td>5084.6899</td>\n",
              "      <td>5084.6899</td>\n",
              "      <td>5084.6899</td>\n",
              "      <td>5084.6899</td>\n",
              "      <td>0.0</td>\n",
              "      <td>NaN</td>\n",
              "      <td>NaN</td>\n",
              "      <td>NaN</td>\n",
              "      <td>NaN</td>\n",
              "      <td>NaN</td>\n",
              "    </tr>\n",
              "    <tr>\n",
              "      <th>2000-04-21</th>\n",
              "      <td>NaN</td>\n",
              "      <td>NaN</td>\n",
              "      <td>NaN</td>\n",
              "      <td>NaN</td>\n",
              "      <td>NaN</td>\n",
              "      <td>NaN</td>\n",
              "      <td>NaN</td>\n",
              "      <td>NaN</td>\n",
              "      <td>NaN</td>\n",
              "      <td>NaN</td>\n",
              "      <td>NaN</td>\n",
              "      <td>NaN</td>\n",
              "      <td>NaN</td>\n",
              "      <td>NaN</td>\n",
              "      <td>NaN</td>\n",
              "      <td>NaN</td>\n",
              "      <td>NaN</td>\n",
              "      <td>NaN</td>\n",
              "      <td>NaN</td>\n",
              "      <td>NaN</td>\n",
              "      <td>NaN</td>\n",
              "      <td>NaN</td>\n",
              "      <td>NaN</td>\n",
              "      <td>NaN</td>\n",
              "      <td>NaN</td>\n",
              "      <td>NaN</td>\n",
              "      <td>NaN</td>\n",
              "      <td>NaN</td>\n",
              "      <td>NaN</td>\n",
              "      <td>NaN</td>\n",
              "      <td>NaN</td>\n",
              "      <td>NaN</td>\n",
              "      <td>NaN</td>\n",
              "      <td>NaN</td>\n",
              "      <td>NaN</td>\n",
              "      <td>NaN</td>\n",
              "      <td>NaN</td>\n",
              "      <td>NaN</td>\n",
              "      <td>NaN</td>\n",
              "      <td>NaN</td>\n",
              "      <td>NaN</td>\n",
              "      <td>NaN</td>\n",
              "      <td>NaN</td>\n",
              "      <td>NaN</td>\n",
              "      <td>NaN</td>\n",
              "      <td>NaN</td>\n",
              "      <td>NaN</td>\n",
              "      <td>NaN</td>\n",
              "      <td>NaN</td>\n",
              "      <td>NaN</td>\n",
              "      <td>NaN</td>\n",
              "      <td>NaN</td>\n",
              "      <td>NaN</td>\n",
              "      <td>NaN</td>\n",
              "      <td>NaN</td>\n",
              "      <td>6218.0695</td>\n",
              "      <td>6286.7488</td>\n",
              "      <td>6212.6309</td>\n",
              "      <td>6256.7038</td>\n",
              "      <td>536096.0</td>\n",
              "      <td>7136.3048</td>\n",
              "      <td>7159.9406</td>\n",
              "      <td>7122.5503</td>\n",
              "      <td>7137.0685</td>\n",
              "      <td>760006.0</td>\n",
              "      <td>NaN</td>\n",
              "      <td>NaN</td>\n",
              "      <td>NaN</td>\n",
              "      <td>NaN</td>\n",
              "      <td>NaN</td>\n",
              "      <td>5180.1184</td>\n",
              "      <td>5207.4892</td>\n",
              "      <td>5132.2034</td>\n",
              "      <td>5170.3844</td>\n",
              "      <td>722995.0</td>\n",
              "      <td>NaN</td>\n",
              "      <td>NaN</td>\n",
              "      <td>NaN</td>\n",
              "      <td>NaN</td>\n",
              "      <td>NaN</td>\n",
              "    </tr>\n",
              "    <tr>\n",
              "      <th>2000-02-21</th>\n",
              "      <td>NaN</td>\n",
              "      <td>NaN</td>\n",
              "      <td>NaN</td>\n",
              "      <td>NaN</td>\n",
              "      <td>NaN</td>\n",
              "      <td>NaN</td>\n",
              "      <td>NaN</td>\n",
              "      <td>NaN</td>\n",
              "      <td>NaN</td>\n",
              "      <td>NaN</td>\n",
              "      <td>NaN</td>\n",
              "      <td>NaN</td>\n",
              "      <td>NaN</td>\n",
              "      <td>NaN</td>\n",
              "      <td>NaN</td>\n",
              "      <td>NaN</td>\n",
              "      <td>NaN</td>\n",
              "      <td>NaN</td>\n",
              "      <td>NaN</td>\n",
              "      <td>NaN</td>\n",
              "      <td>NaN</td>\n",
              "      <td>NaN</td>\n",
              "      <td>NaN</td>\n",
              "      <td>NaN</td>\n",
              "      <td>NaN</td>\n",
              "      <td>NaN</td>\n",
              "      <td>NaN</td>\n",
              "      <td>NaN</td>\n",
              "      <td>NaN</td>\n",
              "      <td>NaN</td>\n",
              "      <td>NaN</td>\n",
              "      <td>NaN</td>\n",
              "      <td>NaN</td>\n",
              "      <td>NaN</td>\n",
              "      <td>NaN</td>\n",
              "      <td>NaN</td>\n",
              "      <td>NaN</td>\n",
              "      <td>NaN</td>\n",
              "      <td>NaN</td>\n",
              "      <td>NaN</td>\n",
              "      <td>NaN</td>\n",
              "      <td>NaN</td>\n",
              "      <td>NaN</td>\n",
              "      <td>NaN</td>\n",
              "      <td>NaN</td>\n",
              "      <td>NaN</td>\n",
              "      <td>NaN</td>\n",
              "      <td>NaN</td>\n",
              "      <td>NaN</td>\n",
              "      <td>NaN</td>\n",
              "      <td>NaN</td>\n",
              "      <td>NaN</td>\n",
              "      <td>NaN</td>\n",
              "      <td>NaN</td>\n",
              "      <td>NaN</td>\n",
              "      <td>5979.1299</td>\n",
              "      <td>5994.0400</td>\n",
              "      <td>5928.0400</td>\n",
              "      <td>5967.2798</td>\n",
              "      <td>0.0</td>\n",
              "      <td>7568.3398</td>\n",
              "      <td>7590.5298</td>\n",
              "      <td>7447.7100</td>\n",
              "      <td>7590.5298</td>\n",
              "      <td>24404000.0</td>\n",
              "      <td>NaN</td>\n",
              "      <td>NaN</td>\n",
              "      <td>NaN</td>\n",
              "      <td>NaN</td>\n",
              "      <td>NaN</td>\n",
              "      <td>5033.3301</td>\n",
              "      <td>5033.3301</td>\n",
              "      <td>5033.3301</td>\n",
              "      <td>5033.3301</td>\n",
              "      <td>0.0</td>\n",
              "      <td>NaN</td>\n",
              "      <td>NaN</td>\n",
              "      <td>NaN</td>\n",
              "      <td>NaN</td>\n",
              "      <td>NaN</td>\n",
              "    </tr>\n",
              "    <tr>\n",
              "      <th>2000-01-17</th>\n",
              "      <td>NaN</td>\n",
              "      <td>NaN</td>\n",
              "      <td>NaN</td>\n",
              "      <td>NaN</td>\n",
              "      <td>NaN</td>\n",
              "      <td>NaN</td>\n",
              "      <td>NaN</td>\n",
              "      <td>NaN</td>\n",
              "      <td>NaN</td>\n",
              "      <td>NaN</td>\n",
              "      <td>NaN</td>\n",
              "      <td>NaN</td>\n",
              "      <td>NaN</td>\n",
              "      <td>NaN</td>\n",
              "      <td>NaN</td>\n",
              "      <td>NaN</td>\n",
              "      <td>NaN</td>\n",
              "      <td>NaN</td>\n",
              "      <td>NaN</td>\n",
              "      <td>NaN</td>\n",
              "      <td>NaN</td>\n",
              "      <td>NaN</td>\n",
              "      <td>NaN</td>\n",
              "      <td>NaN</td>\n",
              "      <td>NaN</td>\n",
              "      <td>NaN</td>\n",
              "      <td>NaN</td>\n",
              "      <td>NaN</td>\n",
              "      <td>NaN</td>\n",
              "      <td>NaN</td>\n",
              "      <td>NaN</td>\n",
              "      <td>NaN</td>\n",
              "      <td>NaN</td>\n",
              "      <td>NaN</td>\n",
              "      <td>NaN</td>\n",
              "      <td>NaN</td>\n",
              "      <td>NaN</td>\n",
              "      <td>NaN</td>\n",
              "      <td>NaN</td>\n",
              "      <td>NaN</td>\n",
              "      <td>NaN</td>\n",
              "      <td>NaN</td>\n",
              "      <td>NaN</td>\n",
              "      <td>NaN</td>\n",
              "      <td>NaN</td>\n",
              "      <td>NaN</td>\n",
              "      <td>NaN</td>\n",
              "      <td>NaN</td>\n",
              "      <td>NaN</td>\n",
              "      <td>NaN</td>\n",
              "      <td>NaN</td>\n",
              "      <td>NaN</td>\n",
              "      <td>NaN</td>\n",
              "      <td>NaN</td>\n",
              "      <td>NaN</td>\n",
              "      <td>5834.7500</td>\n",
              "      <td>5857.3599</td>\n",
              "      <td>5740.1899</td>\n",
              "      <td>5842.7798</td>\n",
              "      <td>0.0</td>\n",
              "      <td>7177.4800</td>\n",
              "      <td>7297.0400</td>\n",
              "      <td>7112.9702</td>\n",
              "      <td>7258.8999</td>\n",
              "      <td>44872800.0</td>\n",
              "      <td>NaN</td>\n",
              "      <td>NaN</td>\n",
              "      <td>NaN</td>\n",
              "      <td>NaN</td>\n",
              "      <td>NaN</td>\n",
              "      <td>4884.5000</td>\n",
              "      <td>4884.5000</td>\n",
              "      <td>4884.5000</td>\n",
              "      <td>4884.5000</td>\n",
              "      <td>0.0</td>\n",
              "      <td>NaN</td>\n",
              "      <td>NaN</td>\n",
              "      <td>NaN</td>\n",
              "      <td>NaN</td>\n",
              "      <td>NaN</td>\n",
              "    </tr>\n",
              "  </tbody>\n",
              "</table>\n",
              "<p>5732 rows × 80 columns</p>\n",
              "</div>"
            ],
            "text/plain": [
              "            Open MSFT  High MSFT  ...  Close INTEL  Volume INTEL\n",
              "time                              ...                           \n",
              "2020-03-18      138.0   146.0000  ...        29.20      192337.0\n",
              "2020-03-17      140.0   147.4998  ...        32.40      273967.0\n",
              "2020-03-16      140.0   149.3500  ...        29.01       97928.0\n",
              "2020-03-13      147.5   161.9100  ...        33.00      126388.0\n",
              "2020-03-12      145.3   153.4700  ...        32.43      145336.0\n",
              "...               ...        ...  ...          ...           ...\n",
              "2000-07-04        NaN        NaN  ...          NaN           NaN\n",
              "2000-05-29        NaN        NaN  ...          NaN           NaN\n",
              "2000-04-21        NaN        NaN  ...          NaN           NaN\n",
              "2000-02-21        NaN        NaN  ...          NaN           NaN\n",
              "2000-01-17        NaN        NaN  ...          NaN           NaN\n",
              "\n",
              "[5732 rows x 80 columns]"
            ]
          },
          "metadata": {},
          "execution_count": 158
        }
      ]
    },
    {
      "cell_type": "code",
      "metadata": {
        "id": "ryhsmwSMRvNn",
        "colab": {
          "base_uri": "https://localhost:8080/",
          "height": 0
        },
        "outputId": "f27253b7-16dc-468c-d745-ff785a0a0fd5"
      },
      "source": [
        "# Ordonning\n",
        "assets = assets.sort_index(ascending=True)\n",
        "assets"
      ],
      "execution_count": 159,
      "outputs": [
        {
          "output_type": "execute_result",
          "data": {
            "text/html": [
              "<div>\n",
              "<style scoped>\n",
              "    .dataframe tbody tr th:only-of-type {\n",
              "        vertical-align: middle;\n",
              "    }\n",
              "\n",
              "    .dataframe tbody tr th {\n",
              "        vertical-align: top;\n",
              "    }\n",
              "\n",
              "    .dataframe thead th {\n",
              "        text-align: right;\n",
              "    }\n",
              "</style>\n",
              "<table border=\"1\" class=\"dataframe\">\n",
              "  <thead>\n",
              "    <tr style=\"text-align: right;\">\n",
              "      <th></th>\n",
              "      <th>Open MSFT</th>\n",
              "      <th>High MSFT</th>\n",
              "      <th>Low MSFT</th>\n",
              "      <th>Close MSFT</th>\n",
              "      <th>Volume MSFT</th>\n",
              "      <th>Open GOOG</th>\n",
              "      <th>High GOOG</th>\n",
              "      <th>Low GOOG</th>\n",
              "      <th>Close GOOG</th>\n",
              "      <th>Volume GOOG</th>\n",
              "      <th>Open GOLD</th>\n",
              "      <th>High GOLD</th>\n",
              "      <th>Low GOLD</th>\n",
              "      <th>Close GOLD</th>\n",
              "      <th>Volume GOLD</th>\n",
              "      <th>Open SP500</th>\n",
              "      <th>High SP500</th>\n",
              "      <th>Low SP500</th>\n",
              "      <th>Close SP500</th>\n",
              "      <th>Volume SP500</th>\n",
              "      <th>Open DJI30</th>\n",
              "      <th>High DJI30</th>\n",
              "      <th>Low DJI30</th>\n",
              "      <th>Close DJI30</th>\n",
              "      <th>Volume DJI30</th>\n",
              "      <th>Open AAPL</th>\n",
              "      <th>High AAPL</th>\n",
              "      <th>Low AAPL</th>\n",
              "      <th>Close AAPL</th>\n",
              "      <th>Volume AAPL</th>\n",
              "      <th>Open EUR/USD</th>\n",
              "      <th>High EUR/USD</th>\n",
              "      <th>Low EUR/USD</th>\n",
              "      <th>Close EUR/USD</th>\n",
              "      <th>Open USD/CAD</th>\n",
              "      <th>High USD/CAD</th>\n",
              "      <th>Low USD/CAD</th>\n",
              "      <th>Close USD/CAD</th>\n",
              "      <th>Open USD/AUD</th>\n",
              "      <th>High USD/AUD</th>\n",
              "      <th>Low USD/AUD</th>\n",
              "      <th>Close USD/AUD</th>\n",
              "      <th>Open USD/CNY</th>\n",
              "      <th>High USD/CNY</th>\n",
              "      <th>Low USD/CNY</th>\n",
              "      <th>Close USD/CNY</th>\n",
              "      <th>Open USD/GBP</th>\n",
              "      <th>High USD/GBP</th>\n",
              "      <th>Low USD/GBP</th>\n",
              "      <th>Close USD/GBP</th>\n",
              "      <th>Open AMZN</th>\n",
              "      <th>High AMZN</th>\n",
              "      <th>Low AMZN</th>\n",
              "      <th>Close AMZN</th>\n",
              "      <th>Volume AMZN</th>\n",
              "      <th>Open CAC40</th>\n",
              "      <th>High CAC40</th>\n",
              "      <th>Low CAC40</th>\n",
              "      <th>Close CAC40</th>\n",
              "      <th>Volume CAC40</th>\n",
              "      <th>Open DAX30</th>\n",
              "      <th>High DAX30</th>\n",
              "      <th>Low DAX30</th>\n",
              "      <th>Close DAX30</th>\n",
              "      <th>Volume DAX30</th>\n",
              "      <th>Open RUSSEL2000</th>\n",
              "      <th>High RUSSEL2000</th>\n",
              "      <th>Low RUSSEL2000</th>\n",
              "      <th>Close RUSSEL2000</th>\n",
              "      <th>Volume RUSSEL2000</th>\n",
              "      <th>Open EUROSTOCK50</th>\n",
              "      <th>High EUROSTOCK50</th>\n",
              "      <th>Low EUROSTOCK50</th>\n",
              "      <th>Close EUROSTOCK50</th>\n",
              "      <th>Volume EUROSTOCK50</th>\n",
              "      <th>Open INTEL</th>\n",
              "      <th>High INTEL</th>\n",
              "      <th>Low INTEL</th>\n",
              "      <th>Close INTEL</th>\n",
              "      <th>Volume INTEL</th>\n",
              "    </tr>\n",
              "    <tr>\n",
              "      <th>time</th>\n",
              "      <th></th>\n",
              "      <th></th>\n",
              "      <th></th>\n",
              "      <th></th>\n",
              "      <th></th>\n",
              "      <th></th>\n",
              "      <th></th>\n",
              "      <th></th>\n",
              "      <th></th>\n",
              "      <th></th>\n",
              "      <th></th>\n",
              "      <th></th>\n",
              "      <th></th>\n",
              "      <th></th>\n",
              "      <th></th>\n",
              "      <th></th>\n",
              "      <th></th>\n",
              "      <th></th>\n",
              "      <th></th>\n",
              "      <th></th>\n",
              "      <th></th>\n",
              "      <th></th>\n",
              "      <th></th>\n",
              "      <th></th>\n",
              "      <th></th>\n",
              "      <th></th>\n",
              "      <th></th>\n",
              "      <th></th>\n",
              "      <th></th>\n",
              "      <th></th>\n",
              "      <th></th>\n",
              "      <th></th>\n",
              "      <th></th>\n",
              "      <th></th>\n",
              "      <th></th>\n",
              "      <th></th>\n",
              "      <th></th>\n",
              "      <th></th>\n",
              "      <th></th>\n",
              "      <th></th>\n",
              "      <th></th>\n",
              "      <th></th>\n",
              "      <th></th>\n",
              "      <th></th>\n",
              "      <th></th>\n",
              "      <th></th>\n",
              "      <th></th>\n",
              "      <th></th>\n",
              "      <th></th>\n",
              "      <th></th>\n",
              "      <th></th>\n",
              "      <th></th>\n",
              "      <th></th>\n",
              "      <th></th>\n",
              "      <th></th>\n",
              "      <th></th>\n",
              "      <th></th>\n",
              "      <th></th>\n",
              "      <th></th>\n",
              "      <th></th>\n",
              "      <th></th>\n",
              "      <th></th>\n",
              "      <th></th>\n",
              "      <th></th>\n",
              "      <th></th>\n",
              "      <th></th>\n",
              "      <th></th>\n",
              "      <th></th>\n",
              "      <th></th>\n",
              "      <th></th>\n",
              "      <th></th>\n",
              "      <th></th>\n",
              "      <th></th>\n",
              "      <th></th>\n",
              "      <th></th>\n",
              "      <th></th>\n",
              "      <th></th>\n",
              "      <th></th>\n",
              "      <th></th>\n",
              "      <th></th>\n",
              "    </tr>\n",
              "  </thead>\n",
              "  <tbody>\n",
              "    <tr>\n",
              "      <th>2000-01-03</th>\n",
              "      <td>NaN</td>\n",
              "      <td>NaN</td>\n",
              "      <td>NaN</td>\n",
              "      <td>NaN</td>\n",
              "      <td>NaN</td>\n",
              "      <td>NaN</td>\n",
              "      <td>NaN</td>\n",
              "      <td>NaN</td>\n",
              "      <td>NaN</td>\n",
              "      <td>NaN</td>\n",
              "      <td>NaN</td>\n",
              "      <td>NaN</td>\n",
              "      <td>NaN</td>\n",
              "      <td>NaN</td>\n",
              "      <td>NaN</td>\n",
              "      <td>1469.2500</td>\n",
              "      <td>1478.0000</td>\n",
              "      <td>1438.3600</td>\n",
              "      <td>1455.2200</td>\n",
              "      <td>9.318000e+08</td>\n",
              "      <td>11501.8496</td>\n",
              "      <td>11522.0098</td>\n",
              "      <td>11305.6904</td>\n",
              "      <td>11357.5098</td>\n",
              "      <td>169750000.0</td>\n",
              "      <td>NaN</td>\n",
              "      <td>NaN</td>\n",
              "      <td>NaN</td>\n",
              "      <td>NaN</td>\n",
              "      <td>NaN</td>\n",
              "      <td>NaN</td>\n",
              "      <td>NaN</td>\n",
              "      <td>NaN</td>\n",
              "      <td>NaN</td>\n",
              "      <td>NaN</td>\n",
              "      <td>NaN</td>\n",
              "      <td>NaN</td>\n",
              "      <td>NaN</td>\n",
              "      <td>NaN</td>\n",
              "      <td>NaN</td>\n",
              "      <td>NaN</td>\n",
              "      <td>NaN</td>\n",
              "      <td>NaN</td>\n",
              "      <td>NaN</td>\n",
              "      <td>NaN</td>\n",
              "      <td>NaN</td>\n",
              "      <td>NaN</td>\n",
              "      <td>NaN</td>\n",
              "      <td>NaN</td>\n",
              "      <td>NaN</td>\n",
              "      <td>NaN</td>\n",
              "      <td>NaN</td>\n",
              "      <td>NaN</td>\n",
              "      <td>NaN</td>\n",
              "      <td>NaN</td>\n",
              "      <td>6024.3799</td>\n",
              "      <td>6102.1201</td>\n",
              "      <td>5901.7700</td>\n",
              "      <td>5917.3701</td>\n",
              "      <td>0.0</td>\n",
              "      <td>6961.7202</td>\n",
              "      <td>7159.3301</td>\n",
              "      <td>6720.8701</td>\n",
              "      <td>6750.7598</td>\n",
              "      <td>43072500.0</td>\n",
              "      <td>504.7600</td>\n",
              "      <td>510.9600</td>\n",
              "      <td>489.9500</td>\n",
              "      <td>496.4200</td>\n",
              "      <td>9318000.0</td>\n",
              "      <td>4849.2202</td>\n",
              "      <td>4849.2202</td>\n",
              "      <td>4849.2202</td>\n",
              "      <td>4849.2202</td>\n",
              "      <td>0.0</td>\n",
              "      <td>NaN</td>\n",
              "      <td>NaN</td>\n",
              "      <td>NaN</td>\n",
              "      <td>NaN</td>\n",
              "      <td>NaN</td>\n",
              "    </tr>\n",
              "    <tr>\n",
              "      <th>2000-01-04</th>\n",
              "      <td>NaN</td>\n",
              "      <td>NaN</td>\n",
              "      <td>NaN</td>\n",
              "      <td>NaN</td>\n",
              "      <td>NaN</td>\n",
              "      <td>NaN</td>\n",
              "      <td>NaN</td>\n",
              "      <td>NaN</td>\n",
              "      <td>NaN</td>\n",
              "      <td>NaN</td>\n",
              "      <td>NaN</td>\n",
              "      <td>NaN</td>\n",
              "      <td>NaN</td>\n",
              "      <td>NaN</td>\n",
              "      <td>NaN</td>\n",
              "      <td>1455.2200</td>\n",
              "      <td>1455.2200</td>\n",
              "      <td>1397.4301</td>\n",
              "      <td>1399.4200</td>\n",
              "      <td>1.009000e+09</td>\n",
              "      <td>11349.7500</td>\n",
              "      <td>11350.0596</td>\n",
              "      <td>10986.4502</td>\n",
              "      <td>10997.9297</td>\n",
              "      <td>178420000.0</td>\n",
              "      <td>NaN</td>\n",
              "      <td>NaN</td>\n",
              "      <td>NaN</td>\n",
              "      <td>NaN</td>\n",
              "      <td>NaN</td>\n",
              "      <td>NaN</td>\n",
              "      <td>NaN</td>\n",
              "      <td>NaN</td>\n",
              "      <td>NaN</td>\n",
              "      <td>NaN</td>\n",
              "      <td>NaN</td>\n",
              "      <td>NaN</td>\n",
              "      <td>NaN</td>\n",
              "      <td>NaN</td>\n",
              "      <td>NaN</td>\n",
              "      <td>NaN</td>\n",
              "      <td>NaN</td>\n",
              "      <td>NaN</td>\n",
              "      <td>NaN</td>\n",
              "      <td>NaN</td>\n",
              "      <td>NaN</td>\n",
              "      <td>NaN</td>\n",
              "      <td>NaN</td>\n",
              "      <td>NaN</td>\n",
              "      <td>NaN</td>\n",
              "      <td>NaN</td>\n",
              "      <td>NaN</td>\n",
              "      <td>NaN</td>\n",
              "      <td>NaN</td>\n",
              "      <td>NaN</td>\n",
              "      <td>5922.2300</td>\n",
              "      <td>5925.0698</td>\n",
              "      <td>5657.2002</td>\n",
              "      <td>5672.0200</td>\n",
              "      <td>0.0</td>\n",
              "      <td>6747.2402</td>\n",
              "      <td>6755.3599</td>\n",
              "      <td>6510.4600</td>\n",
              "      <td>6586.9502</td>\n",
              "      <td>46678400.0</td>\n",
              "      <td>497.0500</td>\n",
              "      <td>497.0500</td>\n",
              "      <td>478.2000</td>\n",
              "      <td>478.3800</td>\n",
              "      <td>10090000.0</td>\n",
              "      <td>4657.8301</td>\n",
              "      <td>4657.8301</td>\n",
              "      <td>4657.8301</td>\n",
              "      <td>4657.8301</td>\n",
              "      <td>0.0</td>\n",
              "      <td>NaN</td>\n",
              "      <td>NaN</td>\n",
              "      <td>NaN</td>\n",
              "      <td>NaN</td>\n",
              "      <td>NaN</td>\n",
              "    </tr>\n",
              "    <tr>\n",
              "      <th>2000-01-05</th>\n",
              "      <td>NaN</td>\n",
              "      <td>NaN</td>\n",
              "      <td>NaN</td>\n",
              "      <td>NaN</td>\n",
              "      <td>NaN</td>\n",
              "      <td>NaN</td>\n",
              "      <td>NaN</td>\n",
              "      <td>NaN</td>\n",
              "      <td>NaN</td>\n",
              "      <td>NaN</td>\n",
              "      <td>NaN</td>\n",
              "      <td>NaN</td>\n",
              "      <td>NaN</td>\n",
              "      <td>NaN</td>\n",
              "      <td>NaN</td>\n",
              "      <td>1399.4200</td>\n",
              "      <td>1413.2700</td>\n",
              "      <td>1377.6801</td>\n",
              "      <td>1402.1100</td>\n",
              "      <td>1.085500e+09</td>\n",
              "      <td>10989.3701</td>\n",
              "      <td>11215.0996</td>\n",
              "      <td>10938.6699</td>\n",
              "      <td>11122.6504</td>\n",
              "      <td>203190000.0</td>\n",
              "      <td>NaN</td>\n",
              "      <td>NaN</td>\n",
              "      <td>NaN</td>\n",
              "      <td>NaN</td>\n",
              "      <td>NaN</td>\n",
              "      <td>NaN</td>\n",
              "      <td>NaN</td>\n",
              "      <td>NaN</td>\n",
              "      <td>NaN</td>\n",
              "      <td>NaN</td>\n",
              "      <td>NaN</td>\n",
              "      <td>NaN</td>\n",
              "      <td>NaN</td>\n",
              "      <td>NaN</td>\n",
              "      <td>NaN</td>\n",
              "      <td>NaN</td>\n",
              "      <td>NaN</td>\n",
              "      <td>NaN</td>\n",
              "      <td>NaN</td>\n",
              "      <td>NaN</td>\n",
              "      <td>NaN</td>\n",
              "      <td>NaN</td>\n",
              "      <td>NaN</td>\n",
              "      <td>NaN</td>\n",
              "      <td>NaN</td>\n",
              "      <td>NaN</td>\n",
              "      <td>NaN</td>\n",
              "      <td>NaN</td>\n",
              "      <td>NaN</td>\n",
              "      <td>NaN</td>\n",
              "      <td>5521.8301</td>\n",
              "      <td>5589.5000</td>\n",
              "      <td>5461.5898</td>\n",
              "      <td>5479.7002</td>\n",
              "      <td>0.0</td>\n",
              "      <td>6585.8501</td>\n",
              "      <td>6585.8501</td>\n",
              "      <td>6388.9102</td>\n",
              "      <td>6502.0698</td>\n",
              "      <td>52682800.0</td>\n",
              "      <td>478.3800</td>\n",
              "      <td>479.4800</td>\n",
              "      <td>467.5600</td>\n",
              "      <td>478.8300</td>\n",
              "      <td>10855000.0</td>\n",
              "      <td>4541.7500</td>\n",
              "      <td>4541.7500</td>\n",
              "      <td>4541.7500</td>\n",
              "      <td>4541.7500</td>\n",
              "      <td>0.0</td>\n",
              "      <td>NaN</td>\n",
              "      <td>NaN</td>\n",
              "      <td>NaN</td>\n",
              "      <td>NaN</td>\n",
              "      <td>NaN</td>\n",
              "    </tr>\n",
              "    <tr>\n",
              "      <th>2000-01-06</th>\n",
              "      <td>NaN</td>\n",
              "      <td>NaN</td>\n",
              "      <td>NaN</td>\n",
              "      <td>NaN</td>\n",
              "      <td>NaN</td>\n",
              "      <td>NaN</td>\n",
              "      <td>NaN</td>\n",
              "      <td>NaN</td>\n",
              "      <td>NaN</td>\n",
              "      <td>NaN</td>\n",
              "      <td>NaN</td>\n",
              "      <td>NaN</td>\n",
              "      <td>NaN</td>\n",
              "      <td>NaN</td>\n",
              "      <td>NaN</td>\n",
              "      <td>1402.1100</td>\n",
              "      <td>1411.9000</td>\n",
              "      <td>1392.1000</td>\n",
              "      <td>1403.4500</td>\n",
              "      <td>1.092300e+09</td>\n",
              "      <td>11113.3701</td>\n",
              "      <td>11313.4502</td>\n",
              "      <td>11098.4502</td>\n",
              "      <td>11253.2598</td>\n",
              "      <td>176550000.0</td>\n",
              "      <td>NaN</td>\n",
              "      <td>NaN</td>\n",
              "      <td>NaN</td>\n",
              "      <td>NaN</td>\n",
              "      <td>NaN</td>\n",
              "      <td>NaN</td>\n",
              "      <td>NaN</td>\n",
              "      <td>NaN</td>\n",
              "      <td>NaN</td>\n",
              "      <td>NaN</td>\n",
              "      <td>NaN</td>\n",
              "      <td>NaN</td>\n",
              "      <td>NaN</td>\n",
              "      <td>NaN</td>\n",
              "      <td>NaN</td>\n",
              "      <td>NaN</td>\n",
              "      <td>NaN</td>\n",
              "      <td>NaN</td>\n",
              "      <td>NaN</td>\n",
              "      <td>NaN</td>\n",
              "      <td>NaN</td>\n",
              "      <td>NaN</td>\n",
              "      <td>NaN</td>\n",
              "      <td>NaN</td>\n",
              "      <td>NaN</td>\n",
              "      <td>NaN</td>\n",
              "      <td>NaN</td>\n",
              "      <td>NaN</td>\n",
              "      <td>NaN</td>\n",
              "      <td>NaN</td>\n",
              "      <td>5485.9302</td>\n",
              "      <td>5530.2598</td>\n",
              "      <td>5388.8501</td>\n",
              "      <td>5450.1099</td>\n",
              "      <td>0.0</td>\n",
              "      <td>6501.4502</td>\n",
              "      <td>6539.3101</td>\n",
              "      <td>6402.6299</td>\n",
              "      <td>6474.9199</td>\n",
              "      <td>41180600.0</td>\n",
              "      <td>478.8300</td>\n",
              "      <td>480.1900</td>\n",
              "      <td>474.4000</td>\n",
              "      <td>475.3400</td>\n",
              "      <td>10923000.0</td>\n",
              "      <td>4500.6899</td>\n",
              "      <td>4500.6899</td>\n",
              "      <td>4500.6899</td>\n",
              "      <td>4500.6899</td>\n",
              "      <td>0.0</td>\n",
              "      <td>NaN</td>\n",
              "      <td>NaN</td>\n",
              "      <td>NaN</td>\n",
              "      <td>NaN</td>\n",
              "      <td>NaN</td>\n",
              "    </tr>\n",
              "    <tr>\n",
              "      <th>2000-01-07</th>\n",
              "      <td>NaN</td>\n",
              "      <td>NaN</td>\n",
              "      <td>NaN</td>\n",
              "      <td>NaN</td>\n",
              "      <td>NaN</td>\n",
              "      <td>NaN</td>\n",
              "      <td>NaN</td>\n",
              "      <td>NaN</td>\n",
              "      <td>NaN</td>\n",
              "      <td>NaN</td>\n",
              "      <td>NaN</td>\n",
              "      <td>NaN</td>\n",
              "      <td>NaN</td>\n",
              "      <td>NaN</td>\n",
              "      <td>NaN</td>\n",
              "      <td>1403.4500</td>\n",
              "      <td>1441.4700</td>\n",
              "      <td>1400.7300</td>\n",
              "      <td>1441.4700</td>\n",
              "      <td>1.225200e+09</td>\n",
              "      <td>11247.0596</td>\n",
              "      <td>11528.1396</td>\n",
              "      <td>11239.9199</td>\n",
              "      <td>11522.5596</td>\n",
              "      <td>184900000.0</td>\n",
              "      <td>NaN</td>\n",
              "      <td>NaN</td>\n",
              "      <td>NaN</td>\n",
              "      <td>NaN</td>\n",
              "      <td>NaN</td>\n",
              "      <td>NaN</td>\n",
              "      <td>NaN</td>\n",
              "      <td>NaN</td>\n",
              "      <td>NaN</td>\n",
              "      <td>NaN</td>\n",
              "      <td>NaN</td>\n",
              "      <td>NaN</td>\n",
              "      <td>NaN</td>\n",
              "      <td>NaN</td>\n",
              "      <td>NaN</td>\n",
              "      <td>NaN</td>\n",
              "      <td>NaN</td>\n",
              "      <td>NaN</td>\n",
              "      <td>NaN</td>\n",
              "      <td>NaN</td>\n",
              "      <td>NaN</td>\n",
              "      <td>NaN</td>\n",
              "      <td>NaN</td>\n",
              "      <td>NaN</td>\n",
              "      <td>NaN</td>\n",
              "      <td>NaN</td>\n",
              "      <td>NaN</td>\n",
              "      <td>NaN</td>\n",
              "      <td>NaN</td>\n",
              "      <td>NaN</td>\n",
              "      <td>5423.8799</td>\n",
              "      <td>5561.6899</td>\n",
              "      <td>5423.8799</td>\n",
              "      <td>5539.6099</td>\n",
              "      <td>0.0</td>\n",
              "      <td>6489.9399</td>\n",
              "      <td>6791.5298</td>\n",
              "      <td>6470.1401</td>\n",
              "      <td>6780.9600</td>\n",
              "      <td>56058900.0</td>\n",
              "      <td>475.3400</td>\n",
              "      <td>488.3100</td>\n",
              "      <td>475.3400</td>\n",
              "      <td>488.3100</td>\n",
              "      <td>12252000.0</td>\n",
              "      <td>4648.2700</td>\n",
              "      <td>4648.2700</td>\n",
              "      <td>4648.2700</td>\n",
              "      <td>4648.2700</td>\n",
              "      <td>0.0</td>\n",
              "      <td>NaN</td>\n",
              "      <td>NaN</td>\n",
              "      <td>NaN</td>\n",
              "      <td>NaN</td>\n",
              "      <td>NaN</td>\n",
              "    </tr>\n",
              "    <tr>\n",
              "      <th>...</th>\n",
              "      <td>...</td>\n",
              "      <td>...</td>\n",
              "      <td>...</td>\n",
              "      <td>...</td>\n",
              "      <td>...</td>\n",
              "      <td>...</td>\n",
              "      <td>...</td>\n",
              "      <td>...</td>\n",
              "      <td>...</td>\n",
              "      <td>...</td>\n",
              "      <td>...</td>\n",
              "      <td>...</td>\n",
              "      <td>...</td>\n",
              "      <td>...</td>\n",
              "      <td>...</td>\n",
              "      <td>...</td>\n",
              "      <td>...</td>\n",
              "      <td>...</td>\n",
              "      <td>...</td>\n",
              "      <td>...</td>\n",
              "      <td>...</td>\n",
              "      <td>...</td>\n",
              "      <td>...</td>\n",
              "      <td>...</td>\n",
              "      <td>...</td>\n",
              "      <td>...</td>\n",
              "      <td>...</td>\n",
              "      <td>...</td>\n",
              "      <td>...</td>\n",
              "      <td>...</td>\n",
              "      <td>...</td>\n",
              "      <td>...</td>\n",
              "      <td>...</td>\n",
              "      <td>...</td>\n",
              "      <td>...</td>\n",
              "      <td>...</td>\n",
              "      <td>...</td>\n",
              "      <td>...</td>\n",
              "      <td>...</td>\n",
              "      <td>...</td>\n",
              "      <td>...</td>\n",
              "      <td>...</td>\n",
              "      <td>...</td>\n",
              "      <td>...</td>\n",
              "      <td>...</td>\n",
              "      <td>...</td>\n",
              "      <td>...</td>\n",
              "      <td>...</td>\n",
              "      <td>...</td>\n",
              "      <td>...</td>\n",
              "      <td>...</td>\n",
              "      <td>...</td>\n",
              "      <td>...</td>\n",
              "      <td>...</td>\n",
              "      <td>...</td>\n",
              "      <td>...</td>\n",
              "      <td>...</td>\n",
              "      <td>...</td>\n",
              "      <td>...</td>\n",
              "      <td>...</td>\n",
              "      <td>...</td>\n",
              "      <td>...</td>\n",
              "      <td>...</td>\n",
              "      <td>...</td>\n",
              "      <td>...</td>\n",
              "      <td>...</td>\n",
              "      <td>...</td>\n",
              "      <td>...</td>\n",
              "      <td>...</td>\n",
              "      <td>...</td>\n",
              "      <td>...</td>\n",
              "      <td>...</td>\n",
              "      <td>...</td>\n",
              "      <td>...</td>\n",
              "      <td>...</td>\n",
              "      <td>...</td>\n",
              "      <td>...</td>\n",
              "      <td>...</td>\n",
              "      <td>...</td>\n",
              "      <td>...</td>\n",
              "    </tr>\n",
              "    <tr>\n",
              "      <th>2020-03-15</th>\n",
              "      <td>NaN</td>\n",
              "      <td>NaN</td>\n",
              "      <td>NaN</td>\n",
              "      <td>NaN</td>\n",
              "      <td>NaN</td>\n",
              "      <td>NaN</td>\n",
              "      <td>NaN</td>\n",
              "      <td>NaN</td>\n",
              "      <td>NaN</td>\n",
              "      <td>NaN</td>\n",
              "      <td>NaN</td>\n",
              "      <td>NaN</td>\n",
              "      <td>NaN</td>\n",
              "      <td>NaN</td>\n",
              "      <td>NaN</td>\n",
              "      <td>NaN</td>\n",
              "      <td>NaN</td>\n",
              "      <td>NaN</td>\n",
              "      <td>NaN</td>\n",
              "      <td>NaN</td>\n",
              "      <td>NaN</td>\n",
              "      <td>NaN</td>\n",
              "      <td>NaN</td>\n",
              "      <td>NaN</td>\n",
              "      <td>NaN</td>\n",
              "      <td>NaN</td>\n",
              "      <td>NaN</td>\n",
              "      <td>NaN</td>\n",
              "      <td>NaN</td>\n",
              "      <td>NaN</td>\n",
              "      <td>1.1105</td>\n",
              "      <td>1.1200</td>\n",
              "      <td>1.1047</td>\n",
              "      <td>1.1157</td>\n",
              "      <td>1.3799</td>\n",
              "      <td>1.3899</td>\n",
              "      <td>1.3726</td>\n",
              "      <td>1.3846</td>\n",
              "      <td>1.6166</td>\n",
              "      <td>1.6354</td>\n",
              "      <td>1.5855</td>\n",
              "      <td>1.6214</td>\n",
              "      <td>NaN</td>\n",
              "      <td>NaN</td>\n",
              "      <td>NaN</td>\n",
              "      <td>NaN</td>\n",
              "      <td>0.8144</td>\n",
              "      <td>0.8151</td>\n",
              "      <td>0.8046</td>\n",
              "      <td>0.8062</td>\n",
              "      <td>NaN</td>\n",
              "      <td>NaN</td>\n",
              "      <td>NaN</td>\n",
              "      <td>NaN</td>\n",
              "      <td>NaN</td>\n",
              "      <td>NaN</td>\n",
              "      <td>NaN</td>\n",
              "      <td>NaN</td>\n",
              "      <td>NaN</td>\n",
              "      <td>NaN</td>\n",
              "      <td>NaN</td>\n",
              "      <td>NaN</td>\n",
              "      <td>NaN</td>\n",
              "      <td>NaN</td>\n",
              "      <td>NaN</td>\n",
              "      <td>NaN</td>\n",
              "      <td>NaN</td>\n",
              "      <td>NaN</td>\n",
              "      <td>NaN</td>\n",
              "      <td>NaN</td>\n",
              "      <td>NaN</td>\n",
              "      <td>NaN</td>\n",
              "      <td>NaN</td>\n",
              "      <td>NaN</td>\n",
              "      <td>NaN</td>\n",
              "      <td>NaN</td>\n",
              "      <td>NaN</td>\n",
              "      <td>NaN</td>\n",
              "      <td>NaN</td>\n",
              "      <td>NaN</td>\n",
              "    </tr>\n",
              "    <tr>\n",
              "      <th>2020-03-16</th>\n",
              "      <td>140.0</td>\n",
              "      <td>149.3500</td>\n",
              "      <td>135.00</td>\n",
              "      <td>135.42</td>\n",
              "      <td>87905868.0</td>\n",
              "      <td>1096.00</td>\n",
              "      <td>1152.27</td>\n",
              "      <td>1074.44</td>\n",
              "      <td>1084.33</td>\n",
              "      <td>4252365.0</td>\n",
              "      <td>13.21</td>\n",
              "      <td>17.15</td>\n",
              "      <td>12.650</td>\n",
              "      <td>16.33</td>\n",
              "      <td>36592679.0</td>\n",
              "      <td>2418.0191</td>\n",
              "      <td>2434.2419</td>\n",
              "      <td>2412.7850</td>\n",
              "      <td>2426.6181</td>\n",
              "      <td>2.925050e+05</td>\n",
              "      <td>20917.5293</td>\n",
              "      <td>21768.2793</td>\n",
              "      <td>20116.4609</td>\n",
              "      <td>20188.5195</td>\n",
              "      <td>770130000.0</td>\n",
              "      <td>241.95</td>\n",
              "      <td>259.08</td>\n",
              "      <td>240.00</td>\n",
              "      <td>242.21</td>\n",
              "      <td>80605865.0</td>\n",
              "      <td>1.1157</td>\n",
              "      <td>1.1237</td>\n",
              "      <td>1.1084</td>\n",
              "      <td>1.1168</td>\n",
              "      <td>1.3846</td>\n",
              "      <td>1.4019</td>\n",
              "      <td>1.3786</td>\n",
              "      <td>1.3991</td>\n",
              "      <td>1.6207</td>\n",
              "      <td>1.6442</td>\n",
              "      <td>1.6086</td>\n",
              "      <td>1.6327</td>\n",
              "      <td>7.0020</td>\n",
              "      <td>7.0236</td>\n",
              "      <td>6.9925</td>\n",
              "      <td>6.9931</td>\n",
              "      <td>0.8063</td>\n",
              "      <td>0.8194</td>\n",
              "      <td>0.8051</td>\n",
              "      <td>0.8152</td>\n",
              "      <td>1641.51</td>\n",
              "      <td>1759.45</td>\n",
              "      <td>1626.03</td>\n",
              "      <td>1689.15</td>\n",
              "      <td>8917265.0</td>\n",
              "      <td>3886.8201</td>\n",
              "      <td>3962.0100</td>\n",
              "      <td>3632.0601</td>\n",
              "      <td>3881.4600</td>\n",
              "      <td>311603900.0</td>\n",
              "      <td>8728.4805</td>\n",
              "      <td>8967.1104</td>\n",
              "      <td>8255.6504</td>\n",
              "      <td>8742.2500</td>\n",
              "      <td>302202400.0</td>\n",
              "      <td>1054.1179</td>\n",
              "      <td>1070.6257</td>\n",
              "      <td>1053.2714</td>\n",
              "      <td>1063.1651</td>\n",
              "      <td>805538.0</td>\n",
              "      <td>2557.7100</td>\n",
              "      <td>2557.7100</td>\n",
              "      <td>2302.8401</td>\n",
              "      <td>2450.3701</td>\n",
              "      <td>137137000.0</td>\n",
              "      <td>30.11</td>\n",
              "      <td>32.845</td>\n",
              "      <td>28.62</td>\n",
              "      <td>29.01</td>\n",
              "      <td>97928.0</td>\n",
              "    </tr>\n",
              "    <tr>\n",
              "      <th>2020-03-17</th>\n",
              "      <td>140.0</td>\n",
              "      <td>147.4998</td>\n",
              "      <td>135.00</td>\n",
              "      <td>146.57</td>\n",
              "      <td>81059817.0</td>\n",
              "      <td>1093.11</td>\n",
              "      <td>1130.86</td>\n",
              "      <td>1056.01</td>\n",
              "      <td>1119.80</td>\n",
              "      <td>3861489.0</td>\n",
              "      <td>16.21</td>\n",
              "      <td>18.59</td>\n",
              "      <td>16.130</td>\n",
              "      <td>17.71</td>\n",
              "      <td>32043530.0</td>\n",
              "      <td>2426.6181</td>\n",
              "      <td>2437.2174</td>\n",
              "      <td>2421.7897</td>\n",
              "      <td>2436.5000</td>\n",
              "      <td>5.107920e+05</td>\n",
              "      <td>20487.0508</td>\n",
              "      <td>21379.3496</td>\n",
              "      <td>19882.2598</td>\n",
              "      <td>21237.3809</td>\n",
              "      <td>793060000.0</td>\n",
              "      <td>247.51</td>\n",
              "      <td>257.61</td>\n",
              "      <td>238.40</td>\n",
              "      <td>252.86</td>\n",
              "      <td>81013965.0</td>\n",
              "      <td>1.1168</td>\n",
              "      <td>1.1189</td>\n",
              "      <td>1.0954</td>\n",
              "      <td>1.1015</td>\n",
              "      <td>1.3992</td>\n",
              "      <td>1.4277</td>\n",
              "      <td>1.3959</td>\n",
              "      <td>1.4228</td>\n",
              "      <td>1.6329</td>\n",
              "      <td>1.6775</td>\n",
              "      <td>1.6273</td>\n",
              "      <td>1.6699</td>\n",
              "      <td>6.9932</td>\n",
              "      <td>7.0233</td>\n",
              "      <td>6.9870</td>\n",
              "      <td>7.0047</td>\n",
              "      <td>0.8149</td>\n",
              "      <td>0.8329</td>\n",
              "      <td>0.8148</td>\n",
              "      <td>0.8281</td>\n",
              "      <td>1775.47</td>\n",
              "      <td>1857.78</td>\n",
              "      <td>1689.24</td>\n",
              "      <td>1807.84</td>\n",
              "      <td>10917129.0</td>\n",
              "      <td>4041.3301</td>\n",
              "      <td>4042.4600</td>\n",
              "      <td>3759.0000</td>\n",
              "      <td>3991.7800</td>\n",
              "      <td>225787000.0</td>\n",
              "      <td>9141.1699</td>\n",
              "      <td>9145.9297</td>\n",
              "      <td>8423.5596</td>\n",
              "      <td>8939.0996</td>\n",
              "      <td>220092600.0</td>\n",
              "      <td>1063.1651</td>\n",
              "      <td>1063.2460</td>\n",
              "      <td>1051.0800</td>\n",
              "      <td>1057.6499</td>\n",
              "      <td>779778.0</td>\n",
              "      <td>2475.1799</td>\n",
              "      <td>2555.4099</td>\n",
              "      <td>2376.2300</td>\n",
              "      <td>2530.5000</td>\n",
              "      <td>106905300.0</td>\n",
              "      <td>29.06</td>\n",
              "      <td>33.800</td>\n",
              "      <td>28.79</td>\n",
              "      <td>32.40</td>\n",
              "      <td>273967.0</td>\n",
              "    </tr>\n",
              "    <tr>\n",
              "      <th>2020-03-18</th>\n",
              "      <td>138.0</td>\n",
              "      <td>146.0000</td>\n",
              "      <td>135.02</td>\n",
              "      <td>140.40</td>\n",
              "      <td>80794307.0</td>\n",
              "      <td>1056.51</td>\n",
              "      <td>1106.50</td>\n",
              "      <td>1037.28</td>\n",
              "      <td>1096.80</td>\n",
              "      <td>4220935.0</td>\n",
              "      <td>17.08</td>\n",
              "      <td>17.98</td>\n",
              "      <td>15.445</td>\n",
              "      <td>15.88</td>\n",
              "      <td>30208367.0</td>\n",
              "      <td>2436.5000</td>\n",
              "      <td>2453.5701</td>\n",
              "      <td>2280.5200</td>\n",
              "      <td>2398.1001</td>\n",
              "      <td>9.018165e+08</td>\n",
              "      <td>20188.6895</td>\n",
              "      <td>20489.3301</td>\n",
              "      <td>18917.4609</td>\n",
              "      <td>19898.9199</td>\n",
              "      <td>871360000.0</td>\n",
              "      <td>239.77</td>\n",
              "      <td>250.00</td>\n",
              "      <td>237.12</td>\n",
              "      <td>246.67</td>\n",
              "      <td>74377540.0</td>\n",
              "      <td>1.1015</td>\n",
              "      <td>1.1045</td>\n",
              "      <td>1.0801</td>\n",
              "      <td>1.0933</td>\n",
              "      <td>1.4231</td>\n",
              "      <td>1.4651</td>\n",
              "      <td>1.4162</td>\n",
              "      <td>1.4481</td>\n",
              "      <td>1.6697</td>\n",
              "      <td>1.7528</td>\n",
              "      <td>1.6591</td>\n",
              "      <td>1.7269</td>\n",
              "      <td>7.0132</td>\n",
              "      <td>7.0478</td>\n",
              "      <td>7.0073</td>\n",
              "      <td>7.0475</td>\n",
              "      <td>0.8281</td>\n",
              "      <td>0.8703</td>\n",
              "      <td>0.8244</td>\n",
              "      <td>0.8589</td>\n",
              "      <td>1750.00</td>\n",
              "      <td>1841.66</td>\n",
              "      <td>1745.00</td>\n",
              "      <td>1830.00</td>\n",
              "      <td>9512897.0</td>\n",
              "      <td>3905.5300</td>\n",
              "      <td>3908.7200</td>\n",
              "      <td>3726.4500</td>\n",
              "      <td>3754.8401</td>\n",
              "      <td>214274700.0</td>\n",
              "      <td>8613.3496</td>\n",
              "      <td>8670.4102</td>\n",
              "      <td>8400.1797</td>\n",
              "      <td>8441.7100</td>\n",
              "      <td>207558900.0</td>\n",
              "      <td>1057.6499</td>\n",
              "      <td>1062.8826</td>\n",
              "      <td>966.2156</td>\n",
              "      <td>991.1641</td>\n",
              "      <td>0.0</td>\n",
              "      <td>2507.3301</td>\n",
              "      <td>2507.3301</td>\n",
              "      <td>2365.7000</td>\n",
              "      <td>2385.8201</td>\n",
              "      <td>98214900.0</td>\n",
              "      <td>30.24</td>\n",
              "      <td>32.455</td>\n",
              "      <td>28.01</td>\n",
              "      <td>29.20</td>\n",
              "      <td>192337.0</td>\n",
              "    </tr>\n",
              "    <tr>\n",
              "      <th>2020-03-19</th>\n",
              "      <td>NaN</td>\n",
              "      <td>NaN</td>\n",
              "      <td>NaN</td>\n",
              "      <td>NaN</td>\n",
              "      <td>NaN</td>\n",
              "      <td>NaN</td>\n",
              "      <td>NaN</td>\n",
              "      <td>NaN</td>\n",
              "      <td>NaN</td>\n",
              "      <td>NaN</td>\n",
              "      <td>NaN</td>\n",
              "      <td>NaN</td>\n",
              "      <td>NaN</td>\n",
              "      <td>NaN</td>\n",
              "      <td>NaN</td>\n",
              "      <td>NaN</td>\n",
              "      <td>NaN</td>\n",
              "      <td>NaN</td>\n",
              "      <td>NaN</td>\n",
              "      <td>NaN</td>\n",
              "      <td>NaN</td>\n",
              "      <td>NaN</td>\n",
              "      <td>NaN</td>\n",
              "      <td>NaN</td>\n",
              "      <td>NaN</td>\n",
              "      <td>NaN</td>\n",
              "      <td>NaN</td>\n",
              "      <td>NaN</td>\n",
              "      <td>NaN</td>\n",
              "      <td>NaN</td>\n",
              "      <td>1.0944</td>\n",
              "      <td>1.0949</td>\n",
              "      <td>1.0857</td>\n",
              "      <td>1.0858</td>\n",
              "      <td>1.4481</td>\n",
              "      <td>1.4668</td>\n",
              "      <td>1.4452</td>\n",
              "      <td>1.4571</td>\n",
              "      <td>1.7256</td>\n",
              "      <td>1.8120</td>\n",
              "      <td>1.7228</td>\n",
              "      <td>1.7671</td>\n",
              "      <td>7.0534</td>\n",
              "      <td>7.0836</td>\n",
              "      <td>7.0531</td>\n",
              "      <td>7.0836</td>\n",
              "      <td>0.8611</td>\n",
              "      <td>0.8715</td>\n",
              "      <td>0.8604</td>\n",
              "      <td>0.8714</td>\n",
              "      <td>NaN</td>\n",
              "      <td>NaN</td>\n",
              "      <td>NaN</td>\n",
              "      <td>NaN</td>\n",
              "      <td>NaN</td>\n",
              "      <td>NaN</td>\n",
              "      <td>NaN</td>\n",
              "      <td>NaN</td>\n",
              "      <td>NaN</td>\n",
              "      <td>NaN</td>\n",
              "      <td>NaN</td>\n",
              "      <td>NaN</td>\n",
              "      <td>NaN</td>\n",
              "      <td>NaN</td>\n",
              "      <td>NaN</td>\n",
              "      <td>NaN</td>\n",
              "      <td>NaN</td>\n",
              "      <td>NaN</td>\n",
              "      <td>NaN</td>\n",
              "      <td>NaN</td>\n",
              "      <td>NaN</td>\n",
              "      <td>NaN</td>\n",
              "      <td>NaN</td>\n",
              "      <td>NaN</td>\n",
              "      <td>NaN</td>\n",
              "      <td>NaN</td>\n",
              "      <td>NaN</td>\n",
              "      <td>NaN</td>\n",
              "      <td>NaN</td>\n",
              "      <td>NaN</td>\n",
              "    </tr>\n",
              "  </tbody>\n",
              "</table>\n",
              "<p>5732 rows × 80 columns</p>\n",
              "</div>"
            ],
            "text/plain": [
              "            Open MSFT  High MSFT  ...  Close INTEL  Volume INTEL\n",
              "time                              ...                           \n",
              "2000-01-03        NaN        NaN  ...          NaN           NaN\n",
              "2000-01-04        NaN        NaN  ...          NaN           NaN\n",
              "2000-01-05        NaN        NaN  ...          NaN           NaN\n",
              "2000-01-06        NaN        NaN  ...          NaN           NaN\n",
              "2000-01-07        NaN        NaN  ...          NaN           NaN\n",
              "...               ...        ...  ...          ...           ...\n",
              "2020-03-15        NaN        NaN  ...          NaN           NaN\n",
              "2020-03-16      140.0   149.3500  ...        29.01       97928.0\n",
              "2020-03-17      140.0   147.4998  ...        32.40      273967.0\n",
              "2020-03-18      138.0   146.0000  ...        29.20      192337.0\n",
              "2020-03-19        NaN        NaN  ...          NaN           NaN\n",
              "\n",
              "[5732 rows x 80 columns]"
            ]
          },
          "metadata": {},
          "execution_count": 159
        }
      ]
    },
    {
      "cell_type": "code",
      "metadata": {
        "id": "9ByJ7yg-TeOD",
        "colab": {
          "base_uri": "https://localhost:8080/",
          "height": 0
        },
        "outputId": "779f59e7-8760-47c6-d4e2-7d51872e1601"
      },
      "source": [
        "# Select a column\n",
        "assets = assets[[\"Close DJI30\", \"Close CAC40\", \"Close SP500\"]]\n",
        "assets"
      ],
      "execution_count": 160,
      "outputs": [
        {
          "output_type": "execute_result",
          "data": {
            "text/html": [
              "<div>\n",
              "<style scoped>\n",
              "    .dataframe tbody tr th:only-of-type {\n",
              "        vertical-align: middle;\n",
              "    }\n",
              "\n",
              "    .dataframe tbody tr th {\n",
              "        vertical-align: top;\n",
              "    }\n",
              "\n",
              "    .dataframe thead th {\n",
              "        text-align: right;\n",
              "    }\n",
              "</style>\n",
              "<table border=\"1\" class=\"dataframe\">\n",
              "  <thead>\n",
              "    <tr style=\"text-align: right;\">\n",
              "      <th></th>\n",
              "      <th>Close DJI30</th>\n",
              "      <th>Close CAC40</th>\n",
              "      <th>Close SP500</th>\n",
              "    </tr>\n",
              "    <tr>\n",
              "      <th>time</th>\n",
              "      <th></th>\n",
              "      <th></th>\n",
              "      <th></th>\n",
              "    </tr>\n",
              "  </thead>\n",
              "  <tbody>\n",
              "    <tr>\n",
              "      <th>2000-01-03</th>\n",
              "      <td>11357.5098</td>\n",
              "      <td>5917.3701</td>\n",
              "      <td>1455.2200</td>\n",
              "    </tr>\n",
              "    <tr>\n",
              "      <th>2000-01-04</th>\n",
              "      <td>10997.9297</td>\n",
              "      <td>5672.0200</td>\n",
              "      <td>1399.4200</td>\n",
              "    </tr>\n",
              "    <tr>\n",
              "      <th>2000-01-05</th>\n",
              "      <td>11122.6504</td>\n",
              "      <td>5479.7002</td>\n",
              "      <td>1402.1100</td>\n",
              "    </tr>\n",
              "    <tr>\n",
              "      <th>2000-01-06</th>\n",
              "      <td>11253.2598</td>\n",
              "      <td>5450.1099</td>\n",
              "      <td>1403.4500</td>\n",
              "    </tr>\n",
              "    <tr>\n",
              "      <th>2000-01-07</th>\n",
              "      <td>11522.5596</td>\n",
              "      <td>5539.6099</td>\n",
              "      <td>1441.4700</td>\n",
              "    </tr>\n",
              "    <tr>\n",
              "      <th>...</th>\n",
              "      <td>...</td>\n",
              "      <td>...</td>\n",
              "      <td>...</td>\n",
              "    </tr>\n",
              "    <tr>\n",
              "      <th>2020-03-15</th>\n",
              "      <td>NaN</td>\n",
              "      <td>NaN</td>\n",
              "      <td>NaN</td>\n",
              "    </tr>\n",
              "    <tr>\n",
              "      <th>2020-03-16</th>\n",
              "      <td>20188.5195</td>\n",
              "      <td>3881.4600</td>\n",
              "      <td>2426.6181</td>\n",
              "    </tr>\n",
              "    <tr>\n",
              "      <th>2020-03-17</th>\n",
              "      <td>21237.3809</td>\n",
              "      <td>3991.7800</td>\n",
              "      <td>2436.5000</td>\n",
              "    </tr>\n",
              "    <tr>\n",
              "      <th>2020-03-18</th>\n",
              "      <td>19898.9199</td>\n",
              "      <td>3754.8401</td>\n",
              "      <td>2398.1001</td>\n",
              "    </tr>\n",
              "    <tr>\n",
              "      <th>2020-03-19</th>\n",
              "      <td>NaN</td>\n",
              "      <td>NaN</td>\n",
              "      <td>NaN</td>\n",
              "    </tr>\n",
              "  </tbody>\n",
              "</table>\n",
              "<p>5732 rows × 3 columns</p>\n",
              "</div>"
            ],
            "text/plain": [
              "            Close DJI30  Close CAC40  Close SP500\n",
              "time                                             \n",
              "2000-01-03   11357.5098    5917.3701    1455.2200\n",
              "2000-01-04   10997.9297    5672.0200    1399.4200\n",
              "2000-01-05   11122.6504    5479.7002    1402.1100\n",
              "2000-01-06   11253.2598    5450.1099    1403.4500\n",
              "2000-01-07   11522.5596    5539.6099    1441.4700\n",
              "...                 ...          ...          ...\n",
              "2020-03-15          NaN          NaN          NaN\n",
              "2020-03-16   20188.5195    3881.4600    2426.6181\n",
              "2020-03-17   21237.3809    3991.7800    2436.5000\n",
              "2020-03-18   19898.9199    3754.8401    2398.1001\n",
              "2020-03-19          NaN          NaN          NaN\n",
              "\n",
              "[5732 rows x 3 columns]"
            ]
          },
          "metadata": {},
          "execution_count": 160
        }
      ]
    },
    {
      "cell_type": "code",
      "metadata": {
        "id": "ppgUESj5SAKm",
        "colab": {
          "base_uri": "https://localhost:8080/",
          "height": 0
        },
        "outputId": "520dbdab-9d1f-4ace-d53f-1e5154829040"
      },
      "source": [
        "# Reset index\n",
        "assets.reset_index(drop=True)"
      ],
      "execution_count": 161,
      "outputs": [
        {
          "output_type": "execute_result",
          "data": {
            "text/html": [
              "<div>\n",
              "<style scoped>\n",
              "    .dataframe tbody tr th:only-of-type {\n",
              "        vertical-align: middle;\n",
              "    }\n",
              "\n",
              "    .dataframe tbody tr th {\n",
              "        vertical-align: top;\n",
              "    }\n",
              "\n",
              "    .dataframe thead th {\n",
              "        text-align: right;\n",
              "    }\n",
              "</style>\n",
              "<table border=\"1\" class=\"dataframe\">\n",
              "  <thead>\n",
              "    <tr style=\"text-align: right;\">\n",
              "      <th></th>\n",
              "      <th>Close DJI30</th>\n",
              "      <th>Close CAC40</th>\n",
              "      <th>Close SP500</th>\n",
              "    </tr>\n",
              "  </thead>\n",
              "  <tbody>\n",
              "    <tr>\n",
              "      <th>0</th>\n",
              "      <td>11357.5098</td>\n",
              "      <td>5917.3701</td>\n",
              "      <td>1455.2200</td>\n",
              "    </tr>\n",
              "    <tr>\n",
              "      <th>1</th>\n",
              "      <td>10997.9297</td>\n",
              "      <td>5672.0200</td>\n",
              "      <td>1399.4200</td>\n",
              "    </tr>\n",
              "    <tr>\n",
              "      <th>2</th>\n",
              "      <td>11122.6504</td>\n",
              "      <td>5479.7002</td>\n",
              "      <td>1402.1100</td>\n",
              "    </tr>\n",
              "    <tr>\n",
              "      <th>3</th>\n",
              "      <td>11253.2598</td>\n",
              "      <td>5450.1099</td>\n",
              "      <td>1403.4500</td>\n",
              "    </tr>\n",
              "    <tr>\n",
              "      <th>4</th>\n",
              "      <td>11522.5596</td>\n",
              "      <td>5539.6099</td>\n",
              "      <td>1441.4700</td>\n",
              "    </tr>\n",
              "    <tr>\n",
              "      <th>...</th>\n",
              "      <td>...</td>\n",
              "      <td>...</td>\n",
              "      <td>...</td>\n",
              "    </tr>\n",
              "    <tr>\n",
              "      <th>5727</th>\n",
              "      <td>NaN</td>\n",
              "      <td>NaN</td>\n",
              "      <td>NaN</td>\n",
              "    </tr>\n",
              "    <tr>\n",
              "      <th>5728</th>\n",
              "      <td>20188.5195</td>\n",
              "      <td>3881.4600</td>\n",
              "      <td>2426.6181</td>\n",
              "    </tr>\n",
              "    <tr>\n",
              "      <th>5729</th>\n",
              "      <td>21237.3809</td>\n",
              "      <td>3991.7800</td>\n",
              "      <td>2436.5000</td>\n",
              "    </tr>\n",
              "    <tr>\n",
              "      <th>5730</th>\n",
              "      <td>19898.9199</td>\n",
              "      <td>3754.8401</td>\n",
              "      <td>2398.1001</td>\n",
              "    </tr>\n",
              "    <tr>\n",
              "      <th>5731</th>\n",
              "      <td>NaN</td>\n",
              "      <td>NaN</td>\n",
              "      <td>NaN</td>\n",
              "    </tr>\n",
              "  </tbody>\n",
              "</table>\n",
              "<p>5732 rows × 3 columns</p>\n",
              "</div>"
            ],
            "text/plain": [
              "      Close DJI30  Close CAC40  Close SP500\n",
              "0      11357.5098    5917.3701    1455.2200\n",
              "1      10997.9297    5672.0200    1399.4200\n",
              "2      11122.6504    5479.7002    1402.1100\n",
              "3      11253.2598    5450.1099    1403.4500\n",
              "4      11522.5596    5539.6099    1441.4700\n",
              "...           ...          ...          ...\n",
              "5727          NaN          NaN          NaN\n",
              "5728   20188.5195    3881.4600    2426.6181\n",
              "5729   21237.3809    3991.7800    2436.5000\n",
              "5730   19898.9199    3754.8401    2398.1001\n",
              "5731          NaN          NaN          NaN\n",
              "\n",
              "[5732 rows x 3 columns]"
            ]
          },
          "metadata": {},
          "execution_count": 161
        }
      ]
    },
    {
      "cell_type": "code",
      "metadata": {
        "id": "zSbtnwn8R4P3",
        "colab": {
          "base_uri": "https://localhost:8080/",
          "height": 0
        },
        "outputId": "0710faf3-e2c8-4428-8c5c-7df74e281a62"
      },
      "source": [
        "# Missing values NaN\n",
        "assets = assets.dropna()\n",
        "assets"
      ],
      "execution_count": 162,
      "outputs": [
        {
          "output_type": "execute_result",
          "data": {
            "text/html": [
              "<div>\n",
              "<style scoped>\n",
              "    .dataframe tbody tr th:only-of-type {\n",
              "        vertical-align: middle;\n",
              "    }\n",
              "\n",
              "    .dataframe tbody tr th {\n",
              "        vertical-align: top;\n",
              "    }\n",
              "\n",
              "    .dataframe thead th {\n",
              "        text-align: right;\n",
              "    }\n",
              "</style>\n",
              "<table border=\"1\" class=\"dataframe\">\n",
              "  <thead>\n",
              "    <tr style=\"text-align: right;\">\n",
              "      <th></th>\n",
              "      <th>Close DJI30</th>\n",
              "      <th>Close CAC40</th>\n",
              "      <th>Close SP500</th>\n",
              "    </tr>\n",
              "    <tr>\n",
              "      <th>time</th>\n",
              "      <th></th>\n",
              "      <th></th>\n",
              "      <th></th>\n",
              "    </tr>\n",
              "  </thead>\n",
              "  <tbody>\n",
              "    <tr>\n",
              "      <th>2000-01-03</th>\n",
              "      <td>11357.5098</td>\n",
              "      <td>5917.3701</td>\n",
              "      <td>1455.2200</td>\n",
              "    </tr>\n",
              "    <tr>\n",
              "      <th>2000-01-04</th>\n",
              "      <td>10997.9297</td>\n",
              "      <td>5672.0200</td>\n",
              "      <td>1399.4200</td>\n",
              "    </tr>\n",
              "    <tr>\n",
              "      <th>2000-01-05</th>\n",
              "      <td>11122.6504</td>\n",
              "      <td>5479.7002</td>\n",
              "      <td>1402.1100</td>\n",
              "    </tr>\n",
              "    <tr>\n",
              "      <th>2000-01-06</th>\n",
              "      <td>11253.2598</td>\n",
              "      <td>5450.1099</td>\n",
              "      <td>1403.4500</td>\n",
              "    </tr>\n",
              "    <tr>\n",
              "      <th>2000-01-07</th>\n",
              "      <td>11522.5596</td>\n",
              "      <td>5539.6099</td>\n",
              "      <td>1441.4700</td>\n",
              "    </tr>\n",
              "    <tr>\n",
              "      <th>...</th>\n",
              "      <td>...</td>\n",
              "      <td>...</td>\n",
              "      <td>...</td>\n",
              "    </tr>\n",
              "    <tr>\n",
              "      <th>2020-03-12</th>\n",
              "      <td>21200.6191</td>\n",
              "      <td>4044.2600</td>\n",
              "      <td>2420.8827</td>\n",
              "    </tr>\n",
              "    <tr>\n",
              "      <th>2020-03-13</th>\n",
              "      <td>23185.6191</td>\n",
              "      <td>4118.3599</td>\n",
              "      <td>2418.0191</td>\n",
              "    </tr>\n",
              "    <tr>\n",
              "      <th>2020-03-16</th>\n",
              "      <td>20188.5195</td>\n",
              "      <td>3881.4600</td>\n",
              "      <td>2426.6181</td>\n",
              "    </tr>\n",
              "    <tr>\n",
              "      <th>2020-03-17</th>\n",
              "      <td>21237.3809</td>\n",
              "      <td>3991.7800</td>\n",
              "      <td>2436.5000</td>\n",
              "    </tr>\n",
              "    <tr>\n",
              "      <th>2020-03-18</th>\n",
              "      <td>19898.9199</td>\n",
              "      <td>3754.8401</td>\n",
              "      <td>2398.1001</td>\n",
              "    </tr>\n",
              "  </tbody>\n",
              "</table>\n",
              "<p>5047 rows × 3 columns</p>\n",
              "</div>"
            ],
            "text/plain": [
              "            Close DJI30  Close CAC40  Close SP500\n",
              "time                                             \n",
              "2000-01-03   11357.5098    5917.3701    1455.2200\n",
              "2000-01-04   10997.9297    5672.0200    1399.4200\n",
              "2000-01-05   11122.6504    5479.7002    1402.1100\n",
              "2000-01-06   11253.2598    5450.1099    1403.4500\n",
              "2000-01-07   11522.5596    5539.6099    1441.4700\n",
              "...                 ...          ...          ...\n",
              "2020-03-12   21200.6191    4044.2600    2420.8827\n",
              "2020-03-13   23185.6191    4118.3599    2418.0191\n",
              "2020-03-16   20188.5195    3881.4600    2426.6181\n",
              "2020-03-17   21237.3809    3991.7800    2436.5000\n",
              "2020-03-18   19898.9199    3754.8401    2398.1001\n",
              "\n",
              "[5047 rows x 3 columns]"
            ]
          },
          "metadata": {},
          "execution_count": 162
        }
      ]
    },
    {
      "cell_type": "code",
      "metadata": {
        "id": "DaUD8C16_Y_m",
        "colab": {
          "base_uri": "https://localhost:8080/",
          "height": 0
        },
        "outputId": "75e561ff-6862-4738-cc1e-c76c5a0725ae"
      },
      "source": [
        "# Rolling \n",
        "assets[\"SMA15\"] = assets[\"Close SP500\"].rolling(15).mean()\n",
        "assets"
      ],
      "execution_count": 163,
      "outputs": [
        {
          "output_type": "stream",
          "name": "stderr",
          "text": [
            "/usr/local/lib/python3.7/dist-packages/ipykernel_launcher.py:2: SettingWithCopyWarning: \n",
            "A value is trying to be set on a copy of a slice from a DataFrame.\n",
            "Try using .loc[row_indexer,col_indexer] = value instead\n",
            "\n",
            "See the caveats in the documentation: https://pandas.pydata.org/pandas-docs/stable/user_guide/indexing.html#returning-a-view-versus-a-copy\n",
            "  \n"
          ]
        },
        {
          "output_type": "execute_result",
          "data": {
            "text/html": [
              "<div>\n",
              "<style scoped>\n",
              "    .dataframe tbody tr th:only-of-type {\n",
              "        vertical-align: middle;\n",
              "    }\n",
              "\n",
              "    .dataframe tbody tr th {\n",
              "        vertical-align: top;\n",
              "    }\n",
              "\n",
              "    .dataframe thead th {\n",
              "        text-align: right;\n",
              "    }\n",
              "</style>\n",
              "<table border=\"1\" class=\"dataframe\">\n",
              "  <thead>\n",
              "    <tr style=\"text-align: right;\">\n",
              "      <th></th>\n",
              "      <th>Close DJI30</th>\n",
              "      <th>Close CAC40</th>\n",
              "      <th>Close SP500</th>\n",
              "      <th>SMA15</th>\n",
              "    </tr>\n",
              "    <tr>\n",
              "      <th>time</th>\n",
              "      <th></th>\n",
              "      <th></th>\n",
              "      <th></th>\n",
              "      <th></th>\n",
              "    </tr>\n",
              "  </thead>\n",
              "  <tbody>\n",
              "    <tr>\n",
              "      <th>2000-01-03</th>\n",
              "      <td>11357.5098</td>\n",
              "      <td>5917.3701</td>\n",
              "      <td>1455.2200</td>\n",
              "      <td>NaN</td>\n",
              "    </tr>\n",
              "    <tr>\n",
              "      <th>2000-01-04</th>\n",
              "      <td>10997.9297</td>\n",
              "      <td>5672.0200</td>\n",
              "      <td>1399.4200</td>\n",
              "      <td>NaN</td>\n",
              "    </tr>\n",
              "    <tr>\n",
              "      <th>2000-01-05</th>\n",
              "      <td>11122.6504</td>\n",
              "      <td>5479.7002</td>\n",
              "      <td>1402.1100</td>\n",
              "      <td>NaN</td>\n",
              "    </tr>\n",
              "    <tr>\n",
              "      <th>2000-01-06</th>\n",
              "      <td>11253.2598</td>\n",
              "      <td>5450.1099</td>\n",
              "      <td>1403.4500</td>\n",
              "      <td>NaN</td>\n",
              "    </tr>\n",
              "    <tr>\n",
              "      <th>2000-01-07</th>\n",
              "      <td>11522.5596</td>\n",
              "      <td>5539.6099</td>\n",
              "      <td>1441.4700</td>\n",
              "      <td>NaN</td>\n",
              "    </tr>\n",
              "    <tr>\n",
              "      <th>...</th>\n",
              "      <td>...</td>\n",
              "      <td>...</td>\n",
              "      <td>...</td>\n",
              "      <td>...</td>\n",
              "    </tr>\n",
              "    <tr>\n",
              "      <th>2020-03-12</th>\n",
              "      <td>21200.6191</td>\n",
              "      <td>4044.2600</td>\n",
              "      <td>2420.8827</td>\n",
              "      <td>2445.100287</td>\n",
              "    </tr>\n",
              "    <tr>\n",
              "      <th>2020-03-13</th>\n",
              "      <td>23185.6191</td>\n",
              "      <td>4118.3599</td>\n",
              "      <td>2418.0191</td>\n",
              "      <td>2444.029520</td>\n",
              "    </tr>\n",
              "    <tr>\n",
              "      <th>2020-03-16</th>\n",
              "      <td>20188.5195</td>\n",
              "      <td>3881.4600</td>\n",
              "      <td>2426.6181</td>\n",
              "      <td>2443.003900</td>\n",
              "    </tr>\n",
              "    <tr>\n",
              "      <th>2020-03-17</th>\n",
              "      <td>21237.3809</td>\n",
              "      <td>3991.7800</td>\n",
              "      <td>2436.5000</td>\n",
              "      <td>2442.964567</td>\n",
              "    </tr>\n",
              "    <tr>\n",
              "      <th>2020-03-18</th>\n",
              "      <td>19898.9199</td>\n",
              "      <td>3754.8401</td>\n",
              "      <td>2398.1001</td>\n",
              "      <td>2440.551540</td>\n",
              "    </tr>\n",
              "  </tbody>\n",
              "</table>\n",
              "<p>5047 rows × 4 columns</p>\n",
              "</div>"
            ],
            "text/plain": [
              "            Close DJI30  Close CAC40  Close SP500        SMA15\n",
              "time                                                          \n",
              "2000-01-03   11357.5098    5917.3701    1455.2200          NaN\n",
              "2000-01-04   10997.9297    5672.0200    1399.4200          NaN\n",
              "2000-01-05   11122.6504    5479.7002    1402.1100          NaN\n",
              "2000-01-06   11253.2598    5450.1099    1403.4500          NaN\n",
              "2000-01-07   11522.5596    5539.6099    1441.4700          NaN\n",
              "...                 ...          ...          ...          ...\n",
              "2020-03-12   21200.6191    4044.2600    2420.8827  2445.100287\n",
              "2020-03-13   23185.6191    4118.3599    2418.0191  2444.029520\n",
              "2020-03-16   20188.5195    3881.4600    2426.6181  2443.003900\n",
              "2020-03-17   21237.3809    3991.7800    2436.5000  2442.964567\n",
              "2020-03-18   19898.9199    3754.8401    2398.1001  2440.551540\n",
              "\n",
              "[5047 rows x 4 columns]"
            ]
          },
          "metadata": {},
          "execution_count": 163
        }
      ]
    },
    {
      "cell_type": "code",
      "metadata": {
        "id": "b0V3RpnD_bxL",
        "colab": {
          "base_uri": "https://localhost:8080/"
        },
        "outputId": "1dbc96d9-ccd5-4d4f-b4aa-107e3d89e61d"
      },
      "source": [
        "# Shift\n",
        "assets[\"Close SP500\"].shift(1)"
      ],
      "execution_count": 164,
      "outputs": [
        {
          "output_type": "execute_result",
          "data": {
            "text/plain": [
              "time\n",
              "2000-01-03          NaN\n",
              "2000-01-04    1455.2200\n",
              "2000-01-05    1399.4200\n",
              "2000-01-06    1402.1100\n",
              "2000-01-07    1403.4500\n",
              "                ...    \n",
              "2020-03-12    2423.1280\n",
              "2020-03-13    2420.8827\n",
              "2020-03-16    2418.0191\n",
              "2020-03-17    2426.6181\n",
              "2020-03-18    2436.5000\n",
              "Name: Close SP500, Length: 5047, dtype: float64"
            ]
          },
          "metadata": {},
          "execution_count": 164
        }
      ]
    },
    {
      "cell_type": "code",
      "metadata": {
        "id": "WFzrct4WA-7i",
        "colab": {
          "base_uri": "https://localhost:8080/",
          "height": 0
        },
        "outputId": "f1bd11fc-27b0-49aa-ec17-62efac4f3c47"
      },
      "source": [
        "# Groupby by mean\n",
        "arr = [[1,10],\n",
        "       [1,10],\n",
        "       [3,15]]\n",
        "\n",
        "df = pds.DataFrame(arr, columns=[\"num\", \"val\"])\n",
        "\n",
        "df.groupby(by=\"num\").mean()"
      ],
      "execution_count": 165,
      "outputs": [
        {
          "output_type": "execute_result",
          "data": {
            "text/html": [
              "<div>\n",
              "<style scoped>\n",
              "    .dataframe tbody tr th:only-of-type {\n",
              "        vertical-align: middle;\n",
              "    }\n",
              "\n",
              "    .dataframe tbody tr th {\n",
              "        vertical-align: top;\n",
              "    }\n",
              "\n",
              "    .dataframe thead th {\n",
              "        text-align: right;\n",
              "    }\n",
              "</style>\n",
              "<table border=\"1\" class=\"dataframe\">\n",
              "  <thead>\n",
              "    <tr style=\"text-align: right;\">\n",
              "      <th></th>\n",
              "      <th>val</th>\n",
              "    </tr>\n",
              "    <tr>\n",
              "      <th>num</th>\n",
              "      <th></th>\n",
              "    </tr>\n",
              "  </thead>\n",
              "  <tbody>\n",
              "    <tr>\n",
              "      <th>1</th>\n",
              "      <td>10</td>\n",
              "    </tr>\n",
              "    <tr>\n",
              "      <th>3</th>\n",
              "      <td>15</td>\n",
              "    </tr>\n",
              "  </tbody>\n",
              "</table>\n",
              "</div>"
            ],
            "text/plain": [
              "     val\n",
              "num     \n",
              "1     10\n",
              "3     15"
            ]
          },
          "metadata": {},
          "execution_count": 165
        }
      ]
    },
    {
      "cell_type": "code",
      "metadata": {
        "id": "Jg9Z3NYyCvbd",
        "colab": {
          "base_uri": "https://localhost:8080/",
          "height": 0
        },
        "outputId": "af0b370c-5d71-4103-e8e3-7832d3e58e6b"
      },
      "source": [
        "# Groupby by sum\n",
        "df.groupby(by=\"num\").sum()"
      ],
      "execution_count": 166,
      "outputs": [
        {
          "output_type": "execute_result",
          "data": {
            "text/html": [
              "<div>\n",
              "<style scoped>\n",
              "    .dataframe tbody tr th:only-of-type {\n",
              "        vertical-align: middle;\n",
              "    }\n",
              "\n",
              "    .dataframe tbody tr th {\n",
              "        vertical-align: top;\n",
              "    }\n",
              "\n",
              "    .dataframe thead th {\n",
              "        text-align: right;\n",
              "    }\n",
              "</style>\n",
              "<table border=\"1\" class=\"dataframe\">\n",
              "  <thead>\n",
              "    <tr style=\"text-align: right;\">\n",
              "      <th></th>\n",
              "      <th>val</th>\n",
              "    </tr>\n",
              "    <tr>\n",
              "      <th>num</th>\n",
              "      <th></th>\n",
              "    </tr>\n",
              "  </thead>\n",
              "  <tbody>\n",
              "    <tr>\n",
              "      <th>1</th>\n",
              "      <td>20</td>\n",
              "    </tr>\n",
              "    <tr>\n",
              "      <th>3</th>\n",
              "      <td>15</td>\n",
              "    </tr>\n",
              "  </tbody>\n",
              "</table>\n",
              "</div>"
            ],
            "text/plain": [
              "     val\n",
              "num     \n",
              "1     20\n",
              "3     15"
            ]
          },
          "metadata": {},
          "execution_count": 166
        }
      ]
    },
    {
      "cell_type": "code",
      "metadata": {
        "id": "-l-xwc-HC2MU",
        "colab": {
          "base_uri": "https://localhost:8080/",
          "height": 0
        },
        "outputId": "39921a0c-5587-4b83-e7d3-d2a08684fe6e"
      },
      "source": [
        "# Groupby by std\n",
        "df.groupby(by=\"num\").std()"
      ],
      "execution_count": 167,
      "outputs": [
        {
          "output_type": "execute_result",
          "data": {
            "text/html": [
              "<div>\n",
              "<style scoped>\n",
              "    .dataframe tbody tr th:only-of-type {\n",
              "        vertical-align: middle;\n",
              "    }\n",
              "\n",
              "    .dataframe tbody tr th {\n",
              "        vertical-align: top;\n",
              "    }\n",
              "\n",
              "    .dataframe thead th {\n",
              "        text-align: right;\n",
              "    }\n",
              "</style>\n",
              "<table border=\"1\" class=\"dataframe\">\n",
              "  <thead>\n",
              "    <tr style=\"text-align: right;\">\n",
              "      <th></th>\n",
              "      <th>val</th>\n",
              "    </tr>\n",
              "    <tr>\n",
              "      <th>num</th>\n",
              "      <th></th>\n",
              "    </tr>\n",
              "  </thead>\n",
              "  <tbody>\n",
              "    <tr>\n",
              "      <th>1</th>\n",
              "      <td>0.0</td>\n",
              "    </tr>\n",
              "    <tr>\n",
              "      <th>3</th>\n",
              "      <td>NaN</td>\n",
              "    </tr>\n",
              "  </tbody>\n",
              "</table>\n",
              "</div>"
            ],
            "text/plain": [
              "     val\n",
              "num     \n",
              "1    0.0\n",
              "3    NaN"
            ]
          },
          "metadata": {},
          "execution_count": 167
        }
      ]
    },
    {
      "cell_type": "markdown",
      "metadata": {
        "id": "D5KoCwIFT27I"
      },
      "source": [
        "##### Iloc & Loc"
      ]
    },
    {
      "cell_type": "code",
      "metadata": {
        "id": "J4Jy9QxKT5R9",
        "colab": {
          "base_uri": "https://localhost:8080/",
          "height": 0
        },
        "outputId": "c0a2548d-abbc-46b4-ae2e-dd2533241a77"
      },
      "source": [
        "# Slicing\n",
        "assets.iloc[0:1500,0:10]"
      ],
      "execution_count": 168,
      "outputs": [
        {
          "output_type": "execute_result",
          "data": {
            "text/html": [
              "<div>\n",
              "<style scoped>\n",
              "    .dataframe tbody tr th:only-of-type {\n",
              "        vertical-align: middle;\n",
              "    }\n",
              "\n",
              "    .dataframe tbody tr th {\n",
              "        vertical-align: top;\n",
              "    }\n",
              "\n",
              "    .dataframe thead th {\n",
              "        text-align: right;\n",
              "    }\n",
              "</style>\n",
              "<table border=\"1\" class=\"dataframe\">\n",
              "  <thead>\n",
              "    <tr style=\"text-align: right;\">\n",
              "      <th></th>\n",
              "      <th>Close DJI30</th>\n",
              "      <th>Close CAC40</th>\n",
              "      <th>Close SP500</th>\n",
              "      <th>SMA15</th>\n",
              "    </tr>\n",
              "    <tr>\n",
              "      <th>time</th>\n",
              "      <th></th>\n",
              "      <th></th>\n",
              "      <th></th>\n",
              "      <th></th>\n",
              "    </tr>\n",
              "  </thead>\n",
              "  <tbody>\n",
              "    <tr>\n",
              "      <th>2000-01-03</th>\n",
              "      <td>11357.5098</td>\n",
              "      <td>5917.3701</td>\n",
              "      <td>1455.2200</td>\n",
              "      <td>NaN</td>\n",
              "    </tr>\n",
              "    <tr>\n",
              "      <th>2000-01-04</th>\n",
              "      <td>10997.9297</td>\n",
              "      <td>5672.0200</td>\n",
              "      <td>1399.4200</td>\n",
              "      <td>NaN</td>\n",
              "    </tr>\n",
              "    <tr>\n",
              "      <th>2000-01-05</th>\n",
              "      <td>11122.6504</td>\n",
              "      <td>5479.7002</td>\n",
              "      <td>1402.1100</td>\n",
              "      <td>NaN</td>\n",
              "    </tr>\n",
              "    <tr>\n",
              "      <th>2000-01-06</th>\n",
              "      <td>11253.2598</td>\n",
              "      <td>5450.1099</td>\n",
              "      <td>1403.4500</td>\n",
              "      <td>NaN</td>\n",
              "    </tr>\n",
              "    <tr>\n",
              "      <th>2000-01-07</th>\n",
              "      <td>11522.5596</td>\n",
              "      <td>5539.6099</td>\n",
              "      <td>1441.4700</td>\n",
              "      <td>NaN</td>\n",
              "    </tr>\n",
              "    <tr>\n",
              "      <th>...</th>\n",
              "      <td>...</td>\n",
              "      <td>...</td>\n",
              "      <td>...</td>\n",
              "      <td>...</td>\n",
              "    </tr>\n",
              "    <tr>\n",
              "      <th>2005-12-13</th>\n",
              "      <td>10823.7197</td>\n",
              "      <td>4693.3999</td>\n",
              "      <td>1267.4301</td>\n",
              "      <td>1261.032680</td>\n",
              "    </tr>\n",
              "    <tr>\n",
              "      <th>2005-12-14</th>\n",
              "      <td>10883.5098</td>\n",
              "      <td>4674.8501</td>\n",
              "      <td>1272.7400</td>\n",
              "      <td>1261.800013</td>\n",
              "    </tr>\n",
              "    <tr>\n",
              "      <th>2005-12-15</th>\n",
              "      <td>10881.6699</td>\n",
              "      <td>4673.1401</td>\n",
              "      <td>1270.9399</td>\n",
              "      <td>1262.155340</td>\n",
              "    </tr>\n",
              "    <tr>\n",
              "      <th>2005-12-16</th>\n",
              "      <td>10875.5898</td>\n",
              "      <td>4704.4102</td>\n",
              "      <td>1267.3199</td>\n",
              "      <td>1262.093333</td>\n",
              "    </tr>\n",
              "    <tr>\n",
              "      <th>2005-12-19</th>\n",
              "      <td>10836.5303</td>\n",
              "      <td>4694.8599</td>\n",
              "      <td>1259.9200</td>\n",
              "      <td>1262.257333</td>\n",
              "    </tr>\n",
              "  </tbody>\n",
              "</table>\n",
              "<p>1500 rows × 4 columns</p>\n",
              "</div>"
            ],
            "text/plain": [
              "            Close DJI30  Close CAC40  Close SP500        SMA15\n",
              "time                                                          \n",
              "2000-01-03   11357.5098    5917.3701    1455.2200          NaN\n",
              "2000-01-04   10997.9297    5672.0200    1399.4200          NaN\n",
              "2000-01-05   11122.6504    5479.7002    1402.1100          NaN\n",
              "2000-01-06   11253.2598    5450.1099    1403.4500          NaN\n",
              "2000-01-07   11522.5596    5539.6099    1441.4700          NaN\n",
              "...                 ...          ...          ...          ...\n",
              "2005-12-13   10823.7197    4693.3999    1267.4301  1261.032680\n",
              "2005-12-14   10883.5098    4674.8501    1272.7400  1261.800013\n",
              "2005-12-15   10881.6699    4673.1401    1270.9399  1262.155340\n",
              "2005-12-16   10875.5898    4704.4102    1267.3199  1262.093333\n",
              "2005-12-19   10836.5303    4694.8599    1259.9200  1262.257333\n",
              "\n",
              "[1500 rows x 4 columns]"
            ]
          },
          "metadata": {},
          "execution_count": 168
        }
      ]
    },
    {
      "cell_type": "code",
      "metadata": {
        "id": "t0KS0q6zUCTn",
        "colab": {
          "base_uri": "https://localhost:8080/",
          "height": 0
        },
        "outputId": "82a6390a-b1e4-49a2-8cb2-adc697948fc3"
      },
      "source": [
        "# Conditonal by dates\n",
        "assets.loc[\"2010-01-01\":\"2015-01-01\",:]"
      ],
      "execution_count": 169,
      "outputs": [
        {
          "output_type": "execute_result",
          "data": {
            "text/html": [
              "<div>\n",
              "<style scoped>\n",
              "    .dataframe tbody tr th:only-of-type {\n",
              "        vertical-align: middle;\n",
              "    }\n",
              "\n",
              "    .dataframe tbody tr th {\n",
              "        vertical-align: top;\n",
              "    }\n",
              "\n",
              "    .dataframe thead th {\n",
              "        text-align: right;\n",
              "    }\n",
              "</style>\n",
              "<table border=\"1\" class=\"dataframe\">\n",
              "  <thead>\n",
              "    <tr style=\"text-align: right;\">\n",
              "      <th></th>\n",
              "      <th>Close DJI30</th>\n",
              "      <th>Close CAC40</th>\n",
              "      <th>Close SP500</th>\n",
              "      <th>SMA15</th>\n",
              "    </tr>\n",
              "    <tr>\n",
              "      <th>time</th>\n",
              "      <th></th>\n",
              "      <th></th>\n",
              "      <th></th>\n",
              "      <th></th>\n",
              "    </tr>\n",
              "  </thead>\n",
              "  <tbody>\n",
              "    <tr>\n",
              "      <th>2010-01-04</th>\n",
              "      <td>10583.9600</td>\n",
              "      <td>4013.9700</td>\n",
              "      <td>1132.9900</td>\n",
              "      <td>1116.254013</td>\n",
              "    </tr>\n",
              "    <tr>\n",
              "      <th>2010-01-05</th>\n",
              "      <td>10572.0195</td>\n",
              "      <td>4012.9099</td>\n",
              "      <td>1136.5200</td>\n",
              "      <td>1118.261347</td>\n",
              "    </tr>\n",
              "    <tr>\n",
              "      <th>2010-01-06</th>\n",
              "      <td>10573.6797</td>\n",
              "      <td>4017.6699</td>\n",
              "      <td>1137.1400</td>\n",
              "      <td>1119.796680</td>\n",
              "    </tr>\n",
              "    <tr>\n",
              "      <th>2010-01-07</th>\n",
              "      <td>10606.8604</td>\n",
              "      <td>4024.8000</td>\n",
              "      <td>1141.6899</td>\n",
              "      <td>1122.047333</td>\n",
              "    </tr>\n",
              "    <tr>\n",
              "      <th>2010-01-08</th>\n",
              "      <td>10618.1904</td>\n",
              "      <td>4045.1399</td>\n",
              "      <td>1144.9800</td>\n",
              "      <td>1124.433993</td>\n",
              "    </tr>\n",
              "    <tr>\n",
              "      <th>...</th>\n",
              "      <td>...</td>\n",
              "      <td>...</td>\n",
              "      <td>...</td>\n",
              "      <td>...</td>\n",
              "    </tr>\n",
              "    <tr>\n",
              "      <th>2014-12-23</th>\n",
              "      <td>18024.1699</td>\n",
              "      <td>4314.9702</td>\n",
              "      <td>2082.1699</td>\n",
              "      <td>2044.893340</td>\n",
              "    </tr>\n",
              "    <tr>\n",
              "      <th>2014-12-24</th>\n",
              "      <td>18030.2109</td>\n",
              "      <td>4295.8501</td>\n",
              "      <td>2081.8799</td>\n",
              "      <td>2045.396660</td>\n",
              "    </tr>\n",
              "    <tr>\n",
              "      <th>2014-12-29</th>\n",
              "      <td>18038.2305</td>\n",
              "      <td>4317.9302</td>\n",
              "      <td>2090.5701</td>\n",
              "      <td>2046.640007</td>\n",
              "    </tr>\n",
              "    <tr>\n",
              "      <th>2014-12-30</th>\n",
              "      <td>17983.0703</td>\n",
              "      <td>4245.5400</td>\n",
              "      <td>2080.3501</td>\n",
              "      <td>2046.972007</td>\n",
              "    </tr>\n",
              "    <tr>\n",
              "      <th>2014-12-31</th>\n",
              "      <td>17823.0703</td>\n",
              "      <td>4272.7500</td>\n",
              "      <td>2058.8999</td>\n",
              "      <td>2046.877993</td>\n",
              "    </tr>\n",
              "  </tbody>\n",
              "</table>\n",
              "<p>1245 rows × 4 columns</p>\n",
              "</div>"
            ],
            "text/plain": [
              "            Close DJI30  Close CAC40  Close SP500        SMA15\n",
              "time                                                          \n",
              "2010-01-04   10583.9600    4013.9700    1132.9900  1116.254013\n",
              "2010-01-05   10572.0195    4012.9099    1136.5200  1118.261347\n",
              "2010-01-06   10573.6797    4017.6699    1137.1400  1119.796680\n",
              "2010-01-07   10606.8604    4024.8000    1141.6899  1122.047333\n",
              "2010-01-08   10618.1904    4045.1399    1144.9800  1124.433993\n",
              "...                 ...          ...          ...          ...\n",
              "2014-12-23   18024.1699    4314.9702    2082.1699  2044.893340\n",
              "2014-12-24   18030.2109    4295.8501    2081.8799  2045.396660\n",
              "2014-12-29   18038.2305    4317.9302    2090.5701  2046.640007\n",
              "2014-12-30   17983.0703    4245.5400    2080.3501  2046.972007\n",
              "2014-12-31   17823.0703    4272.7500    2058.8999  2046.877993\n",
              "\n",
              "[1245 rows x 4 columns]"
            ]
          },
          "metadata": {},
          "execution_count": 169
        }
      ]
    },
    {
      "cell_type": "code",
      "metadata": {
        "id": "CU9dKTkVUMF8",
        "colab": {
          "base_uri": "https://localhost:8080/",
          "height": 0
        },
        "outputId": "e2a5f398-08a9-431e-df28-71058737270d"
      },
      "source": [
        "# Conditonal by values\n",
        "assets.loc[assets[\"Close DJI30\"] > 15000]"
      ],
      "execution_count": 170,
      "outputs": [
        {
          "output_type": "execute_result",
          "data": {
            "text/html": [
              "<div>\n",
              "<style scoped>\n",
              "    .dataframe tbody tr th:only-of-type {\n",
              "        vertical-align: middle;\n",
              "    }\n",
              "\n",
              "    .dataframe tbody tr th {\n",
              "        vertical-align: top;\n",
              "    }\n",
              "\n",
              "    .dataframe thead th {\n",
              "        text-align: right;\n",
              "    }\n",
              "</style>\n",
              "<table border=\"1\" class=\"dataframe\">\n",
              "  <thead>\n",
              "    <tr style=\"text-align: right;\">\n",
              "      <th></th>\n",
              "      <th>Close DJI30</th>\n",
              "      <th>Close CAC40</th>\n",
              "      <th>Close SP500</th>\n",
              "      <th>SMA15</th>\n",
              "    </tr>\n",
              "    <tr>\n",
              "      <th>time</th>\n",
              "      <th></th>\n",
              "      <th></th>\n",
              "      <th></th>\n",
              "      <th></th>\n",
              "    </tr>\n",
              "  </thead>\n",
              "  <tbody>\n",
              "    <tr>\n",
              "      <th>2013-05-07</th>\n",
              "      <td>15056.2002</td>\n",
              "      <td>3921.3201</td>\n",
              "      <td>1625.9600</td>\n",
              "      <td>1583.837320</td>\n",
              "    </tr>\n",
              "    <tr>\n",
              "      <th>2013-05-08</th>\n",
              "      <td>15105.1201</td>\n",
              "      <td>3956.2800</td>\n",
              "      <td>1632.6899</td>\n",
              "      <td>1587.711987</td>\n",
              "    </tr>\n",
              "    <tr>\n",
              "      <th>2013-05-09</th>\n",
              "      <td>15082.6201</td>\n",
              "      <td>3928.5801</td>\n",
              "      <td>1626.6700</td>\n",
              "      <td>1592.689320</td>\n",
              "    </tr>\n",
              "    <tr>\n",
              "      <th>2013-05-10</th>\n",
              "      <td>15118.4902</td>\n",
              "      <td>3953.8301</td>\n",
              "      <td>1633.7000</td>\n",
              "      <td>1598.828653</td>\n",
              "    </tr>\n",
              "    <tr>\n",
              "      <th>2013-05-13</th>\n",
              "      <td>15091.6797</td>\n",
              "      <td>3945.2000</td>\n",
              "      <td>1633.7700</td>\n",
              "      <td>1604.063320</td>\n",
              "    </tr>\n",
              "    <tr>\n",
              "      <th>...</th>\n",
              "      <td>...</td>\n",
              "      <td>...</td>\n",
              "      <td>...</td>\n",
              "      <td>...</td>\n",
              "    </tr>\n",
              "    <tr>\n",
              "      <th>2020-03-12</th>\n",
              "      <td>21200.6191</td>\n",
              "      <td>4044.2600</td>\n",
              "      <td>2420.8827</td>\n",
              "      <td>2445.100287</td>\n",
              "    </tr>\n",
              "    <tr>\n",
              "      <th>2020-03-13</th>\n",
              "      <td>23185.6191</td>\n",
              "      <td>4118.3599</td>\n",
              "      <td>2418.0191</td>\n",
              "      <td>2444.029520</td>\n",
              "    </tr>\n",
              "    <tr>\n",
              "      <th>2020-03-16</th>\n",
              "      <td>20188.5195</td>\n",
              "      <td>3881.4600</td>\n",
              "      <td>2426.6181</td>\n",
              "      <td>2443.003900</td>\n",
              "    </tr>\n",
              "    <tr>\n",
              "      <th>2020-03-17</th>\n",
              "      <td>21237.3809</td>\n",
              "      <td>3991.7800</td>\n",
              "      <td>2436.5000</td>\n",
              "      <td>2442.964567</td>\n",
              "    </tr>\n",
              "    <tr>\n",
              "      <th>2020-03-18</th>\n",
              "      <td>19898.9199</td>\n",
              "      <td>3754.8401</td>\n",
              "      <td>2398.1001</td>\n",
              "      <td>2440.551540</td>\n",
              "    </tr>\n",
              "  </tbody>\n",
              "</table>\n",
              "<p>1687 rows × 4 columns</p>\n",
              "</div>"
            ],
            "text/plain": [
              "            Close DJI30  Close CAC40  Close SP500        SMA15\n",
              "time                                                          \n",
              "2013-05-07   15056.2002    3921.3201    1625.9600  1583.837320\n",
              "2013-05-08   15105.1201    3956.2800    1632.6899  1587.711987\n",
              "2013-05-09   15082.6201    3928.5801    1626.6700  1592.689320\n",
              "2013-05-10   15118.4902    3953.8301    1633.7000  1598.828653\n",
              "2013-05-13   15091.6797    3945.2000    1633.7700  1604.063320\n",
              "...                 ...          ...          ...          ...\n",
              "2020-03-12   21200.6191    4044.2600    2420.8827  2445.100287\n",
              "2020-03-13   23185.6191    4118.3599    2418.0191  2444.029520\n",
              "2020-03-16   20188.5195    3881.4600    2426.6181  2443.003900\n",
              "2020-03-17   21237.3809    3991.7800    2436.5000  2442.964567\n",
              "2020-03-18   19898.9199    3754.8401    2398.1001  2440.551540\n",
              "\n",
              "[1687 rows x 4 columns]"
            ]
          },
          "metadata": {},
          "execution_count": 170
        }
      ]
    },
    {
      "cell_type": "code",
      "metadata": {
        "id": "5oXYx23B-wmb",
        "colab": {
          "base_uri": "https://localhost:8080/",
          "height": 0
        },
        "outputId": "3648280d-2392-4de5-f998-7869f44e0191"
      },
      "source": [
        "# Concat some dataframes\n",
        "\n",
        "df1 = assets.iloc[:,:3]\n",
        "df2 = assets.iloc[:,3:]\n",
        "\n",
        "pds.concat((df1,df2), axis=1)"
      ],
      "execution_count": 171,
      "outputs": [
        {
          "output_type": "execute_result",
          "data": {
            "text/html": [
              "<div>\n",
              "<style scoped>\n",
              "    .dataframe tbody tr th:only-of-type {\n",
              "        vertical-align: middle;\n",
              "    }\n",
              "\n",
              "    .dataframe tbody tr th {\n",
              "        vertical-align: top;\n",
              "    }\n",
              "\n",
              "    .dataframe thead th {\n",
              "        text-align: right;\n",
              "    }\n",
              "</style>\n",
              "<table border=\"1\" class=\"dataframe\">\n",
              "  <thead>\n",
              "    <tr style=\"text-align: right;\">\n",
              "      <th></th>\n",
              "      <th>Close DJI30</th>\n",
              "      <th>Close CAC40</th>\n",
              "      <th>Close SP500</th>\n",
              "      <th>SMA15</th>\n",
              "    </tr>\n",
              "    <tr>\n",
              "      <th>time</th>\n",
              "      <th></th>\n",
              "      <th></th>\n",
              "      <th></th>\n",
              "      <th></th>\n",
              "    </tr>\n",
              "  </thead>\n",
              "  <tbody>\n",
              "    <tr>\n",
              "      <th>2000-01-03</th>\n",
              "      <td>11357.5098</td>\n",
              "      <td>5917.3701</td>\n",
              "      <td>1455.2200</td>\n",
              "      <td>NaN</td>\n",
              "    </tr>\n",
              "    <tr>\n",
              "      <th>2000-01-04</th>\n",
              "      <td>10997.9297</td>\n",
              "      <td>5672.0200</td>\n",
              "      <td>1399.4200</td>\n",
              "      <td>NaN</td>\n",
              "    </tr>\n",
              "    <tr>\n",
              "      <th>2000-01-05</th>\n",
              "      <td>11122.6504</td>\n",
              "      <td>5479.7002</td>\n",
              "      <td>1402.1100</td>\n",
              "      <td>NaN</td>\n",
              "    </tr>\n",
              "    <tr>\n",
              "      <th>2000-01-06</th>\n",
              "      <td>11253.2598</td>\n",
              "      <td>5450.1099</td>\n",
              "      <td>1403.4500</td>\n",
              "      <td>NaN</td>\n",
              "    </tr>\n",
              "    <tr>\n",
              "      <th>2000-01-07</th>\n",
              "      <td>11522.5596</td>\n",
              "      <td>5539.6099</td>\n",
              "      <td>1441.4700</td>\n",
              "      <td>NaN</td>\n",
              "    </tr>\n",
              "    <tr>\n",
              "      <th>...</th>\n",
              "      <td>...</td>\n",
              "      <td>...</td>\n",
              "      <td>...</td>\n",
              "      <td>...</td>\n",
              "    </tr>\n",
              "    <tr>\n",
              "      <th>2020-03-12</th>\n",
              "      <td>21200.6191</td>\n",
              "      <td>4044.2600</td>\n",
              "      <td>2420.8827</td>\n",
              "      <td>2445.100287</td>\n",
              "    </tr>\n",
              "    <tr>\n",
              "      <th>2020-03-13</th>\n",
              "      <td>23185.6191</td>\n",
              "      <td>4118.3599</td>\n",
              "      <td>2418.0191</td>\n",
              "      <td>2444.029520</td>\n",
              "    </tr>\n",
              "    <tr>\n",
              "      <th>2020-03-16</th>\n",
              "      <td>20188.5195</td>\n",
              "      <td>3881.4600</td>\n",
              "      <td>2426.6181</td>\n",
              "      <td>2443.003900</td>\n",
              "    </tr>\n",
              "    <tr>\n",
              "      <th>2020-03-17</th>\n",
              "      <td>21237.3809</td>\n",
              "      <td>3991.7800</td>\n",
              "      <td>2436.5000</td>\n",
              "      <td>2442.964567</td>\n",
              "    </tr>\n",
              "    <tr>\n",
              "      <th>2020-03-18</th>\n",
              "      <td>19898.9199</td>\n",
              "      <td>3754.8401</td>\n",
              "      <td>2398.1001</td>\n",
              "      <td>2440.551540</td>\n",
              "    </tr>\n",
              "  </tbody>\n",
              "</table>\n",
              "<p>5047 rows × 4 columns</p>\n",
              "</div>"
            ],
            "text/plain": [
              "            Close DJI30  Close CAC40  Close SP500        SMA15\n",
              "time                                                          \n",
              "2000-01-03   11357.5098    5917.3701    1455.2200          NaN\n",
              "2000-01-04   10997.9297    5672.0200    1399.4200          NaN\n",
              "2000-01-05   11122.6504    5479.7002    1402.1100          NaN\n",
              "2000-01-06   11253.2598    5450.1099    1403.4500          NaN\n",
              "2000-01-07   11522.5596    5539.6099    1441.4700          NaN\n",
              "...                 ...          ...          ...          ...\n",
              "2020-03-12   21200.6191    4044.2600    2420.8827  2445.100287\n",
              "2020-03-13   23185.6191    4118.3599    2418.0191  2444.029520\n",
              "2020-03-16   20188.5195    3881.4600    2426.6181  2443.003900\n",
              "2020-03-17   21237.3809    3991.7800    2436.5000  2442.964567\n",
              "2020-03-18   19898.9199    3754.8401    2398.1001  2440.551540\n",
              "\n",
              "[5047 rows x 4 columns]"
            ]
          },
          "metadata": {},
          "execution_count": 171
        }
      ]
    },
    {
      "cell_type": "code",
      "metadata": {
        "id": "1YAkHm8yCm28",
        "colab": {
          "base_uri": "https://localhost:8080/",
          "height": 0
        },
        "outputId": "60150cd0-a276-4135-d5c1-ce027485181c"
      },
      "source": [
        "# Concat some dataframes\n",
        "\n",
        "df1 = assets.iloc[1500:,:]\n",
        "df2 = assets.iloc[:1500,:]\n",
        "\n",
        "pds.concat((df1,df2), axis=0)"
      ],
      "execution_count": 172,
      "outputs": [
        {
          "output_type": "execute_result",
          "data": {
            "text/html": [
              "<div>\n",
              "<style scoped>\n",
              "    .dataframe tbody tr th:only-of-type {\n",
              "        vertical-align: middle;\n",
              "    }\n",
              "\n",
              "    .dataframe tbody tr th {\n",
              "        vertical-align: top;\n",
              "    }\n",
              "\n",
              "    .dataframe thead th {\n",
              "        text-align: right;\n",
              "    }\n",
              "</style>\n",
              "<table border=\"1\" class=\"dataframe\">\n",
              "  <thead>\n",
              "    <tr style=\"text-align: right;\">\n",
              "      <th></th>\n",
              "      <th>Close DJI30</th>\n",
              "      <th>Close CAC40</th>\n",
              "      <th>Close SP500</th>\n",
              "      <th>SMA15</th>\n",
              "    </tr>\n",
              "    <tr>\n",
              "      <th>time</th>\n",
              "      <th></th>\n",
              "      <th></th>\n",
              "      <th></th>\n",
              "      <th></th>\n",
              "    </tr>\n",
              "  </thead>\n",
              "  <tbody>\n",
              "    <tr>\n",
              "      <th>2005-12-20</th>\n",
              "      <td>10805.5498</td>\n",
              "      <td>4703.4800</td>\n",
              "      <td>1259.6200</td>\n",
              "      <td>1262.400000</td>\n",
              "    </tr>\n",
              "    <tr>\n",
              "      <th>2005-12-21</th>\n",
              "      <td>10833.7305</td>\n",
              "      <td>4752.4102</td>\n",
              "      <td>1262.7900</td>\n",
              "      <td>1263.287333</td>\n",
              "    </tr>\n",
              "    <tr>\n",
              "      <th>2005-12-22</th>\n",
              "      <td>10889.4404</td>\n",
              "      <td>4751.9600</td>\n",
              "      <td>1268.1200</td>\n",
              "      <td>1263.517333</td>\n",
              "    </tr>\n",
              "    <tr>\n",
              "      <th>2005-12-23</th>\n",
              "      <td>10883.2695</td>\n",
              "      <td>4757.7402</td>\n",
              "      <td>1268.6600</td>\n",
              "      <td>1263.756000</td>\n",
              "    </tr>\n",
              "    <tr>\n",
              "      <th>2005-12-27</th>\n",
              "      <td>10777.7695</td>\n",
              "      <td>4769.3799</td>\n",
              "      <td>1256.5400</td>\n",
              "      <td>1263.386000</td>\n",
              "    </tr>\n",
              "    <tr>\n",
              "      <th>...</th>\n",
              "      <td>...</td>\n",
              "      <td>...</td>\n",
              "      <td>...</td>\n",
              "      <td>...</td>\n",
              "    </tr>\n",
              "    <tr>\n",
              "      <th>2005-12-13</th>\n",
              "      <td>10823.7197</td>\n",
              "      <td>4693.3999</td>\n",
              "      <td>1267.4301</td>\n",
              "      <td>1261.032680</td>\n",
              "    </tr>\n",
              "    <tr>\n",
              "      <th>2005-12-14</th>\n",
              "      <td>10883.5098</td>\n",
              "      <td>4674.8501</td>\n",
              "      <td>1272.7400</td>\n",
              "      <td>1261.800013</td>\n",
              "    </tr>\n",
              "    <tr>\n",
              "      <th>2005-12-15</th>\n",
              "      <td>10881.6699</td>\n",
              "      <td>4673.1401</td>\n",
              "      <td>1270.9399</td>\n",
              "      <td>1262.155340</td>\n",
              "    </tr>\n",
              "    <tr>\n",
              "      <th>2005-12-16</th>\n",
              "      <td>10875.5898</td>\n",
              "      <td>4704.4102</td>\n",
              "      <td>1267.3199</td>\n",
              "      <td>1262.093333</td>\n",
              "    </tr>\n",
              "    <tr>\n",
              "      <th>2005-12-19</th>\n",
              "      <td>10836.5303</td>\n",
              "      <td>4694.8599</td>\n",
              "      <td>1259.9200</td>\n",
              "      <td>1262.257333</td>\n",
              "    </tr>\n",
              "  </tbody>\n",
              "</table>\n",
              "<p>5047 rows × 4 columns</p>\n",
              "</div>"
            ],
            "text/plain": [
              "            Close DJI30  Close CAC40  Close SP500        SMA15\n",
              "time                                                          \n",
              "2005-12-20   10805.5498    4703.4800    1259.6200  1262.400000\n",
              "2005-12-21   10833.7305    4752.4102    1262.7900  1263.287333\n",
              "2005-12-22   10889.4404    4751.9600    1268.1200  1263.517333\n",
              "2005-12-23   10883.2695    4757.7402    1268.6600  1263.756000\n",
              "2005-12-27   10777.7695    4769.3799    1256.5400  1263.386000\n",
              "...                 ...          ...          ...          ...\n",
              "2005-12-13   10823.7197    4693.3999    1267.4301  1261.032680\n",
              "2005-12-14   10883.5098    4674.8501    1272.7400  1261.800013\n",
              "2005-12-15   10881.6699    4673.1401    1270.9399  1262.155340\n",
              "2005-12-16   10875.5898    4704.4102    1267.3199  1262.093333\n",
              "2005-12-19   10836.5303    4694.8599    1259.9200  1262.257333\n",
              "\n",
              "[5047 rows x 4 columns]"
            ]
          },
          "metadata": {},
          "execution_count": 172
        }
      ]
    },
    {
      "cell_type": "markdown",
      "metadata": {
        "id": "aH-i3Tn3UjJ_"
      },
      "source": [
        "### Matplotlib"
      ]
    },
    {
      "cell_type": "code",
      "metadata": {
        "id": "b4N84DCAUohl"
      },
      "source": [
        "import matplotlib.pyplot as plt"
      ],
      "execution_count": 173,
      "outputs": []
    },
    {
      "cell_type": "code",
      "metadata": {
        "id": "pM_NwUzDjgEM"
      },
      "source": [
        "import numpy as np"
      ],
      "execution_count": 174,
      "outputs": []
    },
    {
      "cell_type": "code",
      "metadata": {
        "id": "kb7uP6bdjib1"
      },
      "source": [
        "import matplotlib as mpl\n",
        "import matplotlib.pyplot as plt\n",
        "from matplotlib import cycler\n",
        "\n",
        "colors = cycler('color',\n",
        "                ['#669FEE', '#66EE91', '#9988DD',\n",
        "                 '#EECC55', '#88BB44', '#FFBBBB'])\n",
        "plt.rc('figure', facecolor='#313233')\n",
        "plt.rc('axes', facecolor=\"#313233\", edgecolor='none',\n",
        "       axisbelow=True, grid=True, prop_cycle=colors,\n",
        "       labelcolor='gray')\n",
        "plt.rc('grid', color='474A4A', linestyle='solid')\n",
        "plt.rc('xtick', color='gray')\n",
        "plt.rc('ytick', direction='out', color='gray')\n",
        "plt.rc('legend', facecolor=\"#313233\", edgecolor=\"#313233\")\n",
        "plt.rc(\"text\", color=\"#C9C9C9\")\n",
        "plt.rc('figure', facecolor='#313233')"
      ],
      "execution_count": 175,
      "outputs": []
    },
    {
      "cell_type": "markdown",
      "metadata": {
        "id": "C6_cmiswU2AW"
      },
      "source": [
        "##### Graphs"
      ]
    },
    {
      "cell_type": "code",
      "metadata": {
        "id": "iBorfFcRwi42",
        "colab": {
          "base_uri": "https://localhost:8080/"
        },
        "outputId": "d7ac76a5-637c-4a59-cf6d-d204c0054c98"
      },
      "source": [
        "# data simulation\n",
        "arr = np.random.randint(0,15,size=(15,))\n",
        "\n",
        "# square of arr\n",
        "square = arr**2\n",
        "\n",
        "# Mutltiplication of arr\n",
        "mut = arr*3\n",
        "\n",
        "print(arr)\n",
        "print(square)\n",
        "print(mut)"
      ],
      "execution_count": 176,
      "outputs": [
        {
          "output_type": "stream",
          "name": "stdout",
          "text": [
            "[ 8  3 12  7 14  9  3  5 10  9  4 11  1  3  1]\n",
            "[ 64   9 144  49 196  81   9  25 100  81  16 121   1   9   1]\n",
            "[24  9 36 21 42 27  9 15 30 27 12 33  3  9  3]\n"
          ]
        }
      ]
    },
    {
      "cell_type": "code",
      "metadata": {
        "colab": {
          "base_uri": "https://localhost:8080/",
          "height": 295
        },
        "id": "noAG7_QvvTk1",
        "outputId": "daf69ac6-e887-4377-a919-7e70eef24daf"
      },
      "source": [
        "# Plot the data\n",
        "plt.plot(arr)\n",
        "plt.plot(square)\n",
        "plt.plot(mut)\n",
        "\n",
        "# Change the xlabel \n",
        "plt.xlabel(\"Random Numbers\")\n",
        "\n",
        "# Change the ylabel \n",
        "plt.ylabel(\"Values\")\n",
        "\n",
        "# Change the title \n",
        "plt.title(\"Graph\")\n",
        "\n",
        "# Put a legend\n",
        "plt.legend([\"Normal\", \"Square\", \"Multiplication\"])\n",
        "\n",
        "# Show the chart\n",
        "plt.show()"
      ],
      "execution_count": 177,
      "outputs": [
        {
          "output_type": "display_data",
          "data": {
            "image/png": "[encoded data removed]",
            "text/plain": [
              "<Figure size 432x288 with 1 Axes>"
            ]
          },
          "metadata": {}
        }
      ]
    },
    {
      "cell_type": "markdown",
      "metadata": {
        "id": "asuSI8Jg0EaC"
      },
      "source": [
        "##### Scatter"
      ]
    },
    {
      "cell_type": "code",
      "metadata": {
        "colab": {
          "base_uri": "https://localhost:8080/",
          "height": 295
        },
        "id": "O6Nrf3rvwCk7",
        "outputId": "26a235e1-f24a-4ca7-9448-7feedac41ecb"
      },
      "source": [
        "# Point clouds\n",
        "plt.scatter(arr, mut)\n",
        "plt.scatter(arr, square)\n",
        "\n",
        "# Change the ylabel \n",
        "plt.xlabel(\"Random Numbers\")\n",
        "\n",
        "# Change the title \n",
        "plt.ylabel(\"Values\")\n",
        "\n",
        "# Change the title \n",
        "plt.title(\"Graph\")\n",
        "\n",
        "# Put a legend\n",
        "plt.legend([\"Square\", \"Exp\"])\n",
        "\n",
        "# Show the plot\n",
        "plt.show()"
      ],
      "execution_count": 178,
      "outputs": [
        {
          "output_type": "display_data",
          "data": {
            "image/png": "[encoded data removed]",
            "text/plain": [
              "<Figure size 432x288 with 1 Axes>"
            ]
          },
          "metadata": {}
        }
      ]
    },
    {
      "cell_type": "markdown",
      "metadata": {
        "id": "ppony41B0G1i"
      },
      "source": [
        "##### Tools "
      ]
    },
    {
      "cell_type": "code",
      "metadata": {
        "colab": {
          "base_uri": "https://localhost:8080/",
          "height": 474
        },
        "id": "TO9JX-7fzXL0",
        "outputId": "159a79d0-2fed-4c97-ce34-b09b87c03fc3"
      },
      "source": [
        "# Adapt the size\n",
        "plt.figure(figsize=(15,8))\n",
        "\n",
        "# Plot the line\n",
        "plt.plot(arr, alpha=1, color=\"turquoise\")\n",
        "\n",
        "# Plot the line\n",
        "plt.plot(square, \"-o\", linewidth=2)\n",
        "\n",
        "# Plot the line\n",
        "plt.plot(mut)\n",
        "\n",
        "# Change the ylabel \n",
        "plt.ylabel(\"Values\")\n",
        "\n",
        "# Change the title \n",
        "plt.title(\"Graph\")\n",
        "\n",
        "# Put a legend\n",
        "plt.legend([\"Normal\", \"Square\", \"Multiplication\"])\n",
        "\n",
        "# show the plot\n",
        "plt.show()"
      ],
      "execution_count": 179,
      "outputs": [
        {
          "output_type": "display_data",
          "data": {
            "image/png": "[encoded data removed]",
            "text/plain": [
              "<Figure size 1080x576 with 1 Axes>"
            ]
          },
          "metadata": {}
        }
      ]
    }
  ]
}