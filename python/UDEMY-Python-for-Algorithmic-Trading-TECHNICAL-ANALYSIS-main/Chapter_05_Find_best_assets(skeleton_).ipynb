{
  "nbformat": 4,
  "nbformat_minor": 0,
  "metadata": {
    "colab": {
      "name": "Find_best_assets(skeleton_)1.ipynb",
      "provenance": [],
      "collapsed_sections": []
    },
    "kernelspec": {
      "name": "python3",
      "display_name": "Python 3"
    },
    "language_info": {
      "name": "python"
    }
  },
  "cells": [
    {
      "cell_type": "markdown",
      "metadata": {
        "id": "QHQ3VoMgQUM9"
      },
      "source": [
        "<p><img alt=\"Colaboratory logo\" height=\"45px\" src=\"https://www.quantreo.com/wp-content/uploads/2021/04/cropped-Logo_Quantreo_transparent.png\" align=\"left\" hspace=\"10px\" vspace=\"0px\"></p>\n",
        "\n",
        "# Find best assets\n",
        "The objective will be to define whether certain asset classes are more or less suitable for the strategy we propose.We will study several classes: assets, cryptos, currencies. Then we will study different characteristics like Hurst exponent, volatility, beta.\n",
        "\n",
        "### Content\n",
        "* All computations\n",
        "* What assets classes is the best?\n",
        "* Other optimal criterions"
      ]
    },
    {
      "cell_type": "markdown",
      "metadata": {
        "id": "r3shjYjLQ-Cr"
      },
      "source": [
        "### Environnement"
      ]
    },
    {
      "cell_type": "code",
      "metadata": {
        "id": "CB08SLnxWerx",
        "colab": {
          "base_uri": "https://localhost:8080/"
        },
        "outputId": "5bd6a1c4-9008-4f79-a502-bf3ca941d2bc"
      },
      "source": [
        "!pip install ta\n",
        "!pip install yfinance\n",
        "!pip install hurst"
      ],
      "execution_count": null,
      "outputs": [
        {
          "output_type": "stream",
          "name": "stdout",
          "text": [
            "Requirement already satisfied: ta in /usr/local/lib/python3.7/dist-packages (0.7.0)\n",
            "Requirement already satisfied: pandas in /usr/local/lib/python3.7/dist-packages (from ta) (1.1.5)\n",
            "Requirement already satisfied: numpy in /usr/local/lib/python3.7/dist-packages (from ta) (1.19.5)\n",
            "Requirement already satisfied: python-dateutil>=2.7.3 in /usr/local/lib/python3.7/dist-packages (from pandas->ta) (2.8.2)\n",
            "Requirement already satisfied: pytz>=2017.2 in /usr/local/lib/python3.7/dist-packages (from pandas->ta) (2018.9)\n",
            "Requirement already satisfied: six>=1.5 in /usr/local/lib/python3.7/dist-packages (from python-dateutil>=2.7.3->pandas->ta) (1.15.0)\n",
            "Requirement already satisfied: yfinance in /usr/local/lib/python3.7/dist-packages (0.1.63)\n",
            "Requirement already satisfied: requests>=2.20 in /usr/local/lib/python3.7/dist-packages (from yfinance) (2.23.0)\n",
            "Requirement already satisfied: multitasking>=0.0.7 in /usr/local/lib/python3.7/dist-packages (from yfinance) (0.0.9)\n",
            "Requirement already satisfied: lxml>=4.5.1 in /usr/local/lib/python3.7/dist-packages (from yfinance) (4.6.3)\n",
            "Requirement already satisfied: pandas>=0.24 in /usr/local/lib/python3.7/dist-packages (from yfinance) (1.1.5)\n",
            "Requirement already satisfied: numpy>=1.15 in /usr/local/lib/python3.7/dist-packages (from yfinance) (1.19.5)\n",
            "Requirement already satisfied: python-dateutil>=2.7.3 in /usr/local/lib/python3.7/dist-packages (from pandas>=0.24->yfinance) (2.8.2)\n",
            "Requirement already satisfied: pytz>=2017.2 in /usr/local/lib/python3.7/dist-packages (from pandas>=0.24->yfinance) (2018.9)\n",
            "Requirement already satisfied: six>=1.5 in /usr/local/lib/python3.7/dist-packages (from python-dateutil>=2.7.3->pandas>=0.24->yfinance) (1.15.0)\n",
            "Requirement already satisfied: chardet<4,>=3.0.2 in /usr/local/lib/python3.7/dist-packages (from requests>=2.20->yfinance) (3.0.4)\n",
            "Requirement already satisfied: idna<3,>=2.5 in /usr/local/lib/python3.7/dist-packages (from requests>=2.20->yfinance) (2.10)\n",
            "Requirement already satisfied: certifi>=2017.4.17 in /usr/local/lib/python3.7/dist-packages (from requests>=2.20->yfinance) (2021.5.30)\n",
            "Requirement already satisfied: urllib3!=1.25.0,!=1.25.1,<1.26,>=1.21.1 in /usr/local/lib/python3.7/dist-packages (from requests>=2.20->yfinance) (1.24.3)\n",
            "Requirement already satisfied: hurst in /usr/local/lib/python3.7/dist-packages (0.0.5)\n",
            "Requirement already satisfied: pandas>=0.18 in /usr/local/lib/python3.7/dist-packages (from hurst) (1.1.5)\n",
            "Requirement already satisfied: numpy>=1.10 in /usr/local/lib/python3.7/dist-packages (from hurst) (1.19.5)\n",
            "Requirement already satisfied: python-dateutil>=2.7.3 in /usr/local/lib/python3.7/dist-packages (from pandas>=0.18->hurst) (2.8.2)\n",
            "Requirement already satisfied: pytz>=2017.2 in /usr/local/lib/python3.7/dist-packages (from pandas>=0.18->hurst) (2018.9)\n",
            "Requirement already satisfied: six>=1.5 in /usr/local/lib/python3.7/dist-packages (from python-dateutil>=2.7.3->pandas>=0.18->hurst) (1.15.0)\n"
          ]
        }
      ]
    },
    {
      "cell_type": "code",
      "metadata": {
        "id": "qBzEe_-zRHvf"
      },
      "source": [
        "import matplotlib as mpl\n",
        "import matplotlib.pyplot as plt\n",
        "\n",
        "from matplotlib import cycler\n",
        "colors = cycler('color',\n",
        "                ['#669FEE', '#66EE91', '#9988DD',\n",
        "                 '#EECC55', '#88BB44', '#FFBBBB'])\n",
        "plt.rc('figure', facecolor='#313233')\n",
        "plt.rc('axes', facecolor=\"#313233\", edgecolor='none',\n",
        "       axisbelow=True, grid=True, prop_cycle=colors,\n",
        "       labelcolor='gray')\n",
        "plt.rc('grid', color='474A4A', linestyle='solid')\n",
        "plt.rc('xtick', color='gray')\n",
        "plt.rc('ytick', direction='out', color='gray')\n",
        "plt.rc('legend', facecolor=\"#313233\", edgecolor=\"#313233\")\n",
        "plt.rc(\"text\", color=\"#C9C9C9\")\n",
        "plt.rc('figure', facecolor='#313233')"
      ],
      "execution_count": null,
      "outputs": []
    },
    {
      "cell_type": "code",
      "metadata": {
        "id": "ml712LmuhQzm"
      },
      "source": [
        "import numpy as np\n",
        "import pandas as pd\n",
        "\n",
        "import yfinance as yf\n",
        "from hurst import compute_Hc\n",
        "import seaborn as sns\n",
        "\n",
        "import ta\n",
        "import warnings\n",
        "from tqdm import tqdm"
      ],
      "execution_count": null,
      "outputs": []
    },
    {
      "cell_type": "markdown",
      "metadata": {
        "id": "RIsA-trYhSyq"
      },
      "source": [
        "### Functions"
      ]
    },
    {
      "cell_type": "code",
      "metadata": {
        "id": "LiuZcyx6kef7"
      },
      "source": [
        "def RSI(val,neutral, window):\n",
        "  \"\"\" \n",
        "        ------------------------------------------------------------------------------\n",
        "        | Output: The function gives the returns of RSI strategy                     |\n",
        "        ------------------------------------------------------------------------------\n",
        "        | Inputs: -val (type dataframe pandas): Entry values of the stock            |\n",
        "        |         -neutral (float): Value of neutrality, i.e. no action zone         |\n",
        "        |         -window (float): rolling period for RSI                            |\n",
        "        ------------------------------------------------------------------------------\n",
        "  \"\"\"\n",
        "\n",
        "  # Print Error if there is no column Adj Close in the dataframe\n",
        "  if \"Adj Close\" not in val.columns:\n",
        "    ValueError(\"We need have a columns name Adj Close because all computation are about this column\")\n",
        "  \n",
        "  val[\"rsi\"] = ta.momentum.RSIIndicator(f[\"Adj Close\"], window=window).rsi()\n",
        "\n",
        "\n",
        "  \n",
        "  \"\"\" Long buy Signal \"\"\"\n",
        "  # We put threshold\n",
        "  overbuy = 70\n",
        "  neutral_buy = 50 + neutral\n",
        "\n",
        "  # Put nan values for the signal long columns\n",
        "  val[\"signal_long\"] = np.nan\n",
        "  val[\"yersteday_rsi\"] = f[\"rsi\"].shift(1)\n",
        "  # We need define the Open Long signal (RSI yersteday<55 and RSI today>55)\n",
        "  val.loc[(val[\"rsi\"]>neutral_buy) & (val[\"yersteday_rsi\"]<neutral_buy), \"signal_long\"] = 1\n",
        "\n",
        "  # We need define the Close Long signal (RSI yersteday>55 and RSI today<55) False signal\n",
        "  val.loc[(val[\"rsi\"]<neutral_buy)&(val[\"yersteday_rsi\"]>neutral_buy), \"signal_long\"] = 0\n",
        "\n",
        "  # We need define the Close Long signal (RSI yersteday>70 and RSI today<70) Over buy signal\n",
        "  val.loc[(val[\"rsi\"]<overbuy)&(val[\"yersteday_rsi\"]>overbuy), \"signal_long\"] = 0\n",
        "\n",
        "\n",
        "\n",
        "  \"\"\"Short sell signal \"\"\"\n",
        "  # We put threshold\n",
        "  oversell = 30\n",
        "  neutral_buy = 50 - neutral\n",
        "\n",
        "  # Put nan values for the signal short columns\n",
        "  val[\"signal_short\"] = np.nan\n",
        "  val[\"yersteday_rsi\"] = val[\"rsi\"].shift(1)\n",
        "  # We need define the Open Short signal (RSI yersteday>45 and RSI today<45)\n",
        "  val.loc[(val[\"rsi\"]<neutral_buy) & (val[\"yersteday_rsi\"]>neutral_buy), \"signal_short\"] = -1\n",
        "\n",
        "  # We need define the Close Short signal (RSI yersteday<45 and RSI today>45) False signal\n",
        "  val.loc[(val[\"rsi\"]>neutral_buy)&(val[\"yersteday_rsi\"]<neutral_buy), \"signal_short\"] = 0\n",
        "\n",
        "  # We need define the Close Short signal (RSI yersteday<30 and RSI today>30) Over sell signal\n",
        "  val.loc[(val[\"rsi\"]>oversell)&(val[\"yersteday_rsi\"]<oversell), \"signal_short\"] = 0\n",
        "\n",
        "\n",
        "  \"\"\" Compute the returns \"\"\"\n",
        "  # Compute the percentage of variation of the asset\n",
        "  val[\"pct\"] = val[\"Adj Close\"].pct_change(1)\n",
        "\n",
        "  # Compute the positions\n",
        "  val[\"Position\"] = (val[\"signal_short\"].fillna(method=\"ffill\")+ val[\"signal_long\"].fillna(method=\"ffill\"))\n",
        "\n",
        "  # Compute the return of the strategy\n",
        "  val[\"return\"] = val[\"pct\"]*(val[\"Position\"].shift(1))\n",
        "\n",
        "  return val[\"return\"]"
      ],
      "execution_count": null,
      "outputs": []
    },
    {
      "cell_type": "code",
      "metadata": {
        "id": "Z1GTbmrvwPsn"
      },
      "source": [
        "def beta_function(serie):\n",
        "\n",
        "  # Get SP500 data\n",
        "  sp500 = yf.download(\"^GSPC\")[[\"Adj Close\"]].pct_change(1)\n",
        "\n",
        "  # Change column name\n",
        "  sp500.columns = [\"SP500\"]\n",
        "\n",
        "  # Concatenate\n",
        "  g = pd.concat((serie,sp500), axis=1)\n",
        "\n",
        "  # Compute the beta\n",
        "  beta = np.cov(g[[serie.name, \"SP500\"]].dropna().values,rowvar=False)[0][1] / np.var(g[\"SP500\"].dropna().values)\n",
        "  return beta"
      ],
      "execution_count": null,
      "outputs": []
    },
    {
      "cell_type": "code",
      "metadata": {
        "id": "gm60wRC8lMeW"
      },
      "source": [
        "def drawdown_function(serie):\n",
        "\n",
        "  # We compute Cumsum of the returns\n",
        "  cum = serie.dropna().cumsum()+1\n",
        "\n",
        "  # We compute max of the cumsum on the period (accumulate max)\n",
        "  running_max = np.maximum.accumulate(cum)\n",
        "\n",
        "  # We compute drawdown\n",
        "  drawdown  = cum/running_max - 1 \n",
        "  return drawdown\n"
      ],
      "execution_count": null,
      "outputs": []
    },
    {
      "cell_type": "code",
      "metadata": {
        "id": "ygJr-dDQheqC"
      },
      "source": [
        "def BackTest(serie):\n",
        "\n",
        "  # Import the benchmark\n",
        "  sp500 = yf.download(\"^GSPC\")[\"Adj Close\"].pct_change(1)\n",
        "  \n",
        "  # Change the name\n",
        "  sp500.name = \"SP500\"\n",
        "\n",
        "  # Concat the returns and the sp500\n",
        "  val = pd.concat((return_serie,sp500), axis=1).dropna()\n",
        "  \n",
        "  # Compute the drawdown\n",
        "  drawdown = drawdown_function(serie)\n",
        "  \n",
        "  # Compute max drawdown\n",
        "  max_drawdown = -np.min(drawdown)\n",
        "\n",
        "\n",
        "\n",
        "\n",
        "  # Put a subplots\n",
        "  fig, (cum, dra) = plt.subplots(1,2, figsize=(15,6))\n",
        "  \n",
        "  # Put a Suptitle\n",
        "  fig.suptitle(\"Backtesting\", size=20)\n",
        "\n",
        "  # Returns cumsum chart\n",
        "  cum.plot(serie.cumsum(), color=\"#39B3C7\")\n",
        "\n",
        "  # SP500 cumsum chart\n",
        "  cum.plot(val[\"SP500\"].cumsum(), color=\"#B85A0F\")\n",
        "\n",
        "  # Put a legend\n",
        "  cum.legend([\"Portfolio\", \"SP500\"])\n",
        "  \n",
        "  # Set individual title\n",
        "  cum.set_title(\"Cumulative Return\", size=13)\n",
        "\n",
        "  # Put the drawdown\n",
        "  dra.fill_between(drawdown.index,0,drawdown, color=\"#C73954\", alpha=0.65)\n",
        "\n",
        "  # Set individual title\n",
        "  dra.set_title(\"Drawdown\", size=13)\n",
        "\n",
        "  # Plot the graph\n",
        "  plt.show()\n",
        "\n",
        "  # Compute the sortino\n",
        "  sortino = np.sqrt(252) * serie.mean()/serie.loc[serie<0].std()\n",
        "\n",
        "  # Compute the beta\n",
        "  beta = np.cov(val[[\"return\", \"SP500\"]].values,rowvar=False)[0][1] / np.var(val[\"SP500\"].values)\n",
        "\n",
        "  # Compute the alpha\n",
        "  alpha = 252*serie.mean() - 252*beta*serie.mean()\n",
        "\n",
        "  # Print the statistics\n",
        "  print(f\"Sortino: {np.round(sortino,3)}\")\n",
        "  print(f\"Beta: {np.round(beta,3)}\")\n",
        "  print(f\"Alpha: {np.round(alpha,3)}\")\n",
        "  print(f\"MaxDrawdown: {np.round(max_drawdown*100,3)} %\")"
      ],
      "execution_count": null,
      "outputs": []
    },
    {
      "cell_type": "markdown",
      "metadata": {
        "id": "vzWgHL7mWlIF"
      },
      "source": [
        "# Section1:  Computations"
      ]
    },
    {
      "cell_type": "markdown",
      "metadata": {
        "id": "LhaSaOYnWxMy"
      },
      "source": [
        "### Whats Hurst Exponent?\n",
        "\n",
        "The Hurst exponent is a statistic that helps to understand the behavior of a TimeSeries.\n",
        "\n",
        "* 0.5<Hurst <1: Trending movement\n",
        "* 0.5 = Hurst: Random walk\n",
        "* 0<Hurst<0.5: Antipersitent movement"
      ]
    },
    {
      "cell_type": "code",
      "metadata": {
        "id": "-R2OgIWUXdX2"
      },
      "source": [
        "# Trending\n",
        "# Compute Hurst Exponent\n",
        "\n",
        "# Show the results\n"
      ],
      "execution_count": null,
      "outputs": []
    },
    {
      "cell_type": "code",
      "metadata": {
        "id": "AzevbGaIZISs"
      },
      "source": [
        "# Antipersistent\n",
        "# Compute Hurst Exponent\n",
        "\n",
        "\n",
        "# Show the results\n"
      ],
      "execution_count": null,
      "outputs": []
    },
    {
      "cell_type": "code",
      "metadata": {
        "id": "PZwclZHqYQoN"
      },
      "source": [
        "# Random\n",
        "# Compute Hurst Exponent\n",
        "\n",
        "\n",
        "# Show the results\n",
        "\n"
      ],
      "execution_count": null,
      "outputs": []
    },
    {
      "cell_type": "markdown",
      "metadata": {
        "id": "P_XLRuxRjpfQ"
      },
      "source": [
        "### Computations"
      ]
    },
    {
      "cell_type": "code",
      "metadata": {
        "id": "5mcv0flaZKik"
      },
      "source": [
        "# We dowload Names.csv because it contains many yahoo ticler\n",
        "\n",
        "\n",
        "# Initialize our lists\n",
        "\n",
        "\n",
        "\n",
        "  # We put try for the asset which have less than 100 values\n",
        "\n",
        "\n",
        "    # We download data for each asset\n",
        "\n",
        "\n",
        "    # Create a list to put the following statistics\n",
        "\n",
        "\n",
        "    # Compute the Hurst\n",
        "\n",
        "\n",
        "    # Compute the volatility\n",
        "\n",
        "\n",
        "    # Compute the beta\n",
        "\n",
        "\n",
        "    # Compute strat return\n",
        "\n",
        "\n",
        "    # Put statistics list in Statistics\n",
        "\n",
        "\n",
        "    # Put column name in the list because some columns dont have 100 values\n",
        "\n",
        "  # If the assets has not 100 values we pass to the next\n",
        "\n",
        "\n",
        "# We create dataframe with all the previous statistics\n",
        "\n"
      ],
      "execution_count": null,
      "outputs": []
    },
    {
      "cell_type": "code",
      "metadata": {
        "id": "PeQcV_tskh9Z"
      },
      "source": [
        "# We extract classe of the actif \n",
        "\n"
      ],
      "execution_count": null,
      "outputs": []
    },
    {
      "cell_type": "code",
      "metadata": {
        "id": "0Yu37ydymnUB"
      },
      "source": [
        "# Concat resume clustering to have the classe of the assets\n",
        "\n"
      ],
      "execution_count": null,
      "outputs": []
    },
    {
      "cell_type": "markdown",
      "metadata": {
        "id": "2eamKXsDr9eh"
      },
      "source": [
        "# Section 2: What assets classes is the best?"
      ]
    },
    {
      "cell_type": "code",
      "metadata": {
        "id": "g-AOD_-Ingm7"
      },
      "source": [
        "# We are going to plot the density of the strategy returns by the classe of the assets\n",
        "\n",
        "\n",
        "# Plot the densities\n",
        "\n",
        "\n",
        "# Limit the axis\n",
        "\n",
        "\n",
        "# plot the graph\n"
      ],
      "execution_count": null,
      "outputs": []
    },
    {
      "cell_type": "code",
      "metadata": {
        "id": "wrav3rDkoX6r"
      },
      "source": [
        "# Describe by currency\n"
      ],
      "execution_count": null,
      "outputs": []
    },
    {
      "cell_type": "code",
      "metadata": {
        "id": "ZanpPiSPsEWi"
      },
      "source": [
        "# Describe by Crypto\n"
      ],
      "execution_count": null,
      "outputs": []
    },
    {
      "cell_type": "code",
      "metadata": {
        "id": "155dLcjqsJBa"
      },
      "source": [
        "# Describe by asset\n"
      ],
      "execution_count": null,
      "outputs": []
    },
    {
      "cell_type": "markdown",
      "metadata": {
        "id": "zrrvUpcftwZ7"
      },
      "source": [
        "# Section 3: Other optimal criterions"
      ]
    },
    {
      "cell_type": "code",
      "metadata": {
        "id": "6WGu9uL-sKcx"
      },
      "source": [
        "# Descibe the database\n",
        "\n"
      ],
      "execution_count": null,
      "outputs": []
    },
    {
      "cell_type": "code",
      "metadata": {
        "id": "w2_H76S_uelR"
      },
      "source": [
        "# We are going to plot the density of the strategy returns by the HURST\n",
        "\n",
        "\n",
        "# Plot the densities\n",
        "\n",
        "\n",
        "# Limit the axis\n",
        "\n",
        "\n",
        "# plot the graph\n",
        "\n"
      ],
      "execution_count": null,
      "outputs": []
    },
    {
      "cell_type": "code",
      "metadata": {
        "id": "jgnxc8NbvF-X"
      },
      "source": [
        "# We are going to plot the density of the strategy returns by the classe of the assets\n",
        "\n",
        "\n",
        "# Plot the densities\n",
        "\n",
        "\n",
        "# Limit the axis\n",
        "\n",
        "\n",
        "# plot the graph\n",
        "\n"
      ],
      "execution_count": null,
      "outputs": []
    },
    {
      "cell_type": "code",
      "metadata": {
        "id": "NTRpKg0Dv1In"
      },
      "source": [
        "# We are going to plot the density of the strategy returns by the classe of the assets\n",
        "\n",
        "\n",
        "# Plot the densities\n",
        "\n",
        "\n",
        "# Limit the axis\n",
        "\n",
        "\n",
        "# plot the graph\n",
        "\n"
      ],
      "execution_count": null,
      "outputs": []
    }
  ]
}