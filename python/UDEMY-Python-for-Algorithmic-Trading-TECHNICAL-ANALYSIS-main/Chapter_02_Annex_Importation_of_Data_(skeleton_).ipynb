{
  "nbformat": 4,
  "nbformat_minor": 0,
  "metadata": {
    "colab": {
      "name": "Importation_of_Data_(skeleton ).ipynb",
      "provenance": [],
      "collapsed_sections": [
        "h-1P69jxrgo0"
      ]
    },
    "kernelspec": {
      "name": "python3",
      "display_name": "Python 3"
    },
    "language_info": {
      "name": "python"
    }
  },
  "cells": [
    {
      "cell_type": "markdown",
      "metadata": {
        "id": "cCV0K8_frdn3"
      },
      "source": [
        " <p><img alt=\"Colaboratory logo\" height=\"45px\" src=\"https://www.quantreo.com/wp-content/uploads/2021/04/cropped-Logo_Quantreo_transparent.png\" align=\"left\" hspace=\"10px\" vspace=\"0px\"></p>\n",
        "\n",
        " # Importation of Data\n",
        "Importing the data is the most important thing. Indeed, bad data could let us make wrong decisions on the strategies to use and thus lose money. We are going to see the finance library which will allow us to import the prices of yahoo finance extremely easily. However, this ease has a price. Sometimes the yahoo data is of poor quality on some assets. \n",
        "<br>\n",
        "<br>\n",
        "\n",
        "\n",
        "**It is imperative to verify the trading strategies created by using your broker's data afterwards. <br>\n",
        "! ALL TICKER NAMES ARE THE SAME AS THOSE ON YAHOO FINANCE WEBSITE**\n",
        "\n",
        "<br>\n",
        "\n",
        "### Content\n",
        "* Yahoo finance library\n",
        "* Some Others way"
      ]
    },
    {
      "cell_type": "code",
      "metadata": {
        "id": "8N9gXYYcuGCu"
      },
      "source": [
        ""
      ],
      "execution_count": null,
      "outputs": []
    },
    {
      "cell_type": "markdown",
      "metadata": {
        "id": "h-1P69jxrgo0"
      },
      "source": [
        "# Section1: Yahoo finance library"
      ]
    },
    {
      "cell_type": "code",
      "metadata": {
        "id": "A8n9iIQopuBs"
      },
      "source": [
        "# importation of yfinance\n"
      ],
      "execution_count": null,
      "outputs": []
    },
    {
      "cell_type": "code",
      "metadata": {
        "id": "R4HxsprkqU0m"
      },
      "source": [
        "# Most simple importation\n"
      ],
      "execution_count": null,
      "outputs": []
    },
    {
      "cell_type": "code",
      "metadata": {
        "id": "mtz0JRUccU4f"
      },
      "source": [
        "# Most simple importation\n"
      ],
      "execution_count": null,
      "outputs": []
    },
    {
      "cell_type": "code",
      "metadata": {
        "id": "hLx1Plo3qbvZ"
      },
      "source": [
        "# Personalize date range\n"
      ],
      "execution_count": null,
      "outputs": []
    },
    {
      "cell_type": "code",
      "metadata": {
        "id": "wGUxxLf6qh8d"
      },
      "source": [
        "# Personalize data interval\n"
      ],
      "execution_count": null,
      "outputs": []
    },
    {
      "cell_type": "markdown",
      "metadata": {
        "id": "CxtUKbrErCQx"
      },
      "source": [
        "# Some Others way\n",
        "\n",
        "* Directly importing from the brocker (We will see in the following part)\n",
        "* AlphaVantage\n",
        "* MorningStar"
      ]
    }
  ]
}