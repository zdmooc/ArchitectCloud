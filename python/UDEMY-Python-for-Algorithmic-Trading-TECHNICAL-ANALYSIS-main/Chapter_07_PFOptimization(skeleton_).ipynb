{
  "nbformat": 4,
  "nbformat_minor": 0,
  "metadata": {
    "colab": {
      "name": "PFOptimization(skeleton_)1.ipynb",
      "provenance": [],
      "collapsed_sections": [
        "0nzOYQ4xsYZ0",
        "2QehlheC4R9W",
        "ta2I0twL5VXN"
      ]
    },
    "kernelspec": {
      "name": "python3",
      "display_name": "Python 3"
    },
    "language_info": {
      "name": "python"
    }
  },
  "cells": [
    {
      "cell_type": "markdown",
      "metadata": {
        "id": "fBiU8DdlsevD"
      },
      "source": [
        "<p><img alt=\"Colaboratory logo\" height=\"45px\" src=\"https://www.quantreo.com/wp-content/uploads/2021/04/cropped-Logo_Quantreo_transparent.png\" align=\"left\" hspace=\"10px\" vspace=\"0px\"></p>\n",
        "\n",
        "# Portfolio Optimization\n",
        "In this section you will learn the concept of portfolio management.\n",
        "The idea is to combine our strategies to reduce the risk of your investment. The notions we will study apply to strategies as well as to assets. You will be able to create your own portfolio using the algorithms that we will present.\n",
        "\n",
        "<br>\n",
        "\n",
        "### Content\n",
        "* Sortino Optimization\n",
        "* Min Variance Optimization\n",
        "* Mean Variance Skewness Kurtosis Optimization"
      ]
    },
    {
      "cell_type": "markdown",
      "metadata": {
        "id": "0nzOYQ4xsYZ0"
      },
      "source": [
        "### environnement"
      ]
    },
    {
      "cell_type": "code",
      "metadata": {
        "colab": {
          "base_uri": "https://localhost:8080/"
        },
        "id": "FgQ_rx97sJeD",
        "outputId": "631f013f-97e8-4228-a709-12895e137e1c"
      },
      "source": [
        "!pip install ta\n",
        "!pip install yfinance"
      ],
      "execution_count": null,
      "outputs": [
        {
          "output_type": "stream",
          "name": "stdout",
          "text": [
            "Collecting ta\n",
            "  Downloading ta-0.7.0.tar.gz (25 kB)\n",
            "Requirement already satisfied: numpy in /usr/local/lib/python3.7/dist-packages (from ta) (1.19.5)\n",
            "Requirement already satisfied: pandas in /usr/local/lib/python3.7/dist-packages (from ta) (1.1.5)\n",
            "Requirement already satisfied: python-dateutil>=2.7.3 in /usr/local/lib/python3.7/dist-packages (from pandas->ta) (2.8.2)\n",
            "Requirement already satisfied: pytz>=2017.2 in /usr/local/lib/python3.7/dist-packages (from pandas->ta) (2018.9)\n",
            "Requirement already satisfied: six>=1.5 in /usr/local/lib/python3.7/dist-packages (from python-dateutil>=2.7.3->pandas->ta) (1.15.0)\n",
            "Building wheels for collected packages: ta\n",
            "  Building wheel for ta (setup.py) ... \u001b[?25l\u001b[?25hdone\n",
            "  Created wheel for ta: filename=ta-0.7.0-py3-none-any.whl size=28718 sha256=204927fff98990602bbf3350a36684cae5957873c1fa78bca54aa368d2b5c2fa\n",
            "  Stored in directory: /root/.cache/pip/wheels/5e/74/e0/72395003bd1d3c8f3f5860c2d180ff15699e47a2733d8ebd38\n",
            "Successfully built ta\n",
            "Installing collected packages: ta\n",
            "Successfully installed ta-0.7.0\n",
            "Collecting yfinance\n",
            "  Downloading yfinance-0.1.63.tar.gz (26 kB)\n",
            "Requirement already satisfied: pandas>=0.24 in /usr/local/lib/python3.7/dist-packages (from yfinance) (1.1.5)\n",
            "Requirement already satisfied: numpy>=1.15 in /usr/local/lib/python3.7/dist-packages (from yfinance) (1.19.5)\n",
            "Requirement already satisfied: requests>=2.20 in /usr/local/lib/python3.7/dist-packages (from yfinance) (2.23.0)\n",
            "Requirement already satisfied: multitasking>=0.0.7 in /usr/local/lib/python3.7/dist-packages (from yfinance) (0.0.9)\n",
            "Collecting lxml>=4.5.1\n",
            "  Downloading lxml-4.6.3-cp37-cp37m-manylinux2014_x86_64.whl (6.3 MB)\n",
            "\u001b[K     |████████████████████████████████| 6.3 MB 6.4 MB/s \n",
            "\u001b[?25hRequirement already satisfied: pytz>=2017.2 in /usr/local/lib/python3.7/dist-packages (from pandas>=0.24->yfinance) (2018.9)\n",
            "Requirement already satisfied: python-dateutil>=2.7.3 in /usr/local/lib/python3.7/dist-packages (from pandas>=0.24->yfinance) (2.8.2)\n",
            "Requirement already satisfied: six>=1.5 in /usr/local/lib/python3.7/dist-packages (from python-dateutil>=2.7.3->pandas>=0.24->yfinance) (1.15.0)\n",
            "Requirement already satisfied: chardet<4,>=3.0.2 in /usr/local/lib/python3.7/dist-packages (from requests>=2.20->yfinance) (3.0.4)\n",
            "Requirement already satisfied: certifi>=2017.4.17 in /usr/local/lib/python3.7/dist-packages (from requests>=2.20->yfinance) (2021.5.30)\n",
            "Requirement already satisfied: urllib3!=1.25.0,!=1.25.1,<1.26,>=1.21.1 in /usr/local/lib/python3.7/dist-packages (from requests>=2.20->yfinance) (1.24.3)\n",
            "Requirement already satisfied: idna<3,>=2.5 in /usr/local/lib/python3.7/dist-packages (from requests>=2.20->yfinance) (2.10)\n",
            "Building wheels for collected packages: yfinance\n",
            "  Building wheel for yfinance (setup.py) ... \u001b[?25l\u001b[?25hdone\n",
            "  Created wheel for yfinance: filename=yfinance-0.1.63-py2.py3-none-any.whl size=23918 sha256=0aa7a37bcd6110dcca14e93565fbdc91d7df6c11351dd3248e9934093f93c594\n",
            "  Stored in directory: /root/.cache/pip/wheels/fe/87/8b/7ec24486e001d3926537f5f7801f57a74d181be25b11157983\n",
            "Successfully built yfinance\n",
            "Installing collected packages: lxml, yfinance\n",
            "  Attempting uninstall: lxml\n",
            "    Found existing installation: lxml 4.2.6\n",
            "    Uninstalling lxml-4.2.6:\n",
            "      Successfully uninstalled lxml-4.2.6\n",
            "Successfully installed lxml-4.6.3 yfinance-0.1.63\n"
          ]
        }
      ]
    },
    {
      "cell_type": "code",
      "metadata": {
        "id": "AEYJf9IAsSvS"
      },
      "source": [
        "import pandas as pd\n",
        "import ta\n",
        "import yfinance as yf\n",
        "from tqdm import tqdm\n",
        "import seaborn as sns\n",
        "from scipy.optimize import minimize\n",
        "\n",
        "import numpy as np\n",
        "import warnings\n",
        "warnings.filterwarnings(\"ignore\")"
      ],
      "execution_count": null,
      "outputs": []
    },
    {
      "cell_type": "code",
      "metadata": {
        "id": "Trm5QWowsWAy"
      },
      "source": [
        "import matplotlib as mpl\n",
        "import matplotlib.pyplot as plt\n",
        "\n",
        "from matplotlib import cycler\n",
        "colors = cycler('color',\n",
        "                ['#669FEE', '#66EE91', '#9988DD',\n",
        "                 '#EECC55', '#88BB44', '#FFBBBB'])\n",
        "plt.rc('figure', facecolor='#313233')\n",
        "plt.rc('axes', facecolor=\"#313233\", edgecolor='none',\n",
        "       axisbelow=True, grid=True, prop_cycle=colors,\n",
        "       labelcolor='gray')\n",
        "plt.rc('grid', color='474A4A', linestyle='solid')\n",
        "plt.rc('xtick', color='gray')\n",
        "plt.rc('ytick', direction='out', color='gray')\n",
        "plt.rc('legend', facecolor=\"#313233\", edgecolor=\"#313233\")\n",
        "plt.rc(\"text\", color=\"#C9C9C9\")\n",
        "plt.rc('figure', facecolor='#313233')"
      ],
      "execution_count": null,
      "outputs": []
    },
    {
      "cell_type": "markdown",
      "metadata": {
        "id": "lHScxsr6sgyC"
      },
      "source": [
        "### Functions"
      ]
    },
    {
      "cell_type": "code",
      "metadata": {
        "id": "2YxMqnAxshp-"
      },
      "source": [
        "def RSI(val,neutral, window):\n",
        "  \"\"\" \n",
        "        ------------------------------------------------------------------------------\n",
        "        | Output: The function gives the returns of RSI strategy                     |\n",
        "        ------------------------------------------------------------------------------\n",
        "        | Inputs: -val (type dataframe pandas): Entry values of the stock            |\n",
        "        |         -neutral (float): Value of neutrality, i.e. no action zone         |\n",
        "        |         -window (float): rolling period for RSI                            |\n",
        "        ------------------------------------------------------------------------------\n",
        "  \"\"\"\n",
        "\n",
        "  # Print Error if there is no column Adj Close in the dataframe\n",
        "  if \"Adj Close\" not in val.columns:\n",
        "    ValueError(\"We need have a columns name Adj Close because all computation are about this column\")\n",
        "  \n",
        "  val[\"rsi\"] = ta.momentum.RSIIndicator(f[\"Adj Close\"], window=window).rsi()\n",
        "\n",
        "\n",
        "  \n",
        "  \"\"\" Long buy Signal \"\"\"\n",
        "  # We put threshold\n",
        "  overbuy = 70\n",
        "  neutral_buy = 50 + neutral\n",
        "\n",
        "  # Put nan values for the signal long columns\n",
        "  val[\"signal_long\"] = np.nan\n",
        "  val[\"yersteday_rsi\"] = f[\"rsi\"].shift(1)\n",
        "  # We need define the Open Long signal (RSI yersteday<55 and RSI today>55)\n",
        "  val.loc[(val[\"rsi\"]>neutral_buy) & (val[\"yersteday_rsi\"]<neutral_buy), \"signal_long\"] = 1\n",
        "\n",
        "  # We need define the Close Long signal (RSI yersteday>55 and RSI today<55) False signal\n",
        "  val.loc[(val[\"rsi\"]<neutral_buy)&(val[\"yersteday_rsi\"]>neutral_buy), \"signal_long\"] = 0\n",
        "\n",
        "  # We need define the Close Long signal (RSI yersteday>70 and RSI today<70) Over buy signal\n",
        "  val.loc[(val[\"rsi\"]<overbuy)&(val[\"yersteday_rsi\"]>overbuy), \"signal_long\"] = 0\n",
        "\n",
        "\n",
        "\n",
        "  \"\"\"Short sell signal \"\"\"\n",
        "  # We put threshold\n",
        "  oversell = 30\n",
        "  neutral_buy = 50 - neutral\n",
        "\n",
        "  # Put nan values for the signal short columns\n",
        "  val[\"signal_short\"] = np.nan\n",
        "  val[\"yersteday_rsi\"] = val[\"rsi\"].shift(1)\n",
        "  # We need define the Open Short signal (RSI yersteday>45 and RSI today<45)\n",
        "  val.loc[(val[\"rsi\"]<neutral_buy) & (val[\"yersteday_rsi\"]>neutral_buy), \"signal_short\"] = -1\n",
        "\n",
        "  # We need define the Close Short signal (RSI yersteday<45 and RSI today>45) False signal\n",
        "  val.loc[(val[\"rsi\"]>neutral_buy)&(val[\"yersteday_rsi\"]<neutral_buy), \"signal_short\"] = 0\n",
        "\n",
        "  # We need define the Close Short signal (RSI yersteday<30 and RSI today>30) Over sell signal\n",
        "  val.loc[(val[\"rsi\"]>oversell)&(val[\"yersteday_rsi\"]<oversell), \"signal_short\"] = 0\n",
        "\n",
        "\n",
        "  \"\"\" Compute the returns \"\"\"\n",
        "  # Compute the percentage of variation of the asset\n",
        "  val[\"pct\"] = val[\"Adj Close\"].pct_change(1)\n",
        "\n",
        "  # Compute the positions\n",
        "  val[\"Position\"] = (val[\"signal_short\"].fillna(method=\"ffill\")+ val[\"signal_long\"].fillna(method=\"ffill\"))\n",
        "\n",
        "  # Compute the return of the strategy\n",
        "  val[\"return\"] = val[\"pct\"]*(val[\"Position\"].shift(1))\n",
        "\n",
        "  return val[\"return\"]"
      ],
      "execution_count": null,
      "outputs": []
    },
    {
      "cell_type": "code",
      "metadata": {
        "id": "K-a6twmLvocP"
      },
      "source": [
        "def drawdown_function(serie):\n",
        "  \n",
        "  # We compute Cumsum of the returns\n",
        "  cum = serie.dropna().cumsum()+1\n",
        "\n",
        "  # We compute max of the cumsum on the period (accumulate max)\n",
        "  running_max = np.maximum.accumulate(cum)\n",
        "\n",
        "  # We compute drawdown\n",
        "  drawdown  = cum/running_max - 1 \n",
        "  return drawdown"
      ],
      "execution_count": null,
      "outputs": []
    },
    {
      "cell_type": "code",
      "metadata": {
        "id": "5AF_uwtvsncZ"
      },
      "source": [
        "def BackTest(serie):\n",
        "\n",
        "  # Import the benchmarcl\n",
        "  sp500 = yf.download(\"^GSPC\")[\"Adj Close\"].pct_change(1)\n",
        "  sp500.columns = [\"SP500\"]\n",
        "\n",
        "  val = pd.concat((serie, sp500), axis=1).dropna()\n",
        "  \n",
        "  # Compute the drawdown\n",
        "  drawdown = drawdown_function(serie)\n",
        "  max_drawdown = -np.min(drawdown)\n",
        "\n",
        "  # Put a subplots\n",
        "  fig, (cum, dra) = plt.subplots(1,2, figsize=(15,6))\n",
        "  \n",
        "  # Put a Suptitle\n",
        "  fig.suptitle(\"Backtesting\", size=20)\n",
        "\n",
        "  # Put the cumsum\n",
        "  cum.plot(serie.cumsum(), color=\"#39B3C7\")\n",
        "  cum.plot(val[\"Adj Close\"].cumsum(), color=\"#B85A0F\")\n",
        "  cum.legend([\"Portfolio\", \"SP500\"])\n",
        "  # Set individual title\n",
        "  cum.set_title(\"Cumulative Return\", size=13)\n",
        "\n",
        "  # Put the drawdown\n",
        "  dra.fill_between(drawdown.index,0,drawdown, color=\"#C73954\", alpha=0.65)\n",
        "\n",
        "  # Set individual title\n",
        "  dra.set_title(\"Drawdown\", size=13)\n",
        "\n",
        "  # Plot the graph\n",
        "  plt.show()\n",
        "\n",
        "  # Compute the sortino\n",
        "  sortino = np.sqrt(252)*serie.mean()/serie.loc[serie<0].std()\n",
        "\n",
        "  # Compute the beta\n",
        "  beta = np.cov(val,rowvar=False)[0][1] /np.var(val[\"Adj Close\"].dropna())\n",
        "\n",
        "  # Compute the alpha\n",
        "  alpha = 252*serie.mean() - 252*beta*serie.mean()\n",
        "\n",
        "  # Print the statistics\n",
        "  print(f\"Sortino: {np.round(sortino,3)}\")\n",
        "  print(f\"Beta: {np.round(beta,3)}\")\n",
        "  print(f\"Alpha: {np.round(alpha,3)}\")\n",
        "  print(f\"MaxDrawdown: {np.round(max_drawdown*100,3)} %\")\n"
      ],
      "execution_count": null,
      "outputs": []
    },
    {
      "cell_type": "code",
      "metadata": {
        "id": "pEvBP0B1swFG"
      },
      "source": [
        "def opt(f):\n",
        "  # We set lists for the possible values of neutral and window\n",
        "  neutral_values = [i*2 for i in range(10)]\n",
        "  window_values = [i*2 for i in range(1,11)]\n",
        "\n",
        "  # Set some Border of the datasets\n",
        "  start_train, end_train = \"2017-01-01\", \"2019-01-01\"\n",
        "  start_test, end_test = \"2019-01-01\", \"2020-01-01\"\n",
        "  start_valid, end_valid = \"2020-01-01\", \"2021-01-01\"\n",
        "\n",
        "\n",
        "  # Initialize the list\n",
        "  resume = []\n",
        "\n",
        "  # Loop to add the values in the list\n",
        "  for i in range(len(neutral_values)):\n",
        "      for j in range(len(window_values)):\n",
        "        # Compute the returns\n",
        "        return_train = RSI(f.loc[start_train:end_train], neutral_values[i], window_values[j])\n",
        "        return_test = RSI(f.loc[start_test:end_test], neutral_values[i], window_values[j])\n",
        "\n",
        "        # Compute the sortino\n",
        "        sortino_train = np.sqrt(252) * return_train.mean() / return_train[return_train<0].std()\n",
        "        sortino_test = np.sqrt(252) * return_test.mean() / return_test[return_test<0].std()\n",
        "\n",
        "        # We do list of list to do a dataframe\n",
        "        values = [neutral_values[i], window_values[j], sortino_train, sortino_test]\n",
        "        resume.append(values)\n",
        "\n",
        "  resume = pd.DataFrame(resume, columns=[\"Neutral\", \"Window\", \"Sortino Train\", \"Sortino test\"])\n",
        "\n",
        "  # Order by sortino\n",
        "  ordered_resume = resume.sort_values(by=\"Sortino Train\", ascending=False)\n",
        "\n",
        "\n",
        "\n",
        "  for i in range(len(resume)):\n",
        "    # Take the best\n",
        "    best = ordered_resume.iloc[0+i:1+i,:]\n",
        "\n",
        "    # Compute the sortino\n",
        "    Strain = best[\"Sortino Train\"].values[0]\n",
        "    Stest = best[\"Sortino test\"].values[0]\n",
        "\n",
        "    # Take best neutral and best window\n",
        "    best_neutral = best[\"Neutral\"].values[0]\n",
        "    best_window = best[\"Window\"].values[0]\n",
        "\n",
        "    # If the Sortino of the train and the test are good we stop the loop\n",
        "    if Stest>0.5 and Strain>0.5:\n",
        "      break\n",
        "\n",
        "    # If there is no values enought good the put 0 in all values\n",
        "    else:\n",
        "      best_neutral = 0\n",
        "      best_window = 0\n",
        "      Strain = 0\n",
        "      Stest = 0\n",
        "  return [best_neutral, best_window, Strain, Stest]"
      ],
      "execution_count": null,
      "outputs": []
    },
    {
      "cell_type": "markdown",
      "metadata": {
        "id": "yXGhnTQysyuE"
      },
      "source": [
        "# Section1:  Sortino Optimization"
      ]
    },
    {
      "cell_type": "code",
      "metadata": {
        "id": "2Ne3r48msz1F"
      },
      "source": [
        "# Import Yahoo name\n",
        "\n",
        "\n",
        "# Initialize the lists\n",
        "\n",
        "\n",
        "\n",
        "# Compute best parameters for each Asset\n",
        "\n",
        "\n",
        "  # Import the asset\n",
        "\n",
        "  # Put the values\n"
      ],
      "execution_count": null,
      "outputs": []
    },
    {
      "cell_type": "code",
      "metadata": {
        "id": "zEvAde_Is5_v"
      },
      "source": [
        "# Add asset columns to each list of resume\n",
        "\n",
        "\n",
        "# Create a dataframe\n",
        "\n",
        "# Indexing by asset\n"
      ],
      "execution_count": null,
      "outputs": []
    },
    {
      "cell_type": "code",
      "metadata": {
        "id": "NyfRKxylt7su"
      },
      "source": [
        "# Order the dataframe using the Train sortino\n"
      ],
      "execution_count": null,
      "outputs": []
    },
    {
      "cell_type": "code",
      "metadata": {
        "id": "i82rHZQ2t_u5"
      },
      "source": [
        "# Border of sets\n",
        "\n",
        "\n",
        "# Create a dataframe to put the strategies (The assets of the portfolio)\n",
        "\n",
        "\n",
        "  # Import the asset\n",
        "\n",
        "  # Extract opptimal neutral\n",
        "\n",
        "  # Exctract optimal window\n"
      ],
      "execution_count": null,
      "outputs": []
    },
    {
      "cell_type": "code",
      "metadata": {
        "id": "YduTyi3w4Lqh"
      },
      "source": [
        "# Plot the strategies\n"
      ],
      "execution_count": null,
      "outputs": []
    },
    {
      "cell_type": "code",
      "metadata": {
        "id": "DKiNdsjTxjFt"
      },
      "source": [
        ""
      ],
      "execution_count": null,
      "outputs": []
    },
    {
      "cell_type": "code",
      "metadata": {
        "id": "_6XDz28CuQMu"
      },
      "source": [
        "def SR_criterion(weight, returns):\n",
        "  \"\"\" \n",
        "  ------------------------------------------------------------------------------\n",
        "  | Output: Opposite Sortino ratio to do a m imization                         |\n",
        "  ------------------------------------------------------------------------------\n",
        "  | Inputs: -Weight (type ndarray numpy): Wheight for portfolio                |\n",
        "  |         -returns (type dataframe pandas): Returns of stocks                |\n",
        "  ------------------------------------------------------------------------------\n",
        "  \"\"\"\n",
        "  pf_return = returns.values.dot(weight)\n",
        "  mu = np.mean(pf_return) \n",
        "  sigma = np.std(pf_return[pf_return<0])\n",
        "  Sortino = -mu/sigma\n",
        "  return Sortino\n",
        "\n",
        "\n",
        "# Compute the lenght of the strategies\n",
        "\n",
        "\n",
        "# Initialisation weight value\n",
        "\n",
        "\n",
        "# Optimization constraints problem\n",
        "\n",
        "\n",
        "\n",
        "# Put the bounds\n",
        "\n",
        "\n",
        "# Optimization problem solving\n",
        "\n",
        "\n",
        "# Result for computations\n",
        "\n"
      ],
      "execution_count": null,
      "outputs": []
    },
    {
      "cell_type": "code",
      "metadata": {
        "id": "f3cyTrMJuTuG"
      },
      "source": [
        "# BackTest Sortino Optimization\n"
      ],
      "execution_count": null,
      "outputs": []
    },
    {
      "cell_type": "markdown",
      "metadata": {
        "id": "2QehlheC4R9W"
      },
      "source": [
        "# Section 2: Min Variance Optimization"
      ]
    },
    {
      "cell_type": "code",
      "metadata": {
        "id": "vwn2aKYu4RJ_"
      },
      "source": [
        "def MV_criterion(weight,Returns_data):\n",
        "  \"\"\" \n",
        "  ------------------------------------------------------------------------------\n",
        "  | Output: optimization porfolio criterion                                    |\n",
        "  ------------------------------------------------------------------------------\n",
        "  | Inputs: -weight (type ndarray numpy): Wheight for portfolio                |\n",
        "  |         -Returns_data (type ndarray numpy): Returns of stocks              |\n",
        "  ------------------------------------------------------------------------------\n",
        "  \"\"\"\n",
        "  portfolio_return=np.multiply(Returns_data,np.transpose(weight))\n",
        "  portfolio_return=np.sum(portfolio_return,1)\n",
        "  mean_ret=np.mean(portfolio_return,0)\n",
        "  sd_ret=np.std(portfolio_return,0)\n",
        "  criterion = sd_ret\n",
        "  return criterion\n",
        "\n",
        "\n",
        "\n",
        "# Compute the lenght of the strategies\n",
        "\n",
        "# Initialisation weight value\n",
        "\n",
        "# Optimization constraints problem\n",
        "\n",
        "# Put the bounds\n",
        "\n",
        "# Optimization problem solving\n",
        "\n",
        "# Result for computations\n"
      ],
      "execution_count": null,
      "outputs": []
    },
    {
      "cell_type": "code",
      "metadata": {
        "id": "DAyQIvzduVpV"
      },
      "source": [
        "# BackTest MinVar Optimization\n"
      ],
      "execution_count": null,
      "outputs": []
    },
    {
      "cell_type": "markdown",
      "metadata": {
        "id": "ta2I0twL5VXN"
      },
      "source": [
        "# Section3: Mean Variance Skewness Kurtosis Optimization"
      ]
    },
    {
      "cell_type": "code",
      "metadata": {
        "id": "cJtXpqmr5JtN"
      },
      "source": [
        "def SK_criterion(weight,Returns_data):\n",
        "  \"\"\" \n",
        "  ------------------------------------------------------------------------------\n",
        "  | Output: optimization porfolio criterion                                    |\n",
        "  ------------------------------------------------------------------------------\n",
        "  | Inputs: -weight (type ndarray numpy): Wheight for portfolio                |\n",
        "  |         -Returns_data (type ndarray numpy): Returns of stocks              |\n",
        "  ------------------------------------------------------------------------------\n",
        "  \"\"\"\n",
        "  from scipy.stats import skew, kurtosis\n",
        "\n",
        "  Lambda_RA = 3\n",
        "  portfolio_return=np.multiply(Returns_data,np.transpose(weight))\n",
        "  portfolio_return=np.sum(portfolio_return,1)\n",
        "  mean_ret=np.mean(portfolio_return,0)\n",
        "  sd_ret=np.std(portfolio_return,0)\n",
        "  skew_ret=skew(portfolio_return,0)\n",
        "  kurt_ret=kurtosis(portfolio_return,0)\n",
        "  W=1;\n",
        "  Wbar=1*(1+0.25/100);\n",
        "  criterion=np.power(Wbar,1-Lambda_RA)/(1+Lambda_RA)+np.power(Wbar,-Lambda_RA)*W*mean_ret-Lambda_RA/2*np.power(Wbar,-1-Lambda_RA)*np.power(W,2)*np.power(sd_ret,2)+Lambda_RA*(Lambda_RA+1)/(6)*np.power(Wbar,-2-Lambda_RA)*np.power(W,3)*skew_ret-Lambda_RA*(Lambda_RA+1)*(Lambda_RA+2)/(24)*np.power(Wbar,-3-Lambda_RA)*np.power(W,4)*kurt_ret\n",
        "  criterion=-criterion;\n",
        "  return criterion\n",
        "\n",
        "\n",
        "# Compute the lenght of the strategies\n",
        "\n",
        "# Initialisation weight value\n",
        "\n",
        "# Optimization constraints problem\n",
        "\n",
        "# Put the bounds\n",
        "\n",
        "# Optimization problem solving\n",
        "\n",
        "# Result for computations\n"
      ],
      "execution_count": null,
      "outputs": []
    },
    {
      "cell_type": "code",
      "metadata": {
        "id": "mugX0_-J5oIK"
      },
      "source": [
        "# Plot the performances\n"
      ],
      "execution_count": null,
      "outputs": []
    }
  ]
}