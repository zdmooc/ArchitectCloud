{
  "nbformat": 4,
  "nbformat_minor": 0,
  "metadata": {
    "colab": {
      "name": "Python basics (Skeleton).ipynb",
      "provenance": [],
      "collapsed_sections": [
        "W98qWfRPpxWX",
        "nJYyIbZ_WbFT",
        "DuY3oXKNWd1h",
        "iEQQbsVFWkKi",
        "JUULnsP_Xemv",
        "cGqtdDyYX1Dk",
        "EMAdDk_6YXgw",
        "Kd-SYHI-ZF85",
        "2UHCKDk8bJEf",
        "W9Vc62veaNKg",
        "7xKs11J6akHQ",
        "wwObVh1w9Wl9",
        "-9ElsbKP-xvK",
        "0KASxCEe_dXD",
        "emrr2xJjhmKd",
        "4NWfx4mRhpgX",
        "S0TnQtBMfRXB",
        "F8rax_dDgnFI",
        "E6gHyLh1Bzh5",
        "oYh-hMSTB1Ur",
        "KE9L44nED-JK",
        "Qy6T6HOiGHaN",
        "7ilLgwf1HIMw",
        "MLRfDnNGHUkI",
        "EdYvgavpJPGK",
        "xLPPB2NOJUSq",
        "XM6mdryCRCAm",
        "D5KoCwIFT27I",
        "aH-i3Tn3UjJ_",
        "C6_cmiswU2AW",
        "asuSI8Jg0EaC",
        "ppony41B0G1i"
      ]
    },
    "kernelspec": {
      "name": "python3",
      "display_name": "Python 3"
    }
  },
  "cells": [
    {
      "cell_type": "markdown",
      "metadata": {
        "id": "HwIk5lNgltIS"
      },
      "source": [
        "<p><img alt=\"Colaboratory logo\" height=\"45px\" src=\"https://www.quantreo.com/wp-content/uploads/2021/04/cropped-Logo_Quantreo_transparent.png\" align=\"left\" hspace=\"10px\" vspace=\"0px\"></p>\n",
        "\n",
        "# PREREQUISITES  - **Python basics**\n",
        "\n",
        "This chapter will give you the python basics you need to follow the rest of the course.\n",
        "These are only reminders of what will be useful. That's why I advise you to follow a free quick Python training for your personal projects because if you are totally strangers to it, it can be hard to do your own project.\n",
        "\n",
        "### Part 1: The Python basics\n",
        "* Data operations:\n",
        "> * Numbers , Strings, Booleans\n",
        "> * Tuples, Lists\n",
        "> * Variable assignment\n",
        "* Python Structures:\n",
        "> * If/Elif/Else\n",
        "> * FOR\n",
        "> * While\n",
        "* The Functions\n",
        "\n",
        "### Part 2: Data Management\n",
        "* Numpy:\n",
        "> * Numpy table creation\n",
        "> * Random with Numpy\n",
        "> * Indexing and slixing\n",
        "\n",
        "* Pandas:\n",
        "> * Series and dataframe \n",
        "> * Useful pandas functions\n",
        "> * Indexing and slixing\n",
        "\n",
        "* Matplotlib\n",
        "> * Graphs\n",
        "> * Point clouds\n",
        "> * Useful functions\n",
        "\n",
        "\n",
        "\n",
        "\n",
        "\n"
      ]
    },
    {
      "cell_type": "markdown",
      "metadata": {
        "id": "W98qWfRPpxWX"
      },
      "source": [
        "# PART 1: The python basics\n"
      ]
    },
    {
      "cell_type": "markdown",
      "metadata": {
        "id": "nJYyIbZ_WbFT"
      },
      "source": [
        "### Data operations "
      ]
    },
    {
      "cell_type": "markdown",
      "metadata": {
        "id": "DuY3oXKNWd1h"
      },
      "source": [
        "##### Numbers"
      ]
    },
    {
      "cell_type": "code",
      "metadata": {
        "id": "yoYnGbme8kcq"
      },
      "source": [
        "# Addition\n"
      ],
      "execution_count": null,
      "outputs": []
    },
    {
      "cell_type": "code",
      "metadata": {
        "id": "lPQ-ZedRCtL0"
      },
      "source": [
        "# Substraction\n"
      ],
      "execution_count": null,
      "outputs": []
    },
    {
      "cell_type": "code",
      "metadata": {
        "id": "FSWWYIqBCwlg"
      },
      "source": [
        "# Multiplication\n"
      ],
      "execution_count": null,
      "outputs": []
    },
    {
      "cell_type": "code",
      "metadata": {
        "id": "fMQNWXVvC0Sx"
      },
      "source": [
        "# Division \n"
      ],
      "execution_count": null,
      "outputs": []
    },
    {
      "cell_type": "code",
      "metadata": {
        "id": "DH1jRr5_Xxo2"
      },
      "source": [
        "# Power\n"
      ],
      "execution_count": null,
      "outputs": []
    },
    {
      "cell_type": "code",
      "metadata": {
        "id": "abqfE8I2C2cr"
      },
      "source": [
        "# Whole part | 5.33 --> 5\n"
      ],
      "execution_count": null,
      "outputs": []
    },
    {
      "cell_type": "code",
      "metadata": {
        "id": "SnktoxGAC_ew"
      },
      "source": [
        "# Modulo | 16 = 15*3 + 1 \n"
      ],
      "execution_count": null,
      "outputs": []
    },
    {
      "cell_type": "markdown",
      "metadata": {
        "id": "iEQQbsVFWkKi"
      },
      "source": [
        "##### String"
      ]
    },
    {
      "cell_type": "code",
      "metadata": {
        "id": "8jOPFgexDF2H"
      },
      "source": [
        "# Simple string\n"
      ],
      "execution_count": null,
      "outputs": []
    },
    {
      "cell_type": "code",
      "metadata": {
        "id": "zLAVLu5rWv2a"
      },
      "source": [
        "# F-string (first possibility)\n"
      ],
      "execution_count": null,
      "outputs": []
    },
    {
      "cell_type": "code",
      "metadata": {
        "id": "shGzNr67Wvx0"
      },
      "source": [
        "# F-string (second possibility)\n"
      ],
      "execution_count": null,
      "outputs": []
    },
    {
      "cell_type": "code",
      "metadata": {
        "id": "ud27MNZYdwSG"
      },
      "source": [
        "# Slicing on string\n"
      ],
      "execution_count": null,
      "outputs": []
    },
    {
      "cell_type": "markdown",
      "metadata": {
        "id": "JUULnsP_Xemv"
      },
      "source": [
        "##### Booleans / logical operations"
      ]
    },
    {
      "cell_type": "code",
      "metadata": {
        "id": "vM_KlXcMWvtr"
      },
      "source": [
        "# Boolean type (True)\n"
      ],
      "execution_count": null,
      "outputs": []
    },
    {
      "cell_type": "code",
      "metadata": {
        "id": "53gTC6s5WvsF"
      },
      "source": [
        "# Boolean type (False)\n"
      ],
      "execution_count": null,
      "outputs": []
    },
    {
      "cell_type": "code",
      "metadata": {
        "id": "IoozzT2bdK_u"
      },
      "source": [
        "# Equality\n"
      ],
      "execution_count": null,
      "outputs": []
    },
    {
      "cell_type": "code",
      "metadata": {
        "id": "_f1XD2w3dgY5"
      },
      "source": [
        "# Sup\n"
      ],
      "execution_count": null,
      "outputs": []
    },
    {
      "cell_type": "code",
      "metadata": {
        "id": "yZj4kBbLdkUo"
      },
      "source": [
        "# Inf\n"
      ],
      "execution_count": null,
      "outputs": []
    },
    {
      "cell_type": "code",
      "metadata": {
        "id": "BbEIqsW4ducB"
      },
      "source": [
        "# Not Equal\n"
      ],
      "execution_count": null,
      "outputs": []
    },
    {
      "cell_type": "code",
      "metadata": {
        "id": "15J-4du3d0o-"
      },
      "source": [
        "# And \n"
      ],
      "execution_count": null,
      "outputs": []
    },
    {
      "cell_type": "code",
      "metadata": {
        "id": "XtzLTurHd47e"
      },
      "source": [
        "# Or\n"
      ],
      "execution_count": null,
      "outputs": []
    },
    {
      "cell_type": "code",
      "metadata": {
        "id": "pTRdjRHyZKZ7"
      },
      "source": [
        "# Not \n"
      ],
      "execution_count": null,
      "outputs": []
    },
    {
      "cell_type": "markdown",
      "metadata": {
        "id": "cGqtdDyYX1Dk"
      },
      "source": [
        "##### Variable assignment"
      ]
    },
    {
      "cell_type": "code",
      "metadata": {
        "id": "q3PsKlhZWvlz"
      },
      "source": [
        ""
      ],
      "execution_count": null,
      "outputs": []
    },
    {
      "cell_type": "code",
      "metadata": {
        "id": "NrwwCpCCWvkU"
      },
      "source": [
        ""
      ],
      "execution_count": null,
      "outputs": []
    },
    {
      "cell_type": "code",
      "metadata": {
        "id": "ufENsej-WveT"
      },
      "source": [
        ""
      ],
      "execution_count": null,
      "outputs": []
    },
    {
      "cell_type": "markdown",
      "metadata": {
        "id": "EMAdDk_6YXgw"
      },
      "source": [
        "##### Tuples, lists"
      ]
    },
    {
      "cell_type": "code",
      "metadata": {
        "id": "WY3Eyz5PWvcm"
      },
      "source": [
        "# Tuple\n"
      ],
      "execution_count": null,
      "outputs": []
    },
    {
      "cell_type": "code",
      "metadata": {
        "id": "L7RGe8QgWvYt"
      },
      "source": [
        "# List creation\n"
      ],
      "execution_count": null,
      "outputs": []
    },
    {
      "cell_type": "code",
      "metadata": {
        "id": "OSQw1R5yWvPy"
      },
      "source": [
        "# Adding value\n"
      ],
      "execution_count": null,
      "outputs": []
    },
    {
      "cell_type": "code",
      "metadata": {
        "id": "i391z7t4ZwnM"
      },
      "source": [
        "# Indexing\n"
      ],
      "execution_count": null,
      "outputs": []
    },
    {
      "cell_type": "code",
      "metadata": {
        "id": "owXGp0IsZ3Lg"
      },
      "source": [
        "# Value range selection\n"
      ],
      "execution_count": null,
      "outputs": []
    },
    {
      "cell_type": "code",
      "metadata": {
        "id": "g5SsaYNjZ6Jo"
      },
      "source": [
        "# Delete a value\n"
      ],
      "execution_count": null,
      "outputs": []
    },
    {
      "cell_type": "code",
      "metadata": {
        "id": "JH1xzsjTZOhr"
      },
      "source": [
        "# Bonus: Nested List\n",
        "\n",
        "# Print the sublist\n",
        "\n",
        "\n",
        "# Print value 15\n"
      ],
      "execution_count": null,
      "outputs": []
    },
    {
      "cell_type": "markdown",
      "metadata": {
        "id": "Kd-SYHI-ZF85"
      },
      "source": [
        "##### Dictionary"
      ]
    },
    {
      "cell_type": "code",
      "metadata": {
        "id": "7PasvUGAZw7L"
      },
      "source": [
        "# Initialize a dictionnary\n"
      ],
      "execution_count": null,
      "outputs": []
    },
    {
      "cell_type": "code",
      "metadata": {
        "id": "FngIfxOfZ-o5"
      },
      "source": [
        "# Initialize with values\n"
      ],
      "execution_count": null,
      "outputs": []
    },
    {
      "cell_type": "code",
      "metadata": {
        "id": "XT9t_7nraYJL"
      },
      "source": [
        "# Add a value\n"
      ],
      "execution_count": null,
      "outputs": []
    },
    {
      "cell_type": "code",
      "metadata": {
        "id": "t4GhmGtdapWP"
      },
      "source": [
        "# Extract a value\n"
      ],
      "execution_count": null,
      "outputs": []
    },
    {
      "cell_type": "markdown",
      "metadata": {
        "id": "2UHCKDk8bJEf"
      },
      "source": [
        "##### Sets"
      ]
    },
    {
      "cell_type": "code",
      "metadata": {
        "id": "viHNp-EHbQ9H"
      },
      "source": [
        "# Create a set\n"
      ],
      "execution_count": null,
      "outputs": []
    },
    {
      "cell_type": "code",
      "metadata": {
        "id": "_E1aFnTcbYpJ"
      },
      "source": [
        "# View a property\n"
      ],
      "execution_count": null,
      "outputs": []
    },
    {
      "cell_type": "code",
      "metadata": {
        "id": "2kc9rLF6be3l"
      },
      "source": [
        "# Create a list\n",
        "\n",
        "\n",
        "# Transform the list into a set\n"
      ],
      "execution_count": null,
      "outputs": []
    },
    {
      "cell_type": "code",
      "metadata": {
        "id": "s2b-8LgkcLs1"
      },
      "source": [
        "# Add a value\n"
      ],
      "execution_count": null,
      "outputs": []
    },
    {
      "cell_type": "markdown",
      "metadata": {
        "id": "W9Vc62veaNKg"
      },
      "source": [
        "### Python Structures"
      ]
    },
    {
      "cell_type": "markdown",
      "metadata": {
        "id": "7xKs11J6akHQ"
      },
      "source": [
        "##### If/ Elif/ Else"
      ]
    },
    {
      "cell_type": "code",
      "metadata": {
        "id": "CqZigieEaOkf"
      },
      "source": [
        "# Conditionnal structure IF\n"
      ],
      "execution_count": null,
      "outputs": []
    },
    {
      "cell_type": "code",
      "metadata": {
        "id": "neKqpCKn8y9N"
      },
      "source": [
        "# Conditionnal structure IF/ ELSE\n"
      ],
      "execution_count": null,
      "outputs": []
    },
    {
      "cell_type": "code",
      "metadata": {
        "id": "qEKi-yu_873c"
      },
      "source": [
        "# Conditionnal structure IF/ ELIF/ ELSE\n"
      ],
      "execution_count": null,
      "outputs": []
    },
    {
      "cell_type": "markdown",
      "metadata": {
        "id": "wwObVh1w9Wl9"
      },
      "source": [
        "##### Loop for"
      ]
    },
    {
      "cell_type": "code",
      "metadata": {
        "id": "I8BKwywY9iKQ"
      },
      "source": [
        "# Loop for with a sequence\n"
      ],
      "execution_count": null,
      "outputs": []
    },
    {
      "cell_type": "code",
      "metadata": {
        "id": "-NyTU8609ndX"
      },
      "source": [
        "# Loop for with a range\n"
      ],
      "execution_count": null,
      "outputs": []
    },
    {
      "cell_type": "code",
      "metadata": {
        "id": "hskUDXYd-fPF"
      },
      "source": [
        "# Loop in list\n"
      ],
      "execution_count": null,
      "outputs": []
    },
    {
      "cell_type": "markdown",
      "metadata": {
        "id": "-9ElsbKP-xvK"
      },
      "source": [
        "##### Loop While"
      ]
    },
    {
      "cell_type": "code",
      "metadata": {
        "id": "5XyND1LW-zbU"
      },
      "source": [
        "# Loop while\n"
      ],
      "execution_count": null,
      "outputs": []
    },
    {
      "cell_type": "markdown",
      "metadata": {
        "id": "0KASxCEe_dXD"
      },
      "source": [
        "### Functions"
      ]
    },
    {
      "cell_type": "markdown",
      "metadata": {
        "id": "emrr2xJjhmKd"
      },
      "source": [
        "##### Basics function"
      ]
    },
    {
      "cell_type": "code",
      "metadata": {
        "id": "n01Kh4uE_e-8"
      },
      "source": [
        "# Basic function\n"
      ],
      "execution_count": null,
      "outputs": []
    },
    {
      "cell_type": "code",
      "metadata": {
        "id": "8wzkxoiYNQsz"
      },
      "source": [
        ""
      ],
      "execution_count": null,
      "outputs": []
    },
    {
      "cell_type": "code",
      "metadata": {
        "id": "8_wiPu6VAskz"
      },
      "source": [
        "# default setting\n"
      ],
      "execution_count": null,
      "outputs": []
    },
    {
      "cell_type": "code",
      "metadata": {
        "id": "x7Re2mAOpYrx"
      },
      "source": [
        ""
      ],
      "execution_count": null,
      "outputs": []
    },
    {
      "cell_type": "markdown",
      "metadata": {
        "id": "4NWfx4mRhpgX"
      },
      "source": [
        "##### Lambda"
      ]
    },
    {
      "cell_type": "code",
      "metadata": {
        "id": "mhxlEyFthuQa"
      },
      "source": [
        "# Creation lambda oject\n"
      ],
      "execution_count": null,
      "outputs": []
    },
    {
      "cell_type": "code",
      "metadata": {
        "id": "NFQxwMIWh-B_"
      },
      "source": [
        "# Create a list to apply a lambda function\n",
        "\n",
        "\n",
        "# Use map function to apply lambda function to a list\n"
      ],
      "execution_count": null,
      "outputs": []
    },
    {
      "cell_type": "code",
      "metadata": {
        "id": "_AX5enMai7O-"
      },
      "source": [
        "# Map the list\n"
      ],
      "execution_count": null,
      "outputs": []
    },
    {
      "cell_type": "code",
      "metadata": {
        "id": "KeW0WEtqjU5K"
      },
      "source": [
        "# Create a function wich verify if the number is odd or not\n",
        "\n",
        "\n",
        "# Filter take only the values wich return True \n"
      ],
      "execution_count": null,
      "outputs": []
    },
    {
      "cell_type": "markdown",
      "metadata": {
        "id": "S0TnQtBMfRXB"
      },
      "source": [
        "##### Local Variable"
      ]
    },
    {
      "cell_type": "code",
      "metadata": {
        "id": "bV9cH9ASfUfR"
      },
      "source": [
        "# variable\n"
      ],
      "execution_count": null,
      "outputs": []
    },
    {
      "cell_type": "code",
      "metadata": {
        "id": "Fbg-A9BkfayT"
      },
      "source": [
        "# Local variable\n"
      ],
      "execution_count": null,
      "outputs": []
    },
    {
      "cell_type": "code",
      "metadata": {
        "id": "uAJKN7dxfojT"
      },
      "source": [
        "# Glo can go in the function\n",
        "\n",
        "\n",
        "# But loc can not go out this function it is local to the function\n"
      ],
      "execution_count": null,
      "outputs": []
    },
    {
      "cell_type": "markdown",
      "metadata": {
        "id": "F8rax_dDgnFI"
      },
      "source": [
        "##### Global Variable"
      ]
    },
    {
      "cell_type": "code",
      "metadata": {
        "id": "7330M1h4gpnQ"
      },
      "source": [
        "# Global variable  \n"
      ],
      "execution_count": null,
      "outputs": []
    },
    {
      "cell_type": "code",
      "metadata": {
        "id": "LgzzqLCDgp-M"
      },
      "source": [
        "# Run the function and print the global variable \n"
      ],
      "execution_count": null,
      "outputs": []
    },
    {
      "cell_type": "markdown",
      "metadata": {
        "id": "z8mkGo3_Bmew"
      },
      "source": [
        "# Part 2: Data Management"
      ]
    },
    {
      "cell_type": "markdown",
      "metadata": {
        "id": "E6gHyLh1Bzh5"
      },
      "source": [
        "### Numpy"
      ]
    },
    {
      "cell_type": "markdown",
      "metadata": {
        "id": "oYh-hMSTB1Ur"
      },
      "source": [
        "##### Numpy table creation"
      ]
    },
    {
      "cell_type": "code",
      "metadata": {
        "id": "qy75aQjfBqei"
      },
      "source": [
        "# Import of numpy\n",
        "\n",
        "\n",
        "# 1D array\n"
      ],
      "execution_count": null,
      "outputs": []
    },
    {
      "cell_type": "code",
      "metadata": {
        "id": "WO2_F5w7krek"
      },
      "source": [
        "# Linspace function\n"
      ],
      "execution_count": null,
      "outputs": []
    },
    {
      "cell_type": "code",
      "metadata": {
        "id": "mfR1z0KWk6H7"
      },
      "source": [
        "# Arrange function\n"
      ],
      "execution_count": null,
      "outputs": []
    },
    {
      "cell_type": "code",
      "metadata": {
        "id": "JOMnsG3ZCWXi"
      },
      "source": [
        "# 2D array\n"
      ],
      "execution_count": null,
      "outputs": []
    },
    {
      "cell_type": "code",
      "metadata": {
        "id": "QTRSkxrJCtgC"
      },
      "source": [
        "# Null matrix\n"
      ],
      "execution_count": null,
      "outputs": []
    },
    {
      "cell_type": "code",
      "metadata": {
        "id": "tVFbAMe9C_fw"
      },
      "source": [
        "# Identity matrix\n"
      ],
      "execution_count": null,
      "outputs": []
    },
    {
      "cell_type": "code",
      "metadata": {
        "id": "WiNy3cSuDM9r"
      },
      "source": [
        "# Ones matrix\n"
      ],
      "execution_count": null,
      "outputs": []
    },
    {
      "cell_type": "code",
      "metadata": {
        "id": "_D2LA0o9DXA6"
      },
      "source": [
        "# Add two matrix\n"
      ],
      "execution_count": null,
      "outputs": []
    },
    {
      "cell_type": "code",
      "metadata": {
        "id": "EYAJNct5DoYy"
      },
      "source": [
        "# Soubstract two matrix\n"
      ],
      "execution_count": null,
      "outputs": []
    },
    {
      "cell_type": "code",
      "metadata": {
        "id": "MwQe3BGYDuYx"
      },
      "source": [
        "# Scalar multiplication\n"
      ],
      "execution_count": null,
      "outputs": []
    },
    {
      "cell_type": "markdown",
      "metadata": {
        "id": "KE9L44nED-JK"
      },
      "source": [
        "##### Random"
      ]
    },
    {
      "cell_type": "code",
      "metadata": {
        "id": "MXJBsigRENMh"
      },
      "source": [
        "# Random 1d array in the value 0 and 1 (Ideal to simulate a random weight of a wallet for example)\n"
      ],
      "execution_count": null,
      "outputs": []
    },
    {
      "cell_type": "code",
      "metadata": {
        "id": "RwdBtqLAE3gi"
      },
      "source": [
        "# BONUS: How to find the shape of a array and transorfm 1d array to 2d array\n",
        "\n",
        "\n",
        "# Reshape\n",
        "\n",
        "\n",
        "# New shape\n"
      ],
      "execution_count": null,
      "outputs": []
    },
    {
      "cell_type": "code",
      "metadata": {
        "id": "ZxwK8rYLFGkC"
      },
      "source": [
        "# Random integer value\n"
      ],
      "execution_count": null,
      "outputs": []
    },
    {
      "cell_type": "code",
      "metadata": {
        "id": "x8wZZsWzlgHG"
      },
      "source": [
        "# Normal 1 Dim\n"
      ],
      "execution_count": null,
      "outputs": []
    },
    {
      "cell_type": "code",
      "metadata": {
        "id": "9BYKsDhxlz14"
      },
      "source": [
        "# Normal 2 Dim\n"
      ],
      "execution_count": null,
      "outputs": []
    },
    {
      "cell_type": "code",
      "metadata": {
        "id": "PP4qi331l_Lt"
      },
      "source": [
        "# Set the seed\n"
      ],
      "execution_count": null,
      "outputs": []
    },
    {
      "cell_type": "markdown",
      "metadata": {
        "id": "Qy6T6HOiGHaN"
      },
      "source": [
        "##### Indexing Slicing Transformation"
      ]
    },
    {
      "cell_type": "code",
      "metadata": {
        "id": "74oL7u6IGJMo"
      },
      "source": [
        "# Choose one value in a matrix\n"
      ],
      "execution_count": null,
      "outputs": []
    },
    {
      "cell_type": "code",
      "metadata": {
        "id": "5O0-kbMr2wOg"
      },
      "source": [
        ""
      ],
      "execution_count": null,
      "outputs": []
    },
    {
      "cell_type": "code",
      "metadata": {
        "id": "nSF6ccF1Ggx6"
      },
      "source": [
        "# Choose sub matrix in the matrix\n"
      ],
      "execution_count": null,
      "outputs": []
    },
    {
      "cell_type": "code",
      "metadata": {
        "id": "ks__IvR_GqHI"
      },
      "source": [
        "# Choose one columns or one row\n"
      ],
      "execution_count": null,
      "outputs": []
    },
    {
      "cell_type": "code",
      "metadata": {
        "id": "0AG2UdRAng9d"
      },
      "source": [
        "# Max\n",
        "# On the matrix\n",
        "\n",
        "# By the rows\n",
        "\n",
        "# By the columns\n"
      ],
      "execution_count": null,
      "outputs": []
    },
    {
      "cell_type": "code",
      "metadata": {
        "id": "omomB6aDoBnN"
      },
      "source": [
        "# Min\n",
        "# On the matrix\n",
        "\n",
        "\n",
        "# By the rows\n",
        "\n",
        "\n",
        "# By the columns\n"
      ],
      "execution_count": null,
      "outputs": []
    },
    {
      "cell_type": "code",
      "metadata": {
        "id": "Z-xixa41oE4X"
      },
      "source": [
        "# Mean\n",
        "# On the matrix\n",
        "\n",
        "\n",
        "# By the rows\n",
        "\n",
        "\n",
        "# By the columns\n"
      ],
      "execution_count": null,
      "outputs": []
    },
    {
      "cell_type": "code",
      "metadata": {
        "id": "WzvvyXXJoOeW"
      },
      "source": [
        "# Std\n",
        "# On the matrix\n",
        "\n",
        "\n",
        "# By the rows\n",
        "\n",
        "# By the columns\n"
      ],
      "execution_count": null,
      "outputs": []
    },
    {
      "cell_type": "code",
      "metadata": {
        "id": "4QRCdS8BoYL_"
      },
      "source": [
        "# Other way available \n"
      ],
      "execution_count": null,
      "outputs": []
    },
    {
      "cell_type": "code",
      "metadata": {
        "id": "JeSWgJteotgR"
      },
      "source": [
        "# Log function \n"
      ],
      "execution_count": null,
      "outputs": []
    },
    {
      "cell_type": "code",
      "metadata": {
        "id": "SvtkDDK9o4DB"
      },
      "source": [
        "# Exponential function \n"
      ],
      "execution_count": null,
      "outputs": []
    },
    {
      "cell_type": "code",
      "metadata": {
        "id": "vPpAz_CWo4eH"
      },
      "source": [
        "# Squared root function \n"
      ],
      "execution_count": null,
      "outputs": []
    },
    {
      "cell_type": "code",
      "metadata": {
        "id": "Fo7zIRfn39RL"
      },
      "source": [
        "# Concatenate \n",
        "# Params: tuple of arrays and the axis of the concatenation\n",
        "# Concat 1 dimension\n"
      ],
      "execution_count": null,
      "outputs": []
    },
    {
      "cell_type": "code",
      "metadata": {
        "id": "zSZV-n-X8-xx"
      },
      "source": [
        "# Concat 2 dimension\n"
      ],
      "execution_count": null,
      "outputs": []
    },
    {
      "cell_type": "code",
      "metadata": {
        "id": "aq0-jNt38_eq"
      },
      "source": [
        "# Concat 2 dimension\n"
      ],
      "execution_count": null,
      "outputs": []
    },
    {
      "cell_type": "markdown",
      "metadata": {
        "id": "7ilLgwf1HIMw"
      },
      "source": [
        "### Pandas"
      ]
    },
    {
      "cell_type": "code",
      "metadata": {
        "id": "DxZBaJicHJBJ"
      },
      "source": [
        ""
      ],
      "execution_count": null,
      "outputs": []
    },
    {
      "cell_type": "markdown",
      "metadata": {
        "id": "MLRfDnNGHUkI"
      },
      "source": [
        "##### Series and dataframes"
      ]
    },
    {
      "cell_type": "markdown",
      "metadata": {
        "id": "EdYvgavpJPGK"
      },
      "source": [
        "###### **Series**"
      ]
    },
    {
      "cell_type": "code",
      "metadata": {
        "id": "YG-fUIdLIuaA"
      },
      "source": [
        ""
      ],
      "execution_count": null,
      "outputs": []
    },
    {
      "cell_type": "code",
      "metadata": {
        "id": "SNo-p9PIJA3x"
      },
      "source": [
        "# Create a serie from a list\n"
      ],
      "execution_count": null,
      "outputs": []
    },
    {
      "cell_type": "code",
      "metadata": {
        "id": "_trjK8YSJHqR"
      },
      "source": [
        "# Create a serie from a array\n"
      ],
      "execution_count": null,
      "outputs": []
    },
    {
      "cell_type": "markdown",
      "metadata": {
        "id": "xLPPB2NOJUSq"
      },
      "source": [
        "###### **dataframes**"
      ]
    },
    {
      "cell_type": "code",
      "metadata": {
        "id": "XSqejMNzJJ2h"
      },
      "source": [
        ""
      ],
      "execution_count": null,
      "outputs": []
    },
    {
      "cell_type": "code",
      "metadata": {
        "id": "W8If1H15K8UA"
      },
      "source": [
        "# Create a dataframe from a array\n"
      ],
      "execution_count": null,
      "outputs": []
    },
    {
      "cell_type": "code",
      "metadata": {
        "id": "0B8yIH3vQ6i-"
      },
      "source": [
        "# Specify rows/columns\n"
      ],
      "execution_count": null,
      "outputs": []
    },
    {
      "cell_type": "markdown",
      "metadata": {
        "id": "XM6mdryCRCAm"
      },
      "source": [
        "##### Cleaning and selection"
      ]
    },
    {
      "cell_type": "code",
      "metadata": {
        "id": "pLc1A64XRGgz"
      },
      "source": [
        "# Import of csv\n"
      ],
      "execution_count": null,
      "outputs": []
    },
    {
      "cell_type": "code",
      "metadata": {
        "id": "ryhsmwSMRvNn"
      },
      "source": [
        "# Ordonning\n"
      ],
      "execution_count": null,
      "outputs": []
    },
    {
      "cell_type": "code",
      "metadata": {
        "id": "9ByJ7yg-TeOD"
      },
      "source": [
        "# Select a column\n"
      ],
      "execution_count": null,
      "outputs": []
    },
    {
      "cell_type": "code",
      "metadata": {
        "id": "ppgUESj5SAKm"
      },
      "source": [
        "# Reset index\n"
      ],
      "execution_count": null,
      "outputs": []
    },
    {
      "cell_type": "code",
      "metadata": {
        "id": "zSbtnwn8R4P3"
      },
      "source": [
        "# Missing values NaN\n"
      ],
      "execution_count": null,
      "outputs": []
    },
    {
      "cell_type": "code",
      "metadata": {
        "id": "DaUD8C16_Y_m"
      },
      "source": [
        "# Rolling \n"
      ],
      "execution_count": null,
      "outputs": []
    },
    {
      "cell_type": "code",
      "metadata": {
        "id": "b0V3RpnD_bxL"
      },
      "source": [
        "# Shift\n"
      ],
      "execution_count": null,
      "outputs": []
    },
    {
      "cell_type": "code",
      "metadata": {
        "id": "WFzrct4WA-7i"
      },
      "source": [
        "# Groupby by mean\n"
      ],
      "execution_count": null,
      "outputs": []
    },
    {
      "cell_type": "code",
      "metadata": {
        "id": "Jg9Z3NYyCvbd"
      },
      "source": [
        "# Groupby by sum\n"
      ],
      "execution_count": null,
      "outputs": []
    },
    {
      "cell_type": "code",
      "metadata": {
        "id": "-l-xwc-HC2MU"
      },
      "source": [
        "# Groupby by std\n"
      ],
      "execution_count": null,
      "outputs": []
    },
    {
      "cell_type": "markdown",
      "metadata": {
        "id": "D5KoCwIFT27I"
      },
      "source": [
        "##### Iloc & Loc"
      ]
    },
    {
      "cell_type": "code",
      "metadata": {
        "id": "J4Jy9QxKT5R9"
      },
      "source": [
        "# Slicing\n"
      ],
      "execution_count": null,
      "outputs": []
    },
    {
      "cell_type": "code",
      "metadata": {
        "id": "t0KS0q6zUCTn"
      },
      "source": [
        "# Conditonal by dates\n"
      ],
      "execution_count": null,
      "outputs": []
    },
    {
      "cell_type": "code",
      "metadata": {
        "id": "CU9dKTkVUMF8"
      },
      "source": [
        "# Conditonal by values\n"
      ],
      "execution_count": null,
      "outputs": []
    },
    {
      "cell_type": "code",
      "metadata": {
        "id": "5oXYx23B-wmb"
      },
      "source": [
        "# Concat some dataframes\n"
      ],
      "execution_count": null,
      "outputs": []
    },
    {
      "cell_type": "code",
      "metadata": {
        "id": "1YAkHm8yCm28"
      },
      "source": [
        "# Concat some dataframes\n"
      ],
      "execution_count": null,
      "outputs": []
    },
    {
      "cell_type": "markdown",
      "metadata": {
        "id": "aH-i3Tn3UjJ_"
      },
      "source": [
        "### Matplotlib"
      ]
    },
    {
      "cell_type": "code",
      "metadata": {
        "id": "b4N84DCAUohl"
      },
      "source": [
        ""
      ],
      "execution_count": null,
      "outputs": []
    },
    {
      "cell_type": "code",
      "metadata": {
        "id": "SvdLwfXmk91w"
      },
      "source": [
        ""
      ],
      "execution_count": null,
      "outputs": []
    },
    {
      "cell_type": "code",
      "metadata": {
        "id": "TKpXgOj6k99N"
      },
      "source": [
        "import matplotlib as mpl\n",
        "import matplotlib.pyplot as plt\n",
        "from matplotlib import cycler\n",
        "\n",
        "colors = cycler('color',\n",
        "                ['#669FEE', '#66EE91', '#9988DD',\n",
        "                 '#EECC55', '#88BB44', '#FFBBBB'])\n",
        "plt.rc('figure', facecolor='#313233')\n",
        "plt.rc('axes', facecolor=\"#313233\", edgecolor='none',\n",
        "       axisbelow=True, grid=True, prop_cycle=colors,\n",
        "       labelcolor='gray')\n",
        "plt.rc('grid', color='474A4A', linestyle='solid')\n",
        "plt.rc('xtick', color='gray')\n",
        "plt.rc('ytick', direction='out', color='gray')\n",
        "plt.rc('legend', facecolor=\"#313233\", edgecolor=\"#313233\")\n",
        "plt.rc(\"text\", color=\"#C9C9C9\")\n",
        "plt.rc('figure', facecolor='#313233')"
      ],
      "execution_count": null,
      "outputs": []
    },
    {
      "cell_type": "markdown",
      "metadata": {
        "id": "C6_cmiswU2AW"
      },
      "source": [
        "##### Graphs"
      ]
    },
    {
      "cell_type": "code",
      "metadata": {
        "id": "iBorfFcRwi42"
      },
      "source": [
        "# data simulation\n",
        "\n",
        "\n",
        "# square of arr\n",
        "\n",
        "\n",
        "# Mutltiplication of arr\n"
      ],
      "execution_count": null,
      "outputs": []
    },
    {
      "cell_type": "code",
      "metadata": {
        "id": "noAG7_QvvTk1"
      },
      "source": [
        "# Plot the data\n",
        "\n",
        "\n",
        "# Change the xlabel \n",
        "\n",
        "\n",
        "# Change the ylabel \n",
        "\n",
        "\n",
        "# Change the title \n",
        "\n",
        "# Put a legend\n",
        "\n",
        "\n",
        "# Show the chart\n",
        "\n"
      ],
      "execution_count": null,
      "outputs": []
    },
    {
      "cell_type": "markdown",
      "metadata": {
        "id": "asuSI8Jg0EaC"
      },
      "source": [
        "##### Scatter"
      ]
    },
    {
      "cell_type": "code",
      "metadata": {
        "id": "O6Nrf3rvwCk7"
      },
      "source": [
        "# Point clouds\n",
        "\n",
        "\n",
        "# Change the xlabel \n",
        "\n",
        "\n",
        "# Change the ylabel \n",
        "\n",
        "\n",
        "# Change the title \n",
        "\n",
        "\n",
        "# Put a legend\n",
        "\n",
        "\n",
        "# Show the plot\n"
      ],
      "execution_count": null,
      "outputs": []
    },
    {
      "cell_type": "markdown",
      "metadata": {
        "id": "ppony41B0G1i"
      },
      "source": [
        "##### Tools "
      ]
    },
    {
      "cell_type": "code",
      "metadata": {
        "id": "TO9JX-7fzXL0"
      },
      "source": [
        "# Adapt the size\n",
        "\n",
        "\n",
        "# Plot the line\n",
        "\n",
        "\n",
        "# Plot the line\n",
        "\n",
        "\n",
        "# Plot the line\n",
        "\n",
        "\n",
        "# Change the ylabel \n",
        "\n",
        "\n",
        "# Change the title \n",
        "\n",
        "\n",
        "# Put a legend\n",
        "\n",
        "\n",
        "# show the plot\n"
      ],
      "execution_count": null,
      "outputs": []
    }
  ]
}