{
  "nbformat": 4,
  "nbformat_minor": 0,
  "metadata": {
    "colab": {
      "name": "Search_Option_Par(skeleton_)1.ipynb",
      "provenance": [],
      "collapsed_sections": [
        "0U_ebRkyAyOo"
      ]
    },
    "kernelspec": {
      "name": "python3",
      "display_name": "Python 3"
    },
    "language_info": {
      "name": "python"
    }
  },
  "cells": [
    {
      "cell_type": "markdown",
      "metadata": {
        "id": "eA7gvCR3Av6p"
      },
      "source": [
        "\n",
        "<p><img alt=\"Colaboratory logo\" height=\"45px\" src=\"https://www.quantreo.com/wp-content/uploads/2021/04/cropped-Logo_Quantreo_transparent.png\" align=\"left\" hspace=\"10px\" vspace=\"0px\"></p>\n",
        "\n",
        "# Hyper Paramaters optimization\n",
        "The objective is to allow you to find the optimal parameters of our strategy.\n",
        "\n",
        "<br> \n",
        "### Content \n",
        "* Heatmap parameter selection\n",
        "* Statistics parameter selection\n",
        "* Create a function"
      ]
    },
    {
      "cell_type": "markdown",
      "metadata": {
        "id": "0U_ebRkyAyOo"
      },
      "source": [
        "### Environnement"
      ]
    },
    {
      "cell_type": "code",
      "metadata": {
        "id": "FfeguOzZgUXi",
        "colab": {
          "base_uri": "https://localhost:8080/"
        },
        "outputId": "b33f9c91-1491-414b-98bc-ddc3397028d0"
      },
      "source": [
        "!pip install ta\n",
        "!pip install yfinance"
      ],
      "execution_count": null,
      "outputs": [
        {
          "output_type": "stream",
          "name": "stdout",
          "text": [
            "Requirement already satisfied: ta in /usr/local/lib/python3.7/dist-packages (0.7.0)\n",
            "Requirement already satisfied: numpy in /usr/local/lib/python3.7/dist-packages (from ta) (1.19.5)\n",
            "Requirement already satisfied: pandas in /usr/local/lib/python3.7/dist-packages (from ta) (1.1.5)\n",
            "Requirement already satisfied: pytz>=2017.2 in /usr/local/lib/python3.7/dist-packages (from pandas->ta) (2018.9)\n",
            "Requirement already satisfied: python-dateutil>=2.7.3 in /usr/local/lib/python3.7/dist-packages (from pandas->ta) (2.8.2)\n",
            "Requirement already satisfied: six>=1.5 in /usr/local/lib/python3.7/dist-packages (from python-dateutil>=2.7.3->pandas->ta) (1.15.0)\n",
            "Requirement already satisfied: yfinance in /usr/local/lib/python3.7/dist-packages (0.1.63)\n",
            "Requirement already satisfied: lxml>=4.5.1 in /usr/local/lib/python3.7/dist-packages (from yfinance) (4.6.3)\n",
            "Requirement already satisfied: numpy>=1.15 in /usr/local/lib/python3.7/dist-packages (from yfinance) (1.19.5)\n",
            "Requirement already satisfied: requests>=2.20 in /usr/local/lib/python3.7/dist-packages (from yfinance) (2.23.0)\n",
            "Requirement already satisfied: multitasking>=0.0.7 in /usr/local/lib/python3.7/dist-packages (from yfinance) (0.0.9)\n",
            "Requirement already satisfied: pandas>=0.24 in /usr/local/lib/python3.7/dist-packages (from yfinance) (1.1.5)\n",
            "Requirement already satisfied: python-dateutil>=2.7.3 in /usr/local/lib/python3.7/dist-packages (from pandas>=0.24->yfinance) (2.8.2)\n",
            "Requirement already satisfied: pytz>=2017.2 in /usr/local/lib/python3.7/dist-packages (from pandas>=0.24->yfinance) (2018.9)\n",
            "Requirement already satisfied: six>=1.5 in /usr/local/lib/python3.7/dist-packages (from python-dateutil>=2.7.3->pandas>=0.24->yfinance) (1.15.0)\n",
            "Requirement already satisfied: certifi>=2017.4.17 in /usr/local/lib/python3.7/dist-packages (from requests>=2.20->yfinance) (2021.5.30)\n",
            "Requirement already satisfied: chardet<4,>=3.0.2 in /usr/local/lib/python3.7/dist-packages (from requests>=2.20->yfinance) (3.0.4)\n",
            "Requirement already satisfied: urllib3!=1.25.0,!=1.25.1,<1.26,>=1.21.1 in /usr/local/lib/python3.7/dist-packages (from requests>=2.20->yfinance) (1.24.3)\n",
            "Requirement already satisfied: idna<3,>=2.5 in /usr/local/lib/python3.7/dist-packages (from requests>=2.20->yfinance) (2.10)\n"
          ]
        }
      ]
    },
    {
      "cell_type": "code",
      "metadata": {
        "id": "XBsUPTuxCRt9"
      },
      "source": [
        "import pandas as pd\n",
        "import ta\n",
        "import yfinance as yf\n",
        "\n",
        "import seaborn as sns\n",
        "\n",
        "import numpy as np\n",
        "\n",
        "import warnings\n",
        "warnings.filterwarnings(\"ignore\")"
      ],
      "execution_count": null,
      "outputs": []
    },
    {
      "cell_type": "code",
      "metadata": {
        "id": "N9QL9HuqCODy"
      },
      "source": [
        "import matplotlib as mpl\n",
        "import matplotlib.pyplot as plt\n",
        "\n",
        "from matplotlib import cycler\n",
        "colors = cycler('color',\n",
        "                ['#669FEE', '#66EE91', '#9988DD',\n",
        "                 '#EECC55', '#88BB44', '#FFBBBB'])\n",
        "plt.rc('figure', facecolor='#313233')\n",
        "plt.rc('axes', facecolor=\"#313233\", edgecolor='none',\n",
        "       axisbelow=True, grid=True, prop_cycle=colors,\n",
        "       labelcolor='gray')\n",
        "plt.rc('grid', color='474A4A', linestyle='solid')\n",
        "plt.rc('xtick', color='gray')\n",
        "plt.rc('ytick', direction='out', color='gray')\n",
        "plt.rc('legend', facecolor=\"#313233\", edgecolor=\"#313233\")\n",
        "plt.rc(\"text\", color=\"#C9C9C9\")\n",
        "plt.rc('figure', facecolor='#313233')"
      ],
      "execution_count": null,
      "outputs": []
    },
    {
      "cell_type": "markdown",
      "metadata": {
        "id": "6GoH3l5cAkWt"
      },
      "source": [
        "### Functions"
      ]
    },
    {
      "cell_type": "code",
      "metadata": {
        "id": "MtljpiLZATrs"
      },
      "source": [
        "def RSI(val,neutral, window):\n",
        "  \"\"\" \n",
        "        ------------------------------------------------------------------------------\n",
        "        | Output: The function gives the returns of RSI strategy                     |\n",
        "        ------------------------------------------------------------------------------\n",
        "        | Inputs: -val (type dataframe pandas): Entry values of the stock            |\n",
        "        |         -neutral (float): Value of neutrality, i.e. no action zone         |\n",
        "        |         -window (float): rolling period for RSI                            |\n",
        "        ------------------------------------------------------------------------------\n",
        "  \"\"\"\n",
        "\n",
        "  # Print Error if there is no column Adj Close in the dataframe\n",
        "  if \"Adj Close\" not in val.columns:\n",
        "    ValueError(\"We need have a columns name Adj Close because all computation are about this column\")\n",
        "  \n",
        "  val[\"rsi\"] = ta.momentum.RSIIndicator(f[\"Adj Close\"], window=window).rsi()\n",
        "\n",
        "\n",
        "  \n",
        "  \"\"\" Long buy Signal \"\"\"\n",
        "  # We put threshold\n",
        "  overbuy = 70\n",
        "  neutral_buy = 50 + neutral\n",
        "\n",
        "  # Put nan values for the signal long columns\n",
        "  val[\"signal_long\"] = np.nan\n",
        "  val[\"yersteday_rsi\"] = f[\"rsi\"].shift(1)\n",
        "  # We need define the Open Long signal (RSI yersteday<55 and RSI today>55)\n",
        "  val.loc[(val[\"rsi\"]>neutral_buy) & (val[\"yersteday_rsi\"]<neutral_buy), \"signal_long\"] = 1\n",
        "\n",
        "  # We need define the Close Long signal (RSI yersteday>55 and RSI today<55) False signal\n",
        "  val.loc[(val[\"rsi\"]<neutral_buy)&(val[\"yersteday_rsi\"]>neutral_buy), \"signal_long\"] = 0\n",
        "\n",
        "  # We need define the Close Long signal (RSI yersteday>70 and RSI today<70) Over buy signal\n",
        "  val.loc[(val[\"rsi\"]<overbuy)&(val[\"yersteday_rsi\"]>overbuy), \"signal_long\"] = 0\n",
        "\n",
        "\n",
        "\n",
        "  \"\"\"Short sell signal \"\"\"\n",
        "  # We put threshold\n",
        "  oversell = 30\n",
        "  neutral_buy = 50 - neutral\n",
        "\n",
        "  # Put nan values for the signal short columns\n",
        "  val[\"signal_short\"] = np.nan\n",
        "  val[\"yersteday_rsi\"] = val[\"rsi\"].shift(1)\n",
        "  # We need define the Open Short signal (RSI yersteday>45 and RSI today<45)\n",
        "  val.loc[(val[\"rsi\"]<neutral_buy) & (val[\"yersteday_rsi\"]>neutral_buy), \"signal_short\"] = -1\n",
        "\n",
        "  # We need define the Close Short signal (RSI yersteday<45 and RSI today>45) False signal\n",
        "  val.loc[(val[\"rsi\"]>neutral_buy)&(val[\"yersteday_rsi\"]<neutral_buy), \"signal_short\"] = 0\n",
        "\n",
        "  # We need define the Close Short signal (RSI yersteday<30 and RSI today>30) Over sell signal\n",
        "  val.loc[(val[\"rsi\"]>oversell)&(val[\"yersteday_rsi\"]<oversell), \"signal_short\"] = 0\n",
        "\n",
        "\n",
        "  \"\"\" Compute the returns \"\"\"\n",
        "  # Compute the percentage of variation of the asset\n",
        "  val[\"pct\"] = val[\"Adj Close\"].pct_change(1)\n",
        "\n",
        "  # Compute the positions\n",
        "  val[\"Position\"] = (val[\"signal_short\"].fillna(method=\"ffill\")+ val[\"signal_long\"].fillna(method=\"ffill\"))\n",
        "\n",
        "  # Compute the return of the strategy\n",
        "  val[\"return\"] = val[\"pct\"]*(val[\"Position\"].shift(1))\n",
        "\n",
        "  return val[\"return\"]"
      ],
      "execution_count": null,
      "outputs": []
    },
    {
      "cell_type": "code",
      "metadata": {
        "id": "cYwkAG1YwLdy"
      },
      "source": [
        "def drawdown_function(serie):\n",
        "  \n",
        "  # We compute Cumsum of the returns\n",
        "  cum = serie.dropna().cumsum()+1\n",
        "\n",
        "  # We compute max of the cumsum on the period (accumulate max)\n",
        "  running_max = np.maximum.accumulate(cum)\n",
        "\n",
        "  # We compute drawdown\n",
        "  drawdown  = cum/running_max - 1 \n",
        "  return drawdown"
      ],
      "execution_count": null,
      "outputs": []
    },
    {
      "cell_type": "code",
      "metadata": {
        "id": "TyInDIGZAcJz"
      },
      "source": [
        "def BackTest(serie):\n",
        "\n",
        "  # Import the benchmarcl\n",
        "  sp500 = yf.download(\"^GSPC\")[\"Adj Close\"].pct_change(1)\n",
        "  sp500.columns = [\"SP500\"]\n",
        "\n",
        "  val = pd.concat((serie, sp500), axis=1).dropna()\n",
        "  \n",
        "  # Compute the drawdown\n",
        "  drawdown = drawdown_function(serie)\n",
        "  max_drawdown = -np.min(drawdown)\n",
        "\n",
        "  # Put a subplots\n",
        "  fig, (cum, dra) = plt.subplots(1,2, figsize=(15,6))\n",
        "  \n",
        "  # Put a Suptitle\n",
        "  fig.suptitle(\"Backtesting\", size=20)\n",
        "\n",
        "  # Put the cumsum\n",
        "  cum.plot(serie.cumsum(), color=\"#39B3C7\")\n",
        "  cum.plot(val[\"Adj Close\"].cumsum(), color=\"#B85A0F\")\n",
        "  cum.legend([\"Portfolio\", \"SP500\"])\n",
        "  # Set individual title\n",
        "  cum.set_title(\"Cumulative Return\", size=13)\n",
        "\n",
        "  # Put the drawdown\n",
        "  dra.fill_between(drawdown.index,0,drawdown, color=\"#C73954\", alpha=0.65)\n",
        "\n",
        "  # Set individual title\n",
        "  dra.set_title(\"Drawdown\", size=13)\n",
        "\n",
        "  # Plot the graph\n",
        "  plt.show()\n",
        "\n",
        "  # Compute the sortino\n",
        "  sortino = np.sqrt(252)*serie.mean()/serie.loc[serie<0].std()\n",
        "\n",
        "  # Compute the beta\n",
        "  beta = np.cov(val,rowvar=False)[0][1] /np.var(val[\"Adj Close\"].dropna())\n",
        "\n",
        "  # Compute the alpha\n",
        "  alpha = 252*serie.mean() - 252*beta*serie.mean()\n",
        "\n",
        "  # Print the statistics\n",
        "  print(f\"Sortino: {np.round(sortino,3)}\")\n",
        "  print(f\"Beta: {np.round(beta,3)}\")\n",
        "  print(f\"Alpha: {np.round(alpha,3)}\")\n",
        "  print(f\"MaxDrawdown: {np.round(max_drawdown*100,3)} %\")\n"
      ],
      "execution_count": null,
      "outputs": []
    },
    {
      "cell_type": "markdown",
      "metadata": {
        "id": "jYvGs7pDA4yG"
      },
      "source": [
        "# Section 1: Heatmap parameter selection"
      ]
    },
    {
      "cell_type": "code",
      "metadata": {
        "id": "TZPeuGImBFyS"
      },
      "source": [
        "# Import the data\n",
        "\n",
        "\n",
        "# We set lists for the possible values of neutral and window\n",
        "\n",
        "\n",
        "\n",
        "# We set matrix with only zeros \n",
        "\n",
        "\n",
        "# We wil calculate the return of the strategy for each combinations\n",
        "\n",
        "\n",
        "    # Compute return strategy\n",
        "\n",
        "    # Compute annualized sortino\n",
        "\n",
        "\n",
        "# Adapt the size\n",
        "\n",
        "\n",
        "# Palette for color\n",
        "\n",
        "\n",
        "# Plot the heatmap\n",
        "\n",
        "\n",
        "# Put a title\n",
        "\n",
        "\n",
        "# Put a xlabel\n",
        "\n",
        "\n",
        "# Put a xlabel\n",
        "\n",
        "\n",
        "# Show the graph\n",
        "\n"
      ],
      "execution_count": null,
      "outputs": []
    },
    {
      "cell_type": "code",
      "metadata": {
        "id": "uJnz5eNqAIKl"
      },
      "source": [
        "# We create just a function for the previous code\n",
        "def grid_parameters(f):\n",
        "\n",
        "  # We set lists for the possible values of neutral and window\n",
        "\n",
        "\n",
        "  # We set matrix with only zeros \n",
        "\n",
        "\n",
        "\n",
        "  # We wil calculate the return of the strategy for each combinaison\n",
        "\n",
        "\n",
        "\n",
        "\n",
        "      # Compute return strategy\n",
        "\n",
        "\n",
        "      # Compute annualized sortino\n",
        "\n",
        "\n"
      ],
      "execution_count": null,
      "outputs": []
    },
    {
      "cell_type": "code",
      "metadata": {
        "id": "xq-_oi0uAL-G"
      },
      "source": [
        "# We set lists for the possible values of neutral and window\n",
        "\n",
        "\n",
        "\n",
        "# Set some datasets\n",
        "\n",
        "\n",
        "# Create the grids\n",
        "\n",
        "\n",
        "\n",
        "# Create a subplots\n",
        "\n",
        "\n",
        "# Put a sup title\n",
        "\n",
        "\n",
        "# Change the color\n",
        "\n",
        "\n",
        "# Train\n",
        "# Put train heatmap\n",
        "\n",
        "# Set a title\n",
        "\n",
        "# Set a xlabel\n",
        "\n",
        "# Set a ylabel\n",
        "\n",
        "\n",
        "\n",
        "# Test\n",
        "# Put test heatmap\n",
        "\n",
        "# Set a title\n",
        "\n",
        "# Set a xlabel\n",
        "\n",
        "# Set a ylabel\n",
        "\n",
        "\n",
        "# Show the graph\n",
        "\n"
      ],
      "execution_count": null,
      "outputs": []
    },
    {
      "cell_type": "code",
      "metadata": {
        "id": "aoM5V90kA52F"
      },
      "source": [
        "# BackTest\n"
      ],
      "execution_count": null,
      "outputs": []
    },
    {
      "cell_type": "markdown",
      "metadata": {
        "id": "xep5t-CXE9UP"
      },
      "source": [
        "# Section 2: Statistics parameter selection"
      ]
    },
    {
      "cell_type": "code",
      "metadata": {
        "id": "8Exi_FZ1glZn"
      },
      "source": [
        "# statistical slection parameters\n",
        "\n",
        "# We set lists for the possible values of neutral and window\n",
        "\n",
        "\n",
        "\n",
        "\n",
        "# Set some Border of the datasets\n",
        "\n",
        "\n",
        "\n",
        "# Initialize the list\n",
        "\n",
        "\n",
        "\n",
        "# Loop to add the values in the list\n",
        "\n",
        "\n",
        "\n",
        "      # Compute the returns\n",
        "\n",
        "\n",
        "\n",
        "      # Compute the sortino\n",
        "\n",
        "\n",
        "      # We do list of list to do a dataframe\n"
      ],
      "execution_count": null,
      "outputs": []
    },
    {
      "cell_type": "code",
      "metadata": {
        "id": "zQwg998nEIqh"
      },
      "source": [
        "# Order by Sortino\n",
        "\n",
        "\n",
        "    # Take the best\n",
        "\n",
        "\n",
        "\n",
        "\n",
        "    # Compute the sortino\n",
        "\n",
        "    # Take best neutral and best window\n",
        "\n",
        "    # If the Sortino of the train and the test are good we stop the loop\n",
        "\n",
        "\n",
        "    # If there is no values enought good the put 0 in all values\n",
        "\n",
        "\n"
      ],
      "execution_count": null,
      "outputs": []
    },
    {
      "cell_type": "code",
      "metadata": {
        "id": "vZjx7nuJ071A"
      },
      "source": [
        "# Plot the values\n",
        "\n"
      ],
      "execution_count": null,
      "outputs": []
    },
    {
      "cell_type": "code",
      "metadata": {
        "id": "P_mxWRkh1DgS"
      },
      "source": [
        "# BackTest\n"
      ],
      "execution_count": null,
      "outputs": []
    },
    {
      "cell_type": "markdown",
      "metadata": {
        "id": "EMPqcHPMvrDD"
      },
      "source": [
        "# Section 3: Create a function to use it in the next sections"
      ]
    },
    {
      "cell_type": "code",
      "metadata": {
        "id": "p8edXzdQvuI1"
      },
      "source": [
        "def opt(f):\n",
        "  # We set lists for the possible values of neutral and window\n",
        "\n",
        "\n",
        "  # Set some Border of the datasets\n",
        "\n",
        "\n",
        "\n",
        "  # Initialize the list\n",
        "\n",
        "\n",
        "  # Loop to add the values in the list\n",
        "\n",
        "\n",
        "  \n",
        "        # Compute the returns\n",
        "\n",
        "\n",
        "        # Compute the sortino\n",
        "\n",
        "\n",
        "        # We do list of list to do a dataframe\n",
        "\n",
        "\n",
        "\n",
        "  # Order by Sortino\n",
        "\n",
        "\n",
        "\n",
        " \n",
        "\n",
        "    # Take the best\n",
        "\n",
        "    # Compute the sortino\n",
        "\n",
        "\n",
        "    # Take best neutral and best window\n",
        " \n",
        "\n",
        "    # If the Sortino of the train and the test are good we stop the loop\n",
        "\n",
        "\n",
        "\n",
        "\n",
        "   # If there is no values enought good the put 0 in all values\n",
        "\n"
      ],
      "execution_count": null,
      "outputs": []
    },
    {
      "cell_type": "code",
      "metadata": {
        "id": "x_d2WmeS5sZb"
      },
      "source": [
        "# Find optimal parameters\n"
      ],
      "execution_count": null,
      "outputs": []
    },
    {
      "cell_type": "code",
      "metadata": {
        "id": "rcpFm3JZ5tqz"
      },
      "source": [
        "# BackTest\n"
      ],
      "execution_count": null,
      "outputs": []
    }
  ]
}