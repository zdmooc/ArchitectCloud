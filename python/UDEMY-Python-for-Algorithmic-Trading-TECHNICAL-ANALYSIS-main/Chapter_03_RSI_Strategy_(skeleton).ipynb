{
  "nbformat": 4,
  "nbformat_minor": 0,
  "metadata": {
    "colab": {
      "name": "RSI_Strategies_(skeleton).ipynb",
      "provenance": [],
      "collapsed_sections": [
        "dXWVcWhJr5EQ",
        "OcdzVKiB8ud_",
        "WWKAhkaW_hdd"
      ]
    },
    "kernelspec": {
      "name": "python3",
      "display_name": "Python 3"
    },
    "language_info": {
      "name": "python"
    }
  },
  "cells": [
    {
      "cell_type": "markdown",
      "metadata": {
        "id": "dXWVcWhJr5EQ"
      },
      "source": [
        "<p><img alt=\"Colaboratory logo\" height=\"45px\" src=\"https://www.quantreo.com/wp-content/uploads/2021/04/cropped-Logo_Quantreo_transparent.png\" align=\"left\" hspace=\"10px\" vspace=\"0px\"></p>\n",
        "\n",
        "# Strategy  with RSI\n",
        "\n",
        "In order to create the strategy of this section, we are going to import a new library which is the ta (technical analysis) library. The strategy will be created using the RSI indicator (detailed description in the next box).\n",
        "\n",
        "### Content\n",
        "\n",
        "* Explanation and computation of the RSI\n",
        "* Do a strategy with the RSI\n",
        "* Automate the strategy "
      ]
    },
    {
      "cell_type": "code",
      "metadata": {
        "id": "gUPSDD5DrwYb",
        "colab": {
          "base_uri": "https://localhost:8080/"
        },
        "outputId": "6abfcd80-028e-4317-8adf-023546bb80d5"
      },
      "source": [
        "!pip install ta\n",
        "!pip install yfinance\n",
        "!pip install hurst"
      ],
      "execution_count": null,
      "outputs": [
        {
          "output_type": "stream",
          "text": [
            "Collecting ta\n",
            "  Downloading https://files.pythonhosted.org/packages/a9/22/a355ecf2d67da8150332d22ef65c3a1f79109528279bf5d40735b6f2bd72/ta-0.7.0.tar.gz\n",
            "Requirement already satisfied: numpy in /usr/local/lib/python3.7/dist-packages (from ta) (1.19.5)\n",
            "Requirement already satisfied: pandas in /usr/local/lib/python3.7/dist-packages (from ta) (1.1.5)\n",
            "Requirement already satisfied: python-dateutil>=2.7.3 in /usr/local/lib/python3.7/dist-packages (from pandas->ta) (2.8.1)\n",
            "Requirement already satisfied: pytz>=2017.2 in /usr/local/lib/python3.7/dist-packages (from pandas->ta) (2018.9)\n",
            "Requirement already satisfied: six>=1.5 in /usr/local/lib/python3.7/dist-packages (from python-dateutil>=2.7.3->pandas->ta) (1.15.0)\n",
            "Building wheels for collected packages: ta\n",
            "  Building wheel for ta (setup.py) ... \u001b[?25l\u001b[?25hdone\n",
            "  Created wheel for ta: filename=ta-0.7.0-cp37-none-any.whl size=28716 sha256=15fd0884adf4bf0575a027713be5e37f159cfa88f4bbf693dd105a757be06e1c\n",
            "  Stored in directory: /root/.cache/pip/wheels/dd/88/30/de9553fb54a474eb7480b937cdbb140bdda613d29cf4da7994\n",
            "Successfully built ta\n",
            "Installing collected packages: ta\n",
            "Successfully installed ta-0.7.0\n",
            "Collecting yfinance\n",
            "  Downloading https://files.pythonhosted.org/packages/5e/4e/88d31f5509edcbc51bcbb7eeae72516b17ada1bc2ad5b496e2d05d62c696/yfinance-0.1.60.tar.gz\n",
            "Requirement already satisfied: pandas>=0.24 in /usr/local/lib/python3.7/dist-packages (from yfinance) (1.1.5)\n",
            "Requirement already satisfied: numpy>=1.15 in /usr/local/lib/python3.7/dist-packages (from yfinance) (1.19.5)\n",
            "Requirement already satisfied: requests>=2.20 in /usr/local/lib/python3.7/dist-packages (from yfinance) (2.23.0)\n",
            "Requirement already satisfied: multitasking>=0.0.7 in /usr/local/lib/python3.7/dist-packages (from yfinance) (0.0.9)\n",
            "Collecting lxml>=4.5.1\n",
            "\u001b[?25l  Downloading https://files.pythonhosted.org/packages/30/c0/d0526314971fc661b083ab135747dc68446a3022686da8c16d25fcf6ef07/lxml-4.6.3-cp37-cp37m-manylinux2014_x86_64.whl (6.3MB)\n",
            "\u001b[K     |████████████████████████████████| 6.3MB 8.3MB/s \n",
            "\u001b[?25hRequirement already satisfied: pytz>=2017.2 in /usr/local/lib/python3.7/dist-packages (from pandas>=0.24->yfinance) (2018.9)\n",
            "Requirement already satisfied: python-dateutil>=2.7.3 in /usr/local/lib/python3.7/dist-packages (from pandas>=0.24->yfinance) (2.8.1)\n",
            "Requirement already satisfied: chardet<4,>=3.0.2 in /usr/local/lib/python3.7/dist-packages (from requests>=2.20->yfinance) (3.0.4)\n",
            "Requirement already satisfied: urllib3!=1.25.0,!=1.25.1,<1.26,>=1.21.1 in /usr/local/lib/python3.7/dist-packages (from requests>=2.20->yfinance) (1.24.3)\n",
            "Requirement already satisfied: idna<3,>=2.5 in /usr/local/lib/python3.7/dist-packages (from requests>=2.20->yfinance) (2.10)\n",
            "Requirement already satisfied: certifi>=2017.4.17 in /usr/local/lib/python3.7/dist-packages (from requests>=2.20->yfinance) (2021.5.30)\n",
            "Requirement already satisfied: six>=1.5 in /usr/local/lib/python3.7/dist-packages (from python-dateutil>=2.7.3->pandas>=0.24->yfinance) (1.15.0)\n",
            "Building wheels for collected packages: yfinance\n",
            "  Building wheel for yfinance (setup.py) ... \u001b[?25l\u001b[?25hdone\n",
            "  Created wheel for yfinance: filename=yfinance-0.1.60-py2.py3-none-any.whl size=23819 sha256=503fa3ed01db1f662acd762c67d1bd6c28631104d4ba9f61c677cc42ea934383\n",
            "  Stored in directory: /root/.cache/pip/wheels/f0/be/a4/846f02c5985562250917b0ab7b33fff737c8e6e8cd5209aa3b\n",
            "Successfully built yfinance\n",
            "Installing collected packages: lxml, yfinance\n",
            "  Found existing installation: lxml 4.2.6\n",
            "    Uninstalling lxml-4.2.6:\n",
            "      Successfully uninstalled lxml-4.2.6\n",
            "Successfully installed lxml-4.6.3 yfinance-0.1.60\n",
            "Collecting hurst\n",
            "  Downloading https://files.pythonhosted.org/packages/02/4f/d3471ce0dca03a21d4c6640da07a6040c9cc800a937233086b6cea6a7dc2/hurst-0.0.5-py3-none-any.whl\n",
            "Requirement already satisfied: pandas>=0.18 in /usr/local/lib/python3.7/dist-packages (from hurst) (1.1.5)\n",
            "Requirement already satisfied: numpy>=1.10 in /usr/local/lib/python3.7/dist-packages (from hurst) (1.19.5)\n",
            "Requirement already satisfied: python-dateutil>=2.7.3 in /usr/local/lib/python3.7/dist-packages (from pandas>=0.18->hurst) (2.8.1)\n",
            "Requirement already satisfied: pytz>=2017.2 in /usr/local/lib/python3.7/dist-packages (from pandas>=0.18->hurst) (2018.9)\n",
            "Requirement already satisfied: six>=1.5 in /usr/local/lib/python3.7/dist-packages (from python-dateutil>=2.7.3->pandas>=0.18->hurst) (1.15.0)\n",
            "Installing collected packages: hurst\n",
            "Successfully installed hurst-0.0.5\n"
          ],
          "name": "stdout"
        }
      ]
    },
    {
      "cell_type": "code",
      "metadata": {
        "id": "tugEGelg9dEg"
      },
      "source": [
        "# import library\n",
        "\n",
        "import numpy as np\n",
        "import pandas as pd\n",
        "import yfinance as yf\n",
        "import matplotlib as mpl\n",
        "import matplotlib.pyplot as plt\n",
        "import seaborn as sns\n",
        "import ta\n",
        "from tqdm import tqdm\n",
        "from scipy.optimize import minimize\n",
        "from hurst import compute_Hc\n",
        "import warnings\n",
        "warnings.filterwarnings(\"ignore\")\n"
      ],
      "execution_count": null,
      "outputs": []
    },
    {
      "cell_type": "code",
      "metadata": {
        "id": "XKCd6BVN9wVN"
      },
      "source": [
        "# The code here will allow you to switch your graphics to dark mode for those who choose to code in dark mode\n",
        "\n",
        "import matplotlib as mpl\n",
        "import matplotlib.pyplot as plt\n",
        "from matplotlib import cycler\n",
        "colors = cycler('color',\n",
        "                ['#669FEE', '#66EE91', '#9988DD',\n",
        "                 '#EECC55', '#88BB44', '#FFBBBB'])\n",
        "plt.rc('figure', facecolor='#313233')\n",
        "plt.rc('axes', facecolor=\"#313233\", edgecolor='none',\n",
        "       axisbelow=True, grid=True, prop_cycle=colors,\n",
        "       labelcolor='gray')\n",
        "plt.rc('grid', color='474A4A', linestyle='solid')\n",
        "plt.rc('xtick', color='gray')\n",
        "plt.rc('ytick', direction='out', color='gray')\n",
        "plt.rc('legend', facecolor=\"#313233\", edgecolor=\"#313233\")\n",
        "plt.rc(\"text\", color=\"#C9C9C9\")"
      ],
      "execution_count": null,
      "outputs": []
    },
    {
      "cell_type": "markdown",
      "metadata": {
        "id": "OGMaOxKN8fIj"
      },
      "source": [
        "# Section 1: Explanation and computation of the RSI"
      ]
    },
    {
      "cell_type": "markdown",
      "metadata": {
        "id": "OcdzVKiB8ud_"
      },
      "source": [
        "### Explanation\n",
        "The RSI (Relative Strength Index) will allow you to understand the strength of a trend and identify the end of a trend. The RSI value will vary from 0 to 100.\n",
        "\n",
        "* If the RSI is around the 70 level, it is assumed that the instrument is overbought. This is a situation where prices have risen sharply, and the movement is likely to weaken.\n",
        "* If the RSI is around the 30 level, this is a technical signal that the instrument may be oversold. In this case, it is a situation where prices have fallen sharply, and the movement may now lose strength.\n",
        "* If the indicator oscillates horizontally around the 50 level, it means that the market is lacking a trend. The 50 level is the middle line that separates the bullish and bearish territories of the indicator...\n",
        "\n",
        "It should be taken into account that the RSI is an indicator of the oscillator family, so it will work a little less well in markets with less volatility, such as the stock market.\n",
        "\n",
        "\n"
      ]
    },
    {
      "cell_type": "code",
      "metadata": {
        "id": "h1JJCj3d8g5n"
      },
      "source": [
        "# Import the data\n"
      ],
      "execution_count": null,
      "outputs": []
    },
    {
      "cell_type": "code",
      "metadata": {
        "id": "-XXbHGPV84VI"
      },
      "source": [
        "# Compute the rsi\n"
      ],
      "execution_count": null,
      "outputs": []
    },
    {
      "cell_type": "code",
      "metadata": {
        "id": "CDLJ1aQy9UY_"
      },
      "source": [
        "# Plot the RSI with the overbuy and overell threshold\n",
        "\n",
        "# Adapt the size of the graph\n",
        "\n",
        "\n",
        "# View the RSI\n",
        "\n",
        "\n",
        "# View horizontal line for the Overbuy threshold (RSI=70)\n",
        "\n",
        "\n",
        "# View horizontal line for the Oversell threshold (RSI=30)\n",
        "\n",
        "\n",
        "# Put a title\n",
        "\n",
        "# Put a legend\n",
        "\n",
        "\n",
        "# Show the graph\n"
      ],
      "execution_count": null,
      "outputs": []
    },
    {
      "cell_type": "markdown",
      "metadata": {
        "id": "WWKAhkaW_hdd"
      },
      "source": [
        "# Section 2: Do a strategy with the RSI"
      ]
    },
    {
      "cell_type": "code",
      "metadata": {
        "id": "ANbatWwX9bRM"
      },
      "source": [
        "# Plot the RSI with the Long buy zone and Short sell zone\n",
        "\n",
        "# Adapt the size of the graph\n",
        "\n",
        "\n",
        "# View the RSI\n",
        "\n",
        "\n",
        "# View horizontal line for the Overbuy threshold (RSI=70)\n",
        "\n",
        "\n",
        "# View horizontal line for the Oversell threshold (RSI=30)\n",
        "\n",
        "# Put a title\n",
        "\n",
        "\n",
        "# Put a legend\n",
        "\n",
        "\n",
        "# Show the graph\n"
      ],
      "execution_count": null,
      "outputs": []
    },
    {
      "cell_type": "code",
      "metadata": {
        "id": "iWPzzOcAB7xq"
      },
      "source": [
        "# We define when the strategy must take a long buy or a short sell\n",
        "\n",
        "# We need define the Open Long signal and Close Long signal\n",
        "\n",
        "# We put threshold\n",
        "\n",
        "\n",
        "# Put nan values for the signal long columns\n",
        "\n",
        "# We need define the Open Long signal (RSI yersteday<55 and RSI today>55)\n",
        "\n",
        "\n",
        "# We need define the Close Long signal (RSI yersteday>55 and RSI today<55) False signal\n",
        "\n",
        "\n",
        "# We need define the Close Long signal (RSI yersteday>70 and RSI today<70) Over buy signal\n",
        "\n"
      ],
      "execution_count": null,
      "outputs": []
    },
    {
      "cell_type": "code",
      "metadata": {
        "id": "7reXdFbtFBzM"
      },
      "source": [
        "# We plot all the signla to be sure that they be correct\n",
        "\n",
        "# Select all signal in a index list to plot only this points\n",
        "\n",
        "\n",
        "\n",
        "# Adapt the size of the graph\n",
        "\n",
        "\n",
        "# Plot the points of the open long signal in green\n",
        "\n",
        "# Plot the points of the close long signal in blue\n",
        "\n",
        "# Plot the rsi to be sure that the conditions are completed\n",
        "\n",
        "# Show the graph\n",
        " "
      ],
      "execution_count": null,
      "outputs": []
    },
    {
      "cell_type": "code",
      "metadata": {
        "id": "e0ChOcWhFbpG"
      },
      "source": [
        "# We define when the strategy must take a long buy or a short sell\n",
        "\n",
        "# ******************************************************************************\n",
        "# We need define the Open Short signal and Close Short signal\n",
        "\n",
        "# We put threshold\n",
        "\n",
        "\n",
        "# Put nan values for the signal short columns\n",
        "\n",
        "# We need define the Open short signal (RSI yersteday>45 and RSI today<45)\n",
        "\n",
        "\n",
        "# We need define the Close short signal (RSI yersteday<45 and RSI today>45) False signal\n",
        "\n",
        "# We need define the Close short signal (RSI yersteday<30 and RSI today>30) Over sell signal\n"
      ],
      "execution_count": null,
      "outputs": []
    },
    {
      "cell_type": "code",
      "metadata": {
        "id": "wzKU8tXWGJO1"
      },
      "source": [
        "# We plot all the signal to be sure that they be correct\n",
        "\n",
        "\n",
        "\n",
        "# Adapt the size of the graph\n",
        "\n",
        "\n",
        "# Plot the points of the open short signal in red\n",
        "\n",
        "# Plot the points of the close short signal in blue\n",
        "\n",
        "# Plot the rsi to be sure that the conditions are completed\n",
        "\n",
        "# Show the graph\n"
      ],
      "execution_count": null,
      "outputs": []
    },
    {
      "cell_type": "code",
      "metadata": {
        "id": "r1IYLBYMtLus"
      },
      "source": [
        ""
      ],
      "execution_count": null,
      "outputs": []
    },
    {
      "cell_type": "code",
      "metadata": {
        "id": "ypclMptrLQ-s"
      },
      "source": [
        "# We plot all the signal to be sure that they be correct\n",
        "\n",
        "# Adapt the size of the graph\n",
        "\n",
        "# Plot the points of the short signal in red\n",
        "\n",
        "# Plot the points of the long signal in green\n",
        "\n",
        "# Plot the rsi to be sure that the conditions are completed\n",
        "\n",
        "# Show the graph\n"
      ],
      "execution_count": null,
      "outputs": []
    },
    {
      "cell_type": "code",
      "metadata": {
        "id": "g3q7vgVNczdn"
      },
      "source": [
        "# Compute the percentage of variation of the asset\n",
        "\n",
        "# Compute the return of the strategy\n",
        "\n",
        "\n"
      ],
      "execution_count": null,
      "outputs": []
    },
    {
      "cell_type": "markdown",
      "metadata": {
        "id": "3QL5TNaJYP3n"
      },
      "source": [
        "# Create a function to do the RSI strategy later\n"
      ]
    },
    {
      "cell_type": "code",
      "metadata": {
        "id": "JkFv5E1uYQbO"
      },
      "source": [
        "def RSI(val,neutral, window):\n",
        "  \"\"\" \n",
        "        ------------------------------------------------------------------------------\n",
        "        | Output: The function gives the returns of RSI strategy                     |\n",
        "        ------------------------------------------------------------------------------\n",
        "        | Inputs: -val (type dataframe pandas): Entry values of the stock            |\n",
        "        |         -neutral (float): Value of neutrality, i.e. no action zone         |\n",
        "        |         -window (float): rolling period for RSI                            |\n",
        "        ------------------------------------------------------------------------------\n",
        "  \"\"\"\n",
        "\n",
        "  # Print Error if there is no column Adj Close in the dataframe\n",
        "\n",
        "\n",
        "\n",
        "  \n",
        "  \"\"\" Long buy Signal \"\"\"\n",
        "  # We put threshold\n",
        "\n",
        "\n",
        "  # Put nan values for the signal long columns\n",
        "\n",
        "  # We need define the Open Long signal (RSI yersteday<55 and RSI today>55)\n",
        "\n",
        "  # We need define the Close Long signal (RSI yersteday>55 and RSI today<55) False signal\n",
        "\n",
        "  # We need define the Close Long signal (RSI yersteday>70 and RSI today<70) Over buy signal\n",
        "\n",
        "\n",
        "\n",
        "  \"\"\"Short sell signal \"\"\"\n",
        "  # We put threshold\n",
        "\n",
        "\n",
        "  # Put nan values for the signal short columns\n",
        "\n",
        "  # We need define the Open Short signal (RSI yersteday>45 and RSI today<45)\n",
        "\n",
        "\n",
        "  # We need define the Close Short signal (RSI yersteday<45 and RSI today>45) False signal\n",
        "\n",
        "  # We need define the Close Short signal (RSI yersteday<30 and RSI today>30) Over sell signal\n",
        "\n",
        "\n",
        "  \"\"\" Compute the returns \"\"\"\n",
        "  # Compute the percentage of variation of the asset\n",
        "\n",
        "\n",
        "  # Compute the positions\n",
        "\n",
        "  # Compute the return of the strategy\n"
      ],
      "execution_count": null,
      "outputs": []
    },
    {
      "cell_type": "code",
      "metadata": {
        "id": "2zpUD3P8Y1Z_"
      },
      "source": [
        ""
      ],
      "execution_count": null,
      "outputs": []
    }
  ]
}