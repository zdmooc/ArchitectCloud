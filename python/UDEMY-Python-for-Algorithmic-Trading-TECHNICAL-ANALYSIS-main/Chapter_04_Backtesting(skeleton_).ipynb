{
  "nbformat": 4,
  "nbformat_minor": 0,
  "metadata": {
    "colab": {
      "name": "BT1(skeleton_).ipynb",
      "provenance": [],
      "collapsed_sections": []
    },
    "kernelspec": {
      "name": "python3",
      "display_name": "Python 3"
    },
    "language_info": {
      "name": "python"
    }
  },
  "cells": [
    {
      "cell_type": "markdown",
      "metadata": {
        "id": "c0gX2s9FqJ6H"
      },
      "source": [
        "<p><img alt=\"Colaboratory logo\" height=\"45px\" src=\"https://www.quantreo.com/wp-content/uploads/2021/04/cropped-Logo_Quantreo_transparent.png\" align=\"left\" hspace=\"10px\" vspace=\"0px\"></p>\n",
        "\n",
        "# BackTesting\n",
        "Backtesting is an essential part of trading. Indeed, it is important to understand the behavior of your strategy in the past to be able to consider those of future.\n",
        "### Content\n",
        "\n",
        "* Sortino Beta Alpha\n",
        "* Drawdown \n",
        "* Create function BackTest to evaluate the strategy in the later sections"
      ]
    },
    {
      "cell_type": "markdown",
      "metadata": {
        "id": "dBbjGbqrtFrj"
      },
      "source": [
        "### Environnement"
      ]
    },
    {
      "cell_type": "code",
      "metadata": {
        "colab": {
          "base_uri": "https://localhost:8080/"
        },
        "id": "Tjz98gQfs9T-",
        "outputId": "ff7f81f0-e1dc-4f09-bf3c-7fb47040d447"
      },
      "source": [
        "!pip install yfinance\n",
        "!pip install ta"
      ],
      "execution_count": null,
      "outputs": [
        {
          "output_type": "stream",
          "text": [
            "Requirement already satisfied: yfinance in /usr/local/lib/python3.7/dist-packages (0.1.61)\n",
            "Requirement already satisfied: numpy>=1.15 in /usr/local/lib/python3.7/dist-packages (from yfinance) (1.19.5)\n",
            "Requirement already satisfied: requests>=2.20 in /usr/local/lib/python3.7/dist-packages (from yfinance) (2.23.0)\n",
            "Requirement already satisfied: pandas>=0.24 in /usr/local/lib/python3.7/dist-packages (from yfinance) (1.1.5)\n",
            "Requirement already satisfied: lxml>=4.5.1 in /usr/local/lib/python3.7/dist-packages (from yfinance) (4.6.3)\n",
            "Requirement already satisfied: multitasking>=0.0.7 in /usr/local/lib/python3.7/dist-packages (from yfinance) (0.0.9)\n",
            "Requirement already satisfied: certifi>=2017.4.17 in /usr/local/lib/python3.7/dist-packages (from requests>=2.20->yfinance) (2021.5.30)\n",
            "Requirement already satisfied: chardet<4,>=3.0.2 in /usr/local/lib/python3.7/dist-packages (from requests>=2.20->yfinance) (3.0.4)\n",
            "Requirement already satisfied: urllib3!=1.25.0,!=1.25.1,<1.26,>=1.21.1 in /usr/local/lib/python3.7/dist-packages (from requests>=2.20->yfinance) (1.24.3)\n",
            "Requirement already satisfied: idna<3,>=2.5 in /usr/local/lib/python3.7/dist-packages (from requests>=2.20->yfinance) (2.10)\n",
            "Requirement already satisfied: python-dateutil>=2.7.3 in /usr/local/lib/python3.7/dist-packages (from pandas>=0.24->yfinance) (2.8.1)\n",
            "Requirement already satisfied: pytz>=2017.2 in /usr/local/lib/python3.7/dist-packages (from pandas>=0.24->yfinance) (2018.9)\n",
            "Requirement already satisfied: six>=1.5 in /usr/local/lib/python3.7/dist-packages (from python-dateutil>=2.7.3->pandas>=0.24->yfinance) (1.15.0)\n",
            "Requirement already satisfied: ta in /usr/local/lib/python3.7/dist-packages (0.7.0)\n",
            "Requirement already satisfied: numpy in /usr/local/lib/python3.7/dist-packages (from ta) (1.19.5)\n",
            "Requirement already satisfied: pandas in /usr/local/lib/python3.7/dist-packages (from ta) (1.1.5)\n",
            "Requirement already satisfied: pytz>=2017.2 in /usr/local/lib/python3.7/dist-packages (from pandas->ta) (2018.9)\n",
            "Requirement already satisfied: python-dateutil>=2.7.3 in /usr/local/lib/python3.7/dist-packages (from pandas->ta) (2.8.1)\n",
            "Requirement already satisfied: six>=1.5 in /usr/local/lib/python3.7/dist-packages (from python-dateutil>=2.7.3->pandas->ta) (1.15.0)\n"
          ],
          "name": "stdout"
        }
      ]
    },
    {
      "cell_type": "code",
      "metadata": {
        "id": "TflLwK15qGcx"
      },
      "source": [
        "import matplotlib as mpl\n",
        "import matplotlib.pyplot as plt\n",
        "import numpy as np\n",
        "import ta\n",
        "import yfinance as yf\n",
        "import pandas as pd\n",
        "import warnings\n",
        "warnings.filterwarnings(\"ignore\")\n",
        "from matplotlib import cycler\n",
        "\n",
        "colors = cycler('color',\n",
        "                ['#669FEE', '#66EE91', '#9988DD',\n",
        "                 '#EECC55', '#88BB44', '#FFBBBB'])\n",
        "plt.rc('figure', facecolor='#313233')\n",
        "plt.rc('axes', facecolor=\"#313233\", edgecolor='none',\n",
        "       axisbelow=True, grid=True, prop_cycle=colors,\n",
        "       labelcolor='gray')\n",
        "plt.rc('grid', color='474A4A', linestyle='solid')\n",
        "plt.rc('xtick', color='gray')\n",
        "plt.rc('ytick', direction='out', color='gray')\n",
        "plt.rc('legend', facecolor=\"#313233\", edgecolor=\"#313233\")\n",
        "plt.rc(\"text\", color=\"#C9C9C9\")\n",
        "plt.rc('figure', facecolor='#313233')"
      ],
      "execution_count": null,
      "outputs": []
    },
    {
      "cell_type": "markdown",
      "metadata": {
        "id": "L1c5xbr7tLtP"
      },
      "source": [
        "### Function"
      ]
    },
    {
      "cell_type": "code",
      "metadata": {
        "id": "tFktNrSytNfH"
      },
      "source": [
        "def RSI(val,neutral, window):\n",
        "  \"\"\" \n",
        "        ------------------------------------------------------------------------------\n",
        "        | Output: The function gives the returns of RSI strategy                     |\n",
        "        ------------------------------------------------------------------------------\n",
        "        | Inputs: -val (type dataframe pandas): Entry values of the stock            |\n",
        "        |         -neutral (float): Value of neutrality, i.e. no action zone         |\n",
        "        |         -window (float): rolling period for RSI                            |\n",
        "        ------------------------------------------------------------------------------\n",
        "  \"\"\"\n",
        "\n",
        "  # Print Error if there is no column Adj Close in the dataframe\n",
        "  if \"Adj Close\" not in val.columns:\n",
        "    ValueError(\"We need have a columns name Adj Close because all computation are about this column\")\n",
        "  \n",
        "  val[\"rsi\"] = ta.momentum.RSIIndicator(f[\"Adj Close\"], window=window).rsi()\n",
        "\n",
        "\n",
        "  \n",
        "  \"\"\" Long buy Signal \"\"\"\n",
        "  # We put threshold\n",
        "  overbuy = 70\n",
        "  neutral_buy = 50 + neutral\n",
        "\n",
        "  # Put nan values for the signal long columns\n",
        "  val[\"signal_long\"] = np.nan\n",
        "  val[\"yersteday_rsi\"] = f[\"rsi\"].shift(1)\n",
        "  # We need define the Open Long signal (RSI yersteday<55 and RSI today>55)\n",
        "  val.loc[(val[\"rsi\"]>neutral_buy) & (val[\"yersteday_rsi\"]<neutral_buy), \"signal_long\"] = 1\n",
        "\n",
        "  # We need define the Close Long signal (RSI yersteday>55 and RSI today<55) False signal\n",
        "  val.loc[(val[\"rsi\"]<neutral_buy)&(val[\"yersteday_rsi\"]>neutral_buy), \"signal_long\"] = 0\n",
        "\n",
        "  # We need define the Close Long signal (RSI yersteday>70 and RSI today<70) Over buy signal\n",
        "  val.loc[(val[\"rsi\"]<overbuy)&(val[\"yersteday_rsi\"]>overbuy), \"signal_long\"] = 0\n",
        "\n",
        "\n",
        "\n",
        "  \"\"\"Short sell signal \"\"\"\n",
        "  # We put threshold\n",
        "  oversell = 30\n",
        "  neutral_buy = 50 - neutral\n",
        "\n",
        "  # Put nan values for the signal short columns\n",
        "  val[\"signal_short\"] = np.nan\n",
        "  val[\"yersteday_rsi\"] = val[\"rsi\"].shift(1)\n",
        "  # We need define the Open Short signal (RSI yersteday>45 and RSI today<45)\n",
        "  val.loc[(val[\"rsi\"]<neutral_buy) & (val[\"yersteday_rsi\"]>neutral_buy), \"signal_short\"] = -1\n",
        "\n",
        "  # We need define the Close Short signal (RSI yersteday<45 and RSI today>45) False signal\n",
        "  val.loc[(val[\"rsi\"]>neutral_buy)&(val[\"yersteday_rsi\"]<neutral_buy), \"signal_short\"] = 0\n",
        "\n",
        "  # We need define the Close Short signal (RSI yersteday<30 and RSI today>30) Over sell signal\n",
        "  val.loc[(val[\"rsi\"]>oversell)&(val[\"yersteday_rsi\"]<oversell), \"signal_short\"] = 0\n",
        "\n",
        "\n",
        "  \"\"\" Compute the returns \"\"\"\n",
        "  # Compute the percentage of variation of the asset\n",
        "  val[\"pct\"] = val[\"Adj Close\"].pct_change(1)\n",
        "\n",
        "  # Compute the positions\n",
        "  val[\"Position\"] = (val[\"signal_short\"].fillna(method=\"ffill\")+ val[\"signal_long\"].fillna(method=\"ffill\"))\n",
        "\n",
        "  # Compute the return of the strategy\n",
        "  val[\"return\"] = val[\"pct\"]*(val[\"Position\"].shift(1))\n",
        "\n",
        "  return val[\"return\"]"
      ],
      "execution_count": null,
      "outputs": []
    },
    {
      "cell_type": "markdown",
      "metadata": {
        "id": "hKMvnPIwslSn"
      },
      "source": [
        "# Section 1: Sortino Beta Alpha"
      ]
    },
    {
      "cell_type": "markdown",
      "metadata": {
        "id": "MvSQJefks3OP"
      },
      "source": [
        "###### Sortino\n",
        "The sortino ratio is a statistic similar to the sharpe ratio with the same interpretation. However, the calculation is slightly different. Indeed, in the sortino ratio we only take into account the volatility of the negative gains because that is what we fear and not the bullish gains that make us earn money. <br>\n",
        "<p align=\"center\">\n",
        "$Sortino = \\frac{\\mu }{\\sigma_{down}}$\n",
        "<p> <br>\n",
        "\n",
        "*   SortinoRatio < 0 : Not profitable investissement because you gains is negative.\n",
        "*   SortinoRatio < 1 : Profitable investissement but the risk of the investissement is higher than the returns.\n",
        "*   SortinoRatio > 1: Very good investissement because the risk is lower than the returns.\n"
      ]
    },
    {
      "cell_type": "code",
      "metadata": {
        "id": "m1Fuei6Ssmrk"
      },
      "source": [
        "# Prepare the data\n",
        "\n",
        "\n",
        "# Compute the sortino\n",
        "\n"
      ],
      "execution_count": null,
      "outputs": []
    },
    {
      "cell_type": "markdown",
      "metadata": {
        "id": "S2WSR_5vIAgR"
      },
      "source": [
        "###### Beta\n",
        "The beta is a statistic that indicates the relationship between the variations of our portfolio and those of the market which is represented by an index (for example SP500). <br>\n",
        "\n",
        "<p align=\"center\">\n",
        "$Beta = \\frac{Cov(r_{M},r_{PF}) }{Var(r_{M})}$\n",
        "<p> <br>\n",
        "\n",
        "\n",
        "\n",
        "*   abs(Beta) < 1: It is good because it means that your portfolio have a less variation than the index. (If beta=0.9 this means that if the index varies of 1 the portfolio varies by 0.9)\n",
        "*   abs(Beta) > 1: It is not a good thing because it means that your portfolio have a higher variation than the index. (If beta=1.1 this means that if the index varies of 1 the portfolio varies by 1.1)\n",
        "\n",
        "**abs(-x) = x = abs(x) (abs gives only the value of the variable not the sign)*\n"
      ]
    },
    {
      "cell_type": "code",
      "metadata": {
        "id": "-lUE91pbHhwv"
      },
      "source": [
        "# We need compute the covariance between the marlet and the portfolio \n",
        "\n",
        "\n",
        "# We conacate them to do the covariances\n",
        "\n",
        "# We compute beta \n",
        "\n"
      ],
      "execution_count": null,
      "outputs": []
    },
    {
      "cell_type": "markdown",
      "metadata": {
        "id": "ecanIMv7KEg3"
      },
      "source": [
        "###### **Alpha**\n",
        "Alpha is a statistic that indicates whether the portfolio outperforms the market in terms of risk return. <br>\n",
        "\n",
        "<p align=\"center\">\n",
        "$Alpha = r_{PF} - \\beta*(r_{PF} - r_{f}) - r_{f}$\n",
        "<p> <br>\n",
        "\n",
        "\n",
        "*   alpha > 0: The portfolio outperforms the market in terms of risk return\n",
        "*   alpha < 0: The portfolio underperforms the market in terms of risk return\n"
      ]
    },
    {
      "cell_type": "code",
      "metadata": {
        "id": "U3m9gBHCInQT"
      },
      "source": [
        "# We compute alpha\n"
      ],
      "execution_count": null,
      "outputs": []
    },
    {
      "cell_type": "markdown",
      "metadata": {
        "id": "jLkdFSptKhTk"
      },
      "source": [
        "# Section 2: Drawdown\n",
        "\n",
        "The drawdown is a measure of the risk of the strategy. An interesting statistic to know the performance of the algorithm is the maximum drawdown. Indeed, it represents the maximum loss of a strategy over a period of time which allows you to understand if the strategy is risky and thus choose it according to your level of risk aversion."
      ]
    },
    {
      "cell_type": "code",
      "metadata": {
        "id": "SYIRBGgEKUPD"
      },
      "source": [
        "def drawdown_function(serie):\n",
        "\n",
        "  # We compute Cumsum of the returns\n",
        "\n",
        "\n",
        "\n",
        "  # We compute max of the cumsum on the period (accumulate max)\n",
        "\n",
        "\n",
        "\n",
        "  # We compute drawdown\n",
        "\n",
        "\n"
      ],
      "execution_count": null,
      "outputs": []
    },
    {
      "cell_type": "code",
      "metadata": {
        "id": "AVF7wHtoLA9l"
      },
      "source": [
        "# We compute drawdown\n",
        "\n",
        "\n",
        "# Adapt figure size\n",
        "\n",
        "\n",
        "\n",
        "# Plot the drawdown\n",
        "\n",
        "\n",
        "# Put a title\n"
      ],
      "execution_count": null,
      "outputs": []
    },
    {
      "cell_type": "code",
      "metadata": {
        "id": "82ms70tbMQvx"
      },
      "source": [
        "# Computation Max drawdown\n"
      ],
      "execution_count": null,
      "outputs": []
    },
    {
      "cell_type": "markdown",
      "metadata": {
        "id": "pY-8oU31MiNr"
      },
      "source": [
        "# Section 3: Create function BackTest to evaluate the strategy in the later sections"
      ]
    },
    {
      "cell_type": "code",
      "metadata": {
        "id": "62IR-tyILvXa"
      },
      "source": [
        "def BackTest(serie):\n",
        "\n",
        "  # Import the benchmark\n",
        "\n",
        "  # Change the name\n",
        "\n",
        "  # Concat the returns and the sp500\n",
        "\n",
        "  # Compute the drawdown\n",
        "\n",
        "  # Compute max drawdown\n",
        "\n",
        "\n",
        "\n",
        "\n",
        "  # Put a subplots\n",
        "\n",
        "  # Put a Suptitle\n",
        "\n",
        "  # Returns cumsum chart\n",
        "\n",
        "  # SP500 cumsum chart\n",
        "\n",
        "  # Put a legend\n",
        "\n",
        "  # Set individual title\n",
        "\n",
        "  # Put the drawdown\n",
        "\n",
        "  # Set individual title\n",
        "\n",
        "  # Plot the graph\n",
        "\n",
        "\n",
        "\n",
        "\n",
        "  # Compute the sortino\n",
        "\n",
        "  # Compute the beta\n",
        "\n",
        "  # Compute the alpha\n",
        "\n",
        "  # Print the statistics\n",
        "\n"
      ],
      "execution_count": null,
      "outputs": []
    },
    {
      "cell_type": "code",
      "metadata": {
        "id": "b7GrDuebFDD7"
      },
      "source": [
        ""
      ],
      "execution_count": null,
      "outputs": []
    }
  ]
}